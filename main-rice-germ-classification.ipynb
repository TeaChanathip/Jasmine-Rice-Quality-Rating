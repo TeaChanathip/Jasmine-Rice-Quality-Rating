{
 "cells": [
  {
   "cell_type": "code",
   "execution_count": null,
   "metadata": {},
   "outputs": [],
   "source": [
    "from ultralytics import YOLO\n",
    "import torch\n",
    "import os\n",
    "import shutil\n",
    "from pathlib import Path\n",
    "import numpy as np\n",
    "import random\n",
    "import zipfile\n",
    "import pandas as pd\n",
    "import cv2"
   ]
  },
  {
   "cell_type": "code",
   "execution_count": null,
   "metadata": {},
   "outputs": [],
   "source": [
    "# set random seed\n",
    "random_seed = 42\n",
    "random.seed(random_seed)\n",
    "np.random.seed(random_seed)\n",
    "torch.manual_seed(random_seed)"
   ]
  },
  {
   "cell_type": "markdown",
   "metadata": {},
   "source": [
    "# Load dataset from kaggle"
   ]
  },
  {
   "cell_type": "code",
   "execution_count": null,
   "metadata": {},
   "outputs": [],
   "source": [
    "# this cell is for running in Kaggle\n",
    "# load kaggle.json from google drive\n",
    "# !gdown <item id>"
   ]
  },
  {
   "cell_type": "code",
   "execution_count": null,
   "metadata": {},
   "outputs": [],
   "source": [
    "# check if the kaggle.json file exists\n",
    "from sys import platform\n",
    "\n",
    "# Windows\n",
    "# C:\\Users\\<Windows-username>\\.kaggle\\kaggle.json\n",
    "if platform == \"win32\":\n",
    "    print(\"Windows\")\n",
    "    kaggle_json_path = os.path.join(os.path.expanduser(\"~\"), \".kaggle\", \"kaggle.json\")\n",
    "    if os.path.exists(kaggle_json_path):\n",
    "        print(\"kaggle.json exists\")\n",
    "    else:\n",
    "        print(\"kaggle.json does not exist\")\n",
    "        shutil.copy(\"./kaggle.json\", kaggle_json_path)\n",
    "        print(\"kaggle.json is copied to the directory\")\n",
    "\n",
    "# Linux\n",
    "# ~/.kaggle/kaggle.json\n",
    "elif platform == \"linux\" or platform == \"linux2\":\n",
    "    print(\"Linux\")\n",
    "    kaggle_json_path = os.path.join(os.path.expanduser(\"~\"), \".kaggle\", \"kaggle.json\")\n",
    "    if os.path.exists(kaggle_json_path):\n",
    "        print(\"kaggle.json exists\")\n",
    "    else:\n",
    "        print(\"kaggle.json does not exist\")\n",
    "        os.makedirs(os.path.join(os.path.expanduser(\"~\"), \".kaggle\"), exist_ok=True)\n",
    "        shutil.copy(\"./kaggle.json\", kaggle_json_path)\n",
    "        print(\"kaggle.json is copied to the directory\")\n",
    "\n",
    "# macOS\n",
    "# ~/.kaggle/kaggle.json\n",
    "elif platform == \"darwin\":\n",
    "    print(\"macOS\")\n",
    "    kaggle_json_path = os.path.join(os.path.expanduser(\"~\"), \".kaggle\", \"kaggle.json\")\n",
    "    if os.path.exists(kaggle_json_path):\n",
    "        print(\"kaggle.json exists\")\n",
    "    else:\n",
    "        print(\"kaggle.json does not exist\")\n",
    "        os.makedirs(os.path.join(os.path.expanduser(\"~\"), \".kaggle\"), exist_ok=True)\n",
    "        shutil.copy(\"./kaggle.json\", kaggle_json_path)\n",
    "        print(\"kaggle.json is copied to the directory\")"
   ]
  },
  {
   "cell_type": "code",
   "execution_count": null,
   "metadata": {},
   "outputs": [],
   "source": [
    "# download and unzip the dataset\n",
    "if(os.path.exists(\"./rice-image-dataset-for-object-detection\")):\n",
    "    print(\"The dataset is already downloaded\")\n",
    "else:\n",
    "    !kaggle datasets download -d alikhalilit98/rice-image-dataset-for-object-detection\n",
    "    with zipfile.ZipFile(\"rice-image-dataset-for-object-detection.zip\", 'r') as zip_ref:\n",
    "        zip_ref.extractall(\"./rice-image-dataset-for-rice-germ-detection\")"
   ]
  },
  {
   "cell_type": "code",
   "execution_count": null,
   "metadata": {},
   "outputs": [],
   "source": [
    "raw_dataset_path = './rice-image-dataset-for-rice-germ-detection'\n",
    "dataset_path = './rice-germ-cls-dataset'\n",
    "Path(dataset_path).mkdir(parents=True, exist_ok=True)\n",
    "Path(f'{dataset_path}/train/Good').mkdir(parents=True, exist_ok=True)\n",
    "Path(f'{dataset_path}/train/Moderate').mkdir(parents=True, exist_ok=True)\n",
    "Path(f'{dataset_path}/train/Bad').mkdir(parents=True, exist_ok=True)\n",
    "Path(f'{dataset_path}/val/Good').mkdir(parents=True, exist_ok=True)\n",
    "Path(f'{dataset_path}/val/Moderate').mkdir(parents=True, exist_ok=True)\n",
    "Path(f'{dataset_path}/val/Bad').mkdir(parents=True, exist_ok=True)"
   ]
  },
  {
   "cell_type": "code",
   "execution_count": null,
   "metadata": {},
   "outputs": [],
   "source": [
    "!gdown 1Gk73cVdNwL4PYF37XRBKa-lybbdE0k7O -O ./rice-germ-cls-dataset/rice-germ-1050labels.zip"
   ]
  },
  {
   "cell_type": "code",
   "execution_count": null,
   "metadata": {},
   "outputs": [],
   "source": [
    "with zipfile.ZipFile(f\"{dataset_path}/rice-germ-1050labels.zip\", 'r') as zip_ref:\n",
    "    zip_ref.extractall(path=dataset_path)"
   ]
  },
  {
   "cell_type": "markdown",
   "metadata": {},
   "source": [
    "# Splitting dataset"
   ]
  },
  {
   "cell_type": "code",
   "execution_count": null,
   "metadata": {},
   "outputs": [],
   "source": [
    "df = pd.read_csv(f\"{dataset_path}/rice-germ-1050labels.csv\")\n",
    "df.sort_values(by=['image_name'], inplace=True)\n",
    "df[:10]"
   ]
  },
  {
   "cell_type": "code",
   "execution_count": null,
   "metadata": {},
   "outputs": [],
   "source": [
    "from sklearn.model_selection import train_test_split\n",
    "\n",
    "raw_labels_path = f\"{dataset_path}/rice-germ-1050labels\"\n",
    "raw_images_path = f\"{raw_dataset_path}/Rice_Image_Dataset_OD/Jasmine\"\n",
    "\n",
    "data_lists = os.listdir(raw_labels_path)\n",
    "data_lists = [data_list.split(\".\")[0] for data_list in data_lists]\n",
    "print(data_lists[:10])\n",
    "\n",
    "train, val = train_test_split(data_lists, test_size=0.2, random_state=random_seed, stratify=df[\"label_name\"])\n",
    "print(f\"train: {len(train)}, val: {len(val)}\")"
   ]
  },
  {
   "cell_type": "code",
   "execution_count": null,
   "metadata": {},
   "outputs": [],
   "source": [
    "for x in train:\n",
    "    img_path = f\"{raw_images_path}/{x}.jpg\"\n",
    "    label_path = f\"{raw_labels_path}/{x}.txt\"\n",
    "    with open(label_path, \"r\") as f:\n",
    "        label = f.read(1) # 0: Good, 1: Moderate, 2: Bad\n",
    "    if label == \"0\":\n",
    "        shutil.copy(img_path, f\"{dataset_path}/train/Good\")\n",
    "    elif label == \"1\":\n",
    "        shutil.copy(img_path, f\"{dataset_path}/train/Moderate\")\n",
    "    elif label == \"2\":\n",
    "        shutil.copy(img_path, f\"{dataset_path}/train/Bad\")\n",
    "\n",
    "for x in val:\n",
    "    img_path = f\"{raw_images_path}/{x}.jpg\"\n",
    "    label_path = f\"{raw_labels_path}/{x}.txt\"\n",
    "    with open(label_path, \"r\") as f:\n",
    "        label = f.read(1) # 0: Good, 1: Moderate, 2: Bad\n",
    "    if label == \"0\":\n",
    "        shutil.copy(img_path, f\"{dataset_path}/val/Good\")\n",
    "    elif label == \"1\":\n",
    "        shutil.copy(img_path, f\"{dataset_path}/val/Moderate\")\n",
    "    elif label == \"2\":\n",
    "        shutil.copy(img_path, f\"{dataset_path}/val/Bad\")"
   ]
  },
  {
   "cell_type": "markdown",
   "metadata": {},
   "source": [
    "# Create yaml file"
   ]
  },
  {
   "cell_type": "code",
   "execution_count": null,
   "metadata": {},
   "outputs": [],
   "source": [
    "import yaml\n",
    "\n",
    "full_path = os.path.abspath(dataset_path)\n",
    "\n",
    "yaml_data = dict(\n",
    "    path = full_path,\n",
    "    train='train',\n",
    "    val='val',\n",
    "    nc=3,\n",
    "    names=['Good', 'Moderate', 'Bad']\n",
    ")\n",
    "\n",
    "with open(f\"{dataset_path}/data.yaml\", \"w\") as f:\n",
    "    yaml.dump(yaml_data, f, default_flow_style=False, sort_keys=False)"
   ]
  },
  {
   "cell_type": "markdown",
   "metadata": {},
   "source": [
    "# Train model"
   ]
  },
  {
   "cell_type": "code",
   "execution_count": null,
   "metadata": {},
   "outputs": [],
   "source": [
    "# training parameters\n",
    "epochs = 400\n",
    "batch = 320\n",
    "imgsz = 128"
   ]
  },
  {
   "cell_type": "code",
   "execution_count": null,
   "metadata": {},
   "outputs": [],
   "source": [
    "model = YOLO(\"yolov8x-cls.pt\")\n",
    "trained_model = model.train(data=dataset_path, epochs=epochs, batch=batch, imgsz=imgsz, device=\"0\", project=\"rice-germ-clssification\", name=\"run\", seed=random_seed)"
   ]
  },
  {
   "cell_type": "markdown",
   "metadata": {},
   "source": [
    "# Export model as onnx"
   ]
  },
  {
   "cell_type": "code",
   "execution_count": null,
   "metadata": {},
   "outputs": [],
   "source": [
    "run_path = \"./rice-germ-clssification\"\n",
    "model_path = \"runxxx\" # change this to the model path you want to use\n",
    "model_path = os.path.join(run_path, model_path)\n",
    "model_path_pt = os.path.join(model_path, \"weights\", \"best.pt\")"
   ]
  },
  {
   "cell_type": "code",
   "execution_count": null,
   "metadata": {},
   "outputs": [],
   "source": [
    "to_save_model = YOLO(model_path_pt)\n",
    "to_save_model.export(format=\"onnx\")\n",
    "model_path_onnx = os.path.join(model_path, \"weights\", \"best.onnx\")"
   ]
  },
  {
   "cell_type": "code",
   "execution_count": null,
   "metadata": {},
   "outputs": [],
   "source": [
    "import datetime\n",
    "from pathlib import Path\n",
    "\n",
    "to_save_path = \"./saved_model\"\n",
    "Path(to_save_path).mkdir(parents=True, exist_ok=True)\n",
    "\n",
    "time = datetime.datetime.now().strftime(\"%d%m%y%H%M\")\n",
    "\n",
    "# zip run17 folder into name seg-model-<ddmmyyhhmm>.zip\n",
    "zip_name = f\" rice-germ-cls-model-{time}\"\n",
    "\n",
    "shutil.make_archive(f\"{to_save_path}/{zip_name}_imgsz{imgsz}\", 'zip', model_path)"
   ]
  }
 ],
 "metadata": {
  "kernelspec": {
   "display_name": "Python 3",
   "language": "python",
   "name": "python3"
  },
  "language_info": {
   "codemirror_mode": {
    "name": "ipython",
    "version": 3
   },
   "file_extension": ".py",
   "mimetype": "text/x-python",
   "name": "python",
   "nbconvert_exporter": "python",
   "pygments_lexer": "ipython3",
   "version": "3.11.8"
  }
 },
 "nbformat": 4,
 "nbformat_minor": 2
}
