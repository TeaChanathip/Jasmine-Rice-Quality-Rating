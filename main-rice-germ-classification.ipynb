{
 "cells": [
  {
   "cell_type": "code",
   "execution_count": 1,
   "metadata": {},
   "outputs": [],
   "source": [
    "from ultralytics import YOLO\n",
    "import torch\n",
    "import os\n",
    "import shutil\n",
    "from pathlib import Path\n",
    "import numpy as np\n",
    "import random\n",
    "import zipfile\n",
    "import pandas as pd\n",
    "import cv2"
   ]
  },
  {
   "cell_type": "code",
   "execution_count": 2,
   "metadata": {},
   "outputs": [
    {
     "data": {
      "text/plain": [
       "<torch._C.Generator at 0x71a9c59dfb50>"
      ]
     },
     "execution_count": 2,
     "metadata": {},
     "output_type": "execute_result"
    }
   ],
   "source": [
    "# set random seed\n",
    "random_seed = 42\n",
    "random.seed(random_seed)\n",
    "np.random.seed(random_seed)\n",
    "torch.manual_seed(random_seed)"
   ]
  },
  {
   "cell_type": "markdown",
   "metadata": {},
   "source": [
    "# Load dataset from kaggle"
   ]
  },
  {
   "cell_type": "code",
   "execution_count": 3,
   "metadata": {},
   "outputs": [],
   "source": [
    "# this cell is for running in Kaggle\n",
    "# load kaggle.json from google drive\n",
    "# !gdown <item id>"
   ]
  },
  {
   "cell_type": "code",
   "execution_count": 4,
   "metadata": {},
   "outputs": [
    {
     "name": "stdout",
     "output_type": "stream",
     "text": [
      "Linux\n",
      "kaggle.json exists\n"
     ]
    }
   ],
   "source": [
    "# check if the kaggle.json file exists\n",
    "from sys import platform\n",
    "\n",
    "# Windows\n",
    "# C:\\Users\\<Windows-username>\\.kaggle\\kaggle.json\n",
    "if platform == \"win32\":\n",
    "    print(\"Windows\")\n",
    "    kaggle_json_path = os.path.join(os.path.expanduser(\"~\"), \".kaggle\", \"kaggle.json\")\n",
    "    if os.path.exists(kaggle_json_path):\n",
    "        print(\"kaggle.json exists\")\n",
    "    else:\n",
    "        print(\"kaggle.json does not exist\")\n",
    "        shutil.copy(\"./kaggle.json\", kaggle_json_path)\n",
    "        print(\"kaggle.json is copied to the directory\")\n",
    "\n",
    "# Linux\n",
    "# ~/.kaggle/kaggle.json\n",
    "elif platform == \"linux\" or platform == \"linux2\":\n",
    "    print(\"Linux\")\n",
    "    kaggle_json_path = os.path.join(os.path.expanduser(\"~\"), \".kaggle\", \"kaggle.json\")\n",
    "    if os.path.exists(kaggle_json_path):\n",
    "        print(\"kaggle.json exists\")\n",
    "    else:\n",
    "        print(\"kaggle.json does not exist\")\n",
    "        os.makedirs(os.path.join(os.path.expanduser(\"~\"), \".kaggle\"), exist_ok=True)\n",
    "        shutil.copy(\"./kaggle.json\", kaggle_json_path)\n",
    "        print(\"kaggle.json is copied to the directory\")\n",
    "\n",
    "# macOS\n",
    "# ~/.kaggle/kaggle.json\n",
    "elif platform == \"darwin\":\n",
    "    print(\"macOS\")\n",
    "    kaggle_json_path = os.path.join(os.path.expanduser(\"~\"), \".kaggle\", \"kaggle.json\")\n",
    "    if os.path.exists(kaggle_json_path):\n",
    "        print(\"kaggle.json exists\")\n",
    "    else:\n",
    "        print(\"kaggle.json does not exist\")\n",
    "        os.makedirs(os.path.join(os.path.expanduser(\"~\"), \".kaggle\"), exist_ok=True)\n",
    "        shutil.copy(\"./kaggle.json\", kaggle_json_path)\n",
    "        print(\"kaggle.json is copied to the directory\")"
   ]
  },
  {
   "cell_type": "code",
   "execution_count": 5,
   "metadata": {},
   "outputs": [
    {
     "name": "stdout",
     "output_type": "stream",
     "text": [
      "Couldn't find program: 'False'\n"
     ]
    }
   ],
   "source": [
    "%%script False\n",
    "# download and unzip the dataset\n",
    "if(os.path.exists(\"./rice-image-dataset-for-object-detection\")):\n",
    "    print(\"The dataset is already downloaded\")\n",
    "else:\n",
    "    !kaggle datasets download -d alikhalilit98/rice-image-dataset-for-object-detection\n",
    "    with zipfile.ZipFile(\"rice-image-dataset-for-object-detection.zip\", 'r') as zip_ref:\n",
    "        zip_ref.extractall(\"./rice-image-dataset-for-rice-germ-detection\")"
   ]
  },
  {
   "cell_type": "code",
   "execution_count": 5,
   "metadata": {},
   "outputs": [],
   "source": [
    "raw_dataset_path = './rice-image-dataset-for-rice-germ-detection'\n",
    "dataset_path = './rice-germ-cls-dataset'\n",
    "Path(dataset_path).mkdir(parents=True, exist_ok=True)\n",
    "Path(f'{dataset_path}/train/Good').mkdir(parents=True, exist_ok=True)\n",
    "Path(f'{dataset_path}/train/Moderate').mkdir(parents=True, exist_ok=True)\n",
    "Path(f'{dataset_path}/train/Bad').mkdir(parents=True, exist_ok=True)\n",
    "Path(f'{dataset_path}/val/Good').mkdir(parents=True, exist_ok=True)\n",
    "Path(f'{dataset_path}/val/Moderate').mkdir(parents=True, exist_ok=True)\n",
    "Path(f'{dataset_path}/val/Bad').mkdir(parents=True, exist_ok=True)"
   ]
  },
  {
   "cell_type": "code",
   "execution_count": 6,
   "metadata": {},
   "outputs": [
    {
     "name": "stdout",
     "output_type": "stream",
     "text": [
      "Downloading...\n",
      "From: https://drive.google.com/uc?id=1Gk73cVdNwL4PYF37XRBKa-lybbdE0k7O\n",
      "To: /home/andre/Desktop/ComputerVision_STA_Project/rice-germ-cls-dataset/rice-germ-1050labels.zip\n",
      "100%|█████████████████████████████████████████| 206k/206k [00:00<00:00, 971kB/s]\n"
     ]
    }
   ],
   "source": [
    "%%script False\n",
    "!gdown 1Gk73cVdNwL4PYF37XRBKa-lybbdE0k7O -O ./rice-germ-cls-dataset/rice-germ-1050labels.zip"
   ]
  },
  {
   "cell_type": "code",
   "execution_count": 7,
   "metadata": {},
   "outputs": [],
   "source": [
    "%%script False\n",
    "with zipfile.ZipFile(f\"{dataset_path}/rice-germ-1050labels.zip\", 'r') as zip_ref:\n",
    "    zip_ref.extractall(path=dataset_path)"
   ]
  },
  {
   "cell_type": "markdown",
   "metadata": {},
   "source": [
    "# Splitting dataset"
   ]
  },
  {
   "cell_type": "code",
   "execution_count": 8,
   "metadata": {},
   "outputs": [
    {
     "data": {
      "text/html": [
       "<div>\n",
       "<style scoped>\n",
       "    .dataframe tbody tr th:only-of-type {\n",
       "        vertical-align: middle;\n",
       "    }\n",
       "\n",
       "    .dataframe tbody tr th {\n",
       "        vertical-align: top;\n",
       "    }\n",
       "\n",
       "    .dataframe thead th {\n",
       "        text-align: right;\n",
       "    }\n",
       "</style>\n",
       "<table border=\"1\" class=\"dataframe\">\n",
       "  <thead>\n",
       "    <tr style=\"text-align: right;\">\n",
       "      <th></th>\n",
       "      <th>label_name</th>\n",
       "      <th>bbox_x</th>\n",
       "      <th>bbox_y</th>\n",
       "      <th>bbox_width</th>\n",
       "      <th>bbox_height</th>\n",
       "      <th>image_name</th>\n",
       "      <th>image_width</th>\n",
       "      <th>image_height</th>\n",
       "    </tr>\n",
       "  </thead>\n",
       "  <tbody>\n",
       "    <tr>\n",
       "      <th>0</th>\n",
       "      <td>Bad</td>\n",
       "      <td>155</td>\n",
       "      <td>93</td>\n",
       "      <td>50</td>\n",
       "      <td>57</td>\n",
       "      <td>Jasmine (1).jpg</td>\n",
       "      <td>250</td>\n",
       "      <td>250</td>\n",
       "    </tr>\n",
       "    <tr>\n",
       "      <th>1</th>\n",
       "      <td>Bad</td>\n",
       "      <td>156</td>\n",
       "      <td>106</td>\n",
       "      <td>49</td>\n",
       "      <td>64</td>\n",
       "      <td>Jasmine (10).jpg</td>\n",
       "      <td>250</td>\n",
       "      <td>250</td>\n",
       "    </tr>\n",
       "    <tr>\n",
       "      <th>2</th>\n",
       "      <td>Moderate</td>\n",
       "      <td>130</td>\n",
       "      <td>124</td>\n",
       "      <td>60</td>\n",
       "      <td>63</td>\n",
       "      <td>Jasmine (100).jpg</td>\n",
       "      <td>250</td>\n",
       "      <td>250</td>\n",
       "    </tr>\n",
       "    <tr>\n",
       "      <th>392</th>\n",
       "      <td>Good</td>\n",
       "      <td>64</td>\n",
       "      <td>62</td>\n",
       "      <td>48</td>\n",
       "      <td>44</td>\n",
       "      <td>Jasmine (1006).jpg</td>\n",
       "      <td>250</td>\n",
       "      <td>250</td>\n",
       "    </tr>\n",
       "    <tr>\n",
       "      <th>3</th>\n",
       "      <td>Moderate</td>\n",
       "      <td>112</td>\n",
       "      <td>49</td>\n",
       "      <td>61</td>\n",
       "      <td>59</td>\n",
       "      <td>Jasmine (101).jpg</td>\n",
       "      <td>250</td>\n",
       "      <td>250</td>\n",
       "    </tr>\n",
       "    <tr>\n",
       "      <th>393</th>\n",
       "      <td>Good</td>\n",
       "      <td>93</td>\n",
       "      <td>158</td>\n",
       "      <td>51</td>\n",
       "      <td>43</td>\n",
       "      <td>Jasmine (1010).jpg</td>\n",
       "      <td>250</td>\n",
       "      <td>250</td>\n",
       "    </tr>\n",
       "    <tr>\n",
       "      <th>4</th>\n",
       "      <td>Moderate</td>\n",
       "      <td>74</td>\n",
       "      <td>151</td>\n",
       "      <td>51</td>\n",
       "      <td>56</td>\n",
       "      <td>Jasmine (102).jpg</td>\n",
       "      <td>250</td>\n",
       "      <td>250</td>\n",
       "    </tr>\n",
       "    <tr>\n",
       "      <th>5</th>\n",
       "      <td>Good</td>\n",
       "      <td>157</td>\n",
       "      <td>96</td>\n",
       "      <td>46</td>\n",
       "      <td>52</td>\n",
       "      <td>Jasmine (103).jpg</td>\n",
       "      <td>250</td>\n",
       "      <td>250</td>\n",
       "    </tr>\n",
       "    <tr>\n",
       "      <th>6</th>\n",
       "      <td>Bad</td>\n",
       "      <td>88</td>\n",
       "      <td>150</td>\n",
       "      <td>61</td>\n",
       "      <td>60</td>\n",
       "      <td>Jasmine (104).jpg</td>\n",
       "      <td>250</td>\n",
       "      <td>250</td>\n",
       "    </tr>\n",
       "    <tr>\n",
       "      <th>7</th>\n",
       "      <td>Bad</td>\n",
       "      <td>152</td>\n",
       "      <td>94</td>\n",
       "      <td>60</td>\n",
       "      <td>61</td>\n",
       "      <td>Jasmine (105).jpg</td>\n",
       "      <td>250</td>\n",
       "      <td>250</td>\n",
       "    </tr>\n",
       "  </tbody>\n",
       "</table>\n",
       "</div>"
      ],
      "text/plain": [
       "    label_name  bbox_x  bbox_y  bbox_width  bbox_height          image_name  \\\n",
       "0          Bad     155      93          50           57     Jasmine (1).jpg   \n",
       "1          Bad     156     106          49           64    Jasmine (10).jpg   \n",
       "2     Moderate     130     124          60           63   Jasmine (100).jpg   \n",
       "392       Good      64      62          48           44  Jasmine (1006).jpg   \n",
       "3     Moderate     112      49          61           59   Jasmine (101).jpg   \n",
       "393       Good      93     158          51           43  Jasmine (1010).jpg   \n",
       "4     Moderate      74     151          51           56   Jasmine (102).jpg   \n",
       "5         Good     157      96          46           52   Jasmine (103).jpg   \n",
       "6          Bad      88     150          61           60   Jasmine (104).jpg   \n",
       "7          Bad     152      94          60           61   Jasmine (105).jpg   \n",
       "\n",
       "     image_width  image_height  \n",
       "0            250           250  \n",
       "1            250           250  \n",
       "2            250           250  \n",
       "392          250           250  \n",
       "3            250           250  \n",
       "393          250           250  \n",
       "4            250           250  \n",
       "5            250           250  \n",
       "6            250           250  \n",
       "7            250           250  "
      ]
     },
     "execution_count": 8,
     "metadata": {},
     "output_type": "execute_result"
    }
   ],
   "source": [
    "df = pd.read_csv(f\"{dataset_path}/rice-germ-1050labels.csv\")\n",
    "df.sort_values(by=['image_name'], inplace=True)\n",
    "df[:10]"
   ]
  },
  {
   "cell_type": "code",
   "execution_count": 9,
   "metadata": {},
   "outputs": [
    {
     "name": "stdout",
     "output_type": "stream",
     "text": [
      "['Jasmine (293)', 'Jasmine (3287)', 'Jasmine (31)', 'Jasmine (1299)', 'Jasmine (3412)', 'Jasmine (6657)', 'Jasmine (3239)', 'Jasmine (5391)', 'Jasmine (3092)', 'Jasmine (143)']\n",
      "train: 945, val: 105\n"
     ]
    }
   ],
   "source": [
    "from sklearn.model_selection import train_test_split\n",
    "\n",
    "raw_labels_path = f\"{dataset_path}/rice-germ-1050labels\"\n",
    "raw_images_path = f\"{raw_dataset_path}/Rice_Image_Dataset_OD/Jasmine\"\n",
    "\n",
    "data_lists = os.listdir(raw_labels_path)\n",
    "data_lists = [data_list.split(\".\")[0] for data_list in data_lists]\n",
    "print(data_lists[:10])\n",
    "\n",
    "train, val = train_test_split(data_lists, test_size=0.1, random_state=random_seed, stratify=df[\"label_name\"])\n",
    "print(f\"train: {len(train)}, val: {len(val)}\")"
   ]
  },
  {
   "cell_type": "code",
   "execution_count": 10,
   "metadata": {},
   "outputs": [],
   "source": [
    "%%script False\n",
    "for x in train:\n",
    "    img_path = f\"{raw_images_path}/{x}.jpg\"\n",
    "    label_path = f\"{raw_labels_path}/{x}.txt\"\n",
    "    with open(label_path, \"r\") as f:\n",
    "        label = f.read(1) # 0: Good, 1: Moderate, 2: Bad\n",
    "    if label == \"0\":\n",
    "        shutil.copy(img_path, f\"{dataset_path}/train/Good\")\n",
    "    elif label == \"1\":\n",
    "        shutil.copy(img_path, f\"{dataset_path}/train/Moderate\")\n",
    "    elif label == \"2\":\n",
    "        shutil.copy(img_path, f\"{dataset_path}/train/Bad\")\n",
    "\n",
    "for x in val:\n",
    "    img_path = f\"{raw_images_path}/{x}.jpg\"\n",
    "    label_path = f\"{raw_labels_path}/{x}.txt\"\n",
    "    with open(label_path, \"r\") as f:\n",
    "        label = f.read(1) # 0: Good, 1: Moderate, 2: Bad\n",
    "    if label == \"0\":\n",
    "        shutil.copy(img_path, f\"{dataset_path}/val/Good\")\n",
    "    elif label == \"1\":\n",
    "        shutil.copy(img_path, f\"{dataset_path}/val/Moderate\")\n",
    "    elif label == \"2\":\n",
    "        shutil.copy(img_path, f\"{dataset_path}/val/Bad\")"
   ]
  },
  {
   "cell_type": "markdown",
   "metadata": {},
   "source": [
    "# Create yaml file"
   ]
  },
  {
   "cell_type": "code",
   "execution_count": null,
   "metadata": {},
   "outputs": [],
   "source": [
    "import yaml\n",
    "\n",
    "full_path = os.path.abspath(dataset_path)\n",
    "\n",
    "yaml_data = dict(\n",
    "    path = full_path,\n",
    "    train='train',\n",
    "    val='val',\n",
    "    nc=3,\n",
    "    names=['Good', 'Moderate', 'Bad']\n",
    ")\n",
    "\n",
    "with open(f\"{dataset_path}/data.yaml\", \"w\") as f:\n",
    "    yaml.dump(yaml_data, f, default_flow_style=False, sort_keys=False)"
   ]
  },
  {
   "cell_type": "markdown",
   "metadata": {},
   "source": [
    "# Train model"
   ]
  },
  {
   "cell_type": "code",
   "execution_count": 1,
   "metadata": {},
   "outputs": [
    {
     "data": {
      "text/plain": [
       "<torch._C.Generator at 0x738d7c337b70>"
      ]
     },
     "execution_count": 1,
     "metadata": {},
     "output_type": "execute_result"
    }
   ],
   "source": [
    "from ultralytics import YOLO\n",
    "import torch\n",
    "import os\n",
    "import shutil\n",
    "from pathlib import Path\n",
    "import numpy as np\n",
    "import random\n",
    "import zipfile\n",
    "import pandas as pd\n",
    "import cv2\n",
    "\n",
    "random_seed = 42\n",
    "random.seed(random_seed)\n",
    "np.random.seed(random_seed)\n",
    "torch.manual_seed(random_seed)"
   ]
  },
  {
   "cell_type": "code",
   "execution_count": 104,
   "metadata": {},
   "outputs": [
    {
     "name": "stdout",
     "output_type": "stream",
     "text": [
      "Unlabeled data: 13930\n",
      "['Jasmine (4123)' 'Jasmine (6539)' 'Jasmine (4839)' 'Jasmine (13975)' 'Jasmine (7419)' 'Jasmine (11923)' 'Jasmine (8068)' 'Jasmine (12823)' 'Jasmine (1758)' 'Jasmine (12641)']\n"
     ]
    }
   ],
   "source": [
    "# a = unlabeled_data_picker.pick(10)\n",
    "# print(a)"
   ]
  },
  {
   "cell_type": "code",
   "execution_count": 2,
   "metadata": {},
   "outputs": [],
   "source": [
    "# training parameters\n",
    "epochs = 500\n",
    "batch = 32\n",
    "imgsz = 128\n",
    "dataset_path = './rice-germ-cls-dataset'"
   ]
  },
  {
   "cell_type": "markdown",
   "metadata": {},
   "source": [
    "# Teacher Model"
   ]
  },
  {
   "cell_type": "code",
   "execution_count": null,
   "metadata": {},
   "outputs": [],
   "source": [
    "model = YOLO(\"yolov8x-cls.pt\")\n",
    "config = {\n",
    "    \"data\": dataset_path,\n",
    "    \"epochs\": epochs,\n",
    "    \"batch\": batch,\n",
    "    \"imgsz\": imgsz,\n",
    "    \"device\": \"0\",\n",
    "    \"project\": \"rice-germ-clssification\",\n",
    "    \"name\": \"run3\",\n",
    "    \"seed\": random_seed,\n",
    "    \"cache\": True,\n",
    "    \"workers\": 24,\n",
    "    \"patience\": epochs,\n",
    "    \"save\": False,\n",
    "    \"exist_ok\": False,\n",
    "}\n",
    "trained_model = model.train(**config)\n",
    "# torch.cuda.empty_cache()"
   ]
  },
  {
   "cell_type": "markdown",
   "metadata": {},
   "source": [
    "# Iterative KD"
   ]
  },
  {
   "cell_type": "code",
   "execution_count": 1,
   "metadata": {},
   "outputs": [],
   "source": [
    "from ultralytics import YOLO\n",
    "import torch\n",
    "import os\n",
    "import shutil\n",
    "from pathlib import Path\n",
    "import numpy as np\n",
    "import random\n",
    "import zipfile\n",
    "import pandas as pd\n",
    "import cv2\n",
    "\n",
    "inject_new_data = True\n",
    "epochs = 150\n",
    "\n",
    "random_seed = 42\n",
    "random.seed(random_seed)\n",
    "np.random.seed(random_seed)\n",
    "torch.manual_seed(random_seed)\n",
    "\n",
    "dataset_path = './rice-germ-cls-dataset'\n",
    "raw_dataset_path = './rice-image-dataset-for-rice-germ-detection'\n",
    "raw_images_path = f\"{raw_dataset_path}/Rice_Image_Dataset_OD/Jasmine\""
   ]
  },
  {
   "cell_type": "code",
   "execution_count": 2,
   "metadata": {},
   "outputs": [
    {
     "name": "stdout",
     "output_type": "stream",
     "text": [
      "train/Good: 376\n",
      "train/Moderate: 485\n",
      "train/Bad: 434\n",
      "val/Good: 32\n",
      "val/Moderate: 42\n",
      "val/Bad: 31\n",
      "Total data: 15000, Labeled data: 1400\n",
      "Unlabeled data: 13600\n"
     ]
    }
   ],
   "source": [
    "a1 = [\"train\", \"val\"]\n",
    "a2 = [\"Good\", \"Moderate\", \"Bad\"]\n",
    "label_data_set = set()\n",
    "# tt = os.listdir(f\"{dataset_path}/train/Good\")\n",
    "# tt = [t.split(\".\")[0] for t in tt]\n",
    "for i in a1:\n",
    "    for j in a2:\n",
    "        tt = os.listdir(f\"{dataset_path}/{i}/{j}\")\n",
    "        tt = [t.split(\".\")[0] for t in tt]\n",
    "        print(f\"{i}/{j}: {len(tt)}\")\n",
    "        label_data_set = label_data_set.union(set(tt))\n",
    "\n",
    "alldata = os.listdir(raw_images_path)\n",
    "alldata = [data.split(\".\")[0] for data in alldata]\n",
    "alldata_set = set(alldata)\n",
    "\n",
    "print(f\"Total data: {len(alldata_set)}, Labeled data: {len(label_data_set)}\")\n",
    "\n",
    "unlabeled_data = alldata_set - label_data_set\n",
    "\n",
    "print(f\"Unlabeled data: {len(unlabeled_data)}\")\n",
    "\n",
    "class unlabel_picker:\n",
    "    def __init__(self, data):\n",
    "        self.unlabeled_data_set = data\n",
    "    \n",
    "    def pick(self, n):\n",
    "        selected = np.random.choice(list(self.unlabeled_data_set), n, replace=False)\n",
    "        self.unlabeled_data_set = self.unlabeled_data_set - set(selected)\n",
    "        print(f\"Unlabeled data: {len(self.unlabeled_data_set)}\")\n",
    "        return selected\n",
    "\n",
    "    def __len__(self):\n",
    "        return len(self.unlabeled_data_set)\n",
    "\n",
    "unlabeled_data_picker = unlabel_picker(unlabeled_data)\n",
    "        "
   ]
  },
  {
   "cell_type": "code",
   "execution_count": 3,
   "metadata": {},
   "outputs": [
    {
     "name": "stdout",
     "output_type": "stream",
     "text": [
      "Unlabeled data: 13550\n",
      "\n",
      "image 1/1 /home/andre/Desktop/ComputerVision_STA_Project/rice-image-dataset-for-rice-germ-detection/Rice_Image_Dataset_OD/Jasmine/Jasmine (9489).jpg: 128x128 Moderate 0.80, Bad 0.20, Good 0.00, 2.0ms\n",
      "Speed: 1.5ms preprocess, 2.0ms inference, 0.0ms postprocess per image at shape (1, 3, 128, 128)\n",
      "\n",
      "image 1/1 /home/andre/Desktop/ComputerVision_STA_Project/rice-image-dataset-for-rice-germ-detection/Rice_Image_Dataset_OD/Jasmine/Jasmine (1124).jpg: 128x128 Moderate 0.95, Good 0.03, Bad 0.02, 1.9ms\n",
      "Speed: 1.1ms preprocess, 1.9ms inference, 0.0ms postprocess per image at shape (1, 3, 128, 128)\n",
      "\n",
      "image 1/1 /home/andre/Desktop/ComputerVision_STA_Project/rice-image-dataset-for-rice-germ-detection/Rice_Image_Dataset_OD/Jasmine/Jasmine (3913).jpg: 128x128 Good 0.71, Moderate 0.28, Bad 0.00, 1.9ms\n",
      "Speed: 0.8ms preprocess, 1.9ms inference, 0.0ms postprocess per image at shape (1, 3, 128, 128)\n",
      "\n",
      "image 1/1 /home/andre/Desktop/ComputerVision_STA_Project/rice-image-dataset-for-rice-germ-detection/Rice_Image_Dataset_OD/Jasmine/Jasmine (5742).jpg: 128x128 Moderate 0.64, Good 0.19, Bad 0.17, 2.0ms\n",
      "Speed: 0.8ms preprocess, 2.0ms inference, 0.0ms postprocess per image at shape (1, 3, 128, 128)\n",
      "\n",
      "image 1/1 /home/andre/Desktop/ComputerVision_STA_Project/rice-image-dataset-for-rice-germ-detection/Rice_Image_Dataset_OD/Jasmine/Jasmine (5954).jpg: 128x128 Moderate 0.97, Bad 0.03, Good 0.00, 2.0ms\n",
      "Speed: 0.8ms preprocess, 2.0ms inference, 0.0ms postprocess per image at shape (1, 3, 128, 128)\n",
      "\n",
      "image 1/1 /home/andre/Desktop/ComputerVision_STA_Project/rice-image-dataset-for-rice-germ-detection/Rice_Image_Dataset_OD/Jasmine/Jasmine (2766).jpg: 128x128 Good 0.64, Moderate 0.35, Bad 0.01, 2.0ms\n",
      "Speed: 0.7ms preprocess, 2.0ms inference, 0.0ms postprocess per image at shape (1, 3, 128, 128)\n",
      "\n",
      "image 1/1 /home/andre/Desktop/ComputerVision_STA_Project/rice-image-dataset-for-rice-germ-detection/Rice_Image_Dataset_OD/Jasmine/Jasmine (1499).jpg: 128x128 Moderate 1.00, Bad 0.00, Good 0.00, 2.0ms\n",
      "Speed: 0.8ms preprocess, 2.0ms inference, 0.0ms postprocess per image at shape (1, 3, 128, 128)\n",
      "\n",
      "image 1/1 /home/andre/Desktop/ComputerVision_STA_Project/rice-image-dataset-for-rice-germ-detection/Rice_Image_Dataset_OD/Jasmine/Jasmine (1478).jpg: 128x128 Bad 1.00, Moderate 0.00, Good 0.00, 1.9ms\n",
      "Speed: 0.8ms preprocess, 1.9ms inference, 0.0ms postprocess per image at shape (1, 3, 128, 128)\n",
      "\n",
      "image 1/1 /home/andre/Desktop/ComputerVision_STA_Project/rice-image-dataset-for-rice-germ-detection/Rice_Image_Dataset_OD/Jasmine/Jasmine (11399).jpg: 128x128 Moderate 1.00, Bad 0.00, Good 0.00, 1.9ms\n",
      "Speed: 0.8ms preprocess, 1.9ms inference, 0.0ms postprocess per image at shape (1, 3, 128, 128)\n",
      "\n",
      "image 1/1 /home/andre/Desktop/ComputerVision_STA_Project/rice-image-dataset-for-rice-germ-detection/Rice_Image_Dataset_OD/Jasmine/Jasmine (4305).jpg: 128x128 Moderate 0.82, Good 0.18, Bad 0.00, 2.0ms\n",
      "Speed: 0.8ms preprocess, 2.0ms inference, 0.0ms postprocess per image at shape (1, 3, 128, 128)\n",
      "\n",
      "image 1/1 /home/andre/Desktop/ComputerVision_STA_Project/rice-image-dataset-for-rice-germ-detection/Rice_Image_Dataset_OD/Jasmine/Jasmine (14985).jpg: 128x128 Moderate 0.96, Good 0.03, Bad 0.00, 1.9ms\n",
      "Speed: 0.7ms preprocess, 1.9ms inference, 0.0ms postprocess per image at shape (1, 3, 128, 128)\n",
      "\n",
      "image 1/1 /home/andre/Desktop/ComputerVision_STA_Project/rice-image-dataset-for-rice-germ-detection/Rice_Image_Dataset_OD/Jasmine/Jasmine (11710).jpg: 128x128 Bad 0.99, Good 0.01, Moderate 0.00, 1.9ms\n",
      "Speed: 0.8ms preprocess, 1.9ms inference, 0.0ms postprocess per image at shape (1, 3, 128, 128)\n",
      "\n",
      "image 1/1 /home/andre/Desktop/ComputerVision_STA_Project/rice-image-dataset-for-rice-germ-detection/Rice_Image_Dataset_OD/Jasmine/Jasmine (8053).jpg: 128x128 Good 1.00, Moderate 0.00, Bad 0.00, 1.9ms\n",
      "Speed: 0.7ms preprocess, 1.9ms inference, 0.0ms postprocess per image at shape (1, 3, 128, 128)\n",
      "\n",
      "image 1/1 /home/andre/Desktop/ComputerVision_STA_Project/rice-image-dataset-for-rice-germ-detection/Rice_Image_Dataset_OD/Jasmine/Jasmine (13508).jpg: 128x128 Good 1.00, Moderate 0.00, Bad 0.00, 1.8ms\n",
      "Speed: 0.8ms preprocess, 1.8ms inference, 0.0ms postprocess per image at shape (1, 3, 128, 128)\n",
      "\n",
      "image 1/1 /home/andre/Desktop/ComputerVision_STA_Project/rice-image-dataset-for-rice-germ-detection/Rice_Image_Dataset_OD/Jasmine/Jasmine (12724).jpg: 128x128 Bad 1.00, Moderate 0.00, Good 0.00, 1.9ms\n",
      "Speed: 0.7ms preprocess, 1.9ms inference, 0.0ms postprocess per image at shape (1, 3, 128, 128)\n",
      "\n",
      "image 1/1 /home/andre/Desktop/ComputerVision_STA_Project/rice-image-dataset-for-rice-germ-detection/Rice_Image_Dataset_OD/Jasmine/Jasmine (12545).jpg: 128x128 Good 1.00, Moderate 0.00, Bad 0.00, 2.0ms\n",
      "Speed: 0.8ms preprocess, 2.0ms inference, 0.0ms postprocess per image at shape (1, 3, 128, 128)\n",
      "\n",
      "image 1/1 /home/andre/Desktop/ComputerVision_STA_Project/rice-image-dataset-for-rice-germ-detection/Rice_Image_Dataset_OD/Jasmine/Jasmine (7464).jpg: 128x128 Bad 0.99, Moderate 0.01, Good 0.00, 2.1ms\n",
      "Speed: 0.8ms preprocess, 2.1ms inference, 0.0ms postprocess per image at shape (1, 3, 128, 128)\n",
      "\n",
      "image 1/1 /home/andre/Desktop/ComputerVision_STA_Project/rice-image-dataset-for-rice-germ-detection/Rice_Image_Dataset_OD/Jasmine/Jasmine (2288).jpg: 128x128 Good 0.98, Moderate 0.02, Bad 0.00, 2.2ms\n",
      "Speed: 3.5ms preprocess, 2.2ms inference, 0.0ms postprocess per image at shape (1, 3, 128, 128)\n",
      "\n",
      "image 1/1 /home/andre/Desktop/ComputerVision_STA_Project/rice-image-dataset-for-rice-germ-detection/Rice_Image_Dataset_OD/Jasmine/Jasmine (2184).jpg: 128x128 Moderate 0.70, Good 0.29, Bad 0.00, 2.1ms\n",
      "Speed: 1.2ms preprocess, 2.1ms inference, 0.0ms postprocess per image at shape (1, 3, 128, 128)\n",
      "\n",
      "image 1/1 /home/andre/Desktop/ComputerVision_STA_Project/rice-image-dataset-for-rice-germ-detection/Rice_Image_Dataset_OD/Jasmine/Jasmine (1907).jpg: 128x128 Moderate 0.83, Good 0.16, Bad 0.01, 1.9ms\n",
      "Speed: 0.9ms preprocess, 1.9ms inference, 0.0ms postprocess per image at shape (1, 3, 128, 128)\n",
      "\n",
      "image 1/1 /home/andre/Desktop/ComputerVision_STA_Project/rice-image-dataset-for-rice-germ-detection/Rice_Image_Dataset_OD/Jasmine/Jasmine (9440).jpg: 128x128 Moderate 0.97, Bad 0.02, Good 0.01, 2.2ms\n",
      "Speed: 0.9ms preprocess, 2.2ms inference, 0.0ms postprocess per image at shape (1, 3, 128, 128)\n",
      "\n",
      "image 1/1 /home/andre/Desktop/ComputerVision_STA_Project/rice-image-dataset-for-rice-germ-detection/Rice_Image_Dataset_OD/Jasmine/Jasmine (14836).jpg: 128x128 Moderate 1.00, Good 0.00, Bad 0.00, 2.1ms\n",
      "Speed: 1.0ms preprocess, 2.1ms inference, 0.0ms postprocess per image at shape (1, 3, 128, 128)\n",
      "\n",
      "image 1/1 /home/andre/Desktop/ComputerVision_STA_Project/rice-image-dataset-for-rice-germ-detection/Rice_Image_Dataset_OD/Jasmine/Jasmine (13011).jpg: 128x128 Moderate 1.00, Bad 0.00, Good 0.00, 3.6ms\n",
      "Speed: 1.2ms preprocess, 3.6ms inference, 0.0ms postprocess per image at shape (1, 3, 128, 128)\n",
      "\n",
      "image 1/1 /home/andre/Desktop/ComputerVision_STA_Project/rice-image-dataset-for-rice-germ-detection/Rice_Image_Dataset_OD/Jasmine/Jasmine (1192).jpg: 128x128 Moderate 1.00, Bad 0.00, Good 0.00, 2.0ms\n",
      "Speed: 0.8ms preprocess, 2.0ms inference, 0.0ms postprocess per image at shape (1, 3, 128, 128)\n",
      "\n",
      "image 1/1 /home/andre/Desktop/ComputerVision_STA_Project/rice-image-dataset-for-rice-germ-detection/Rice_Image_Dataset_OD/Jasmine/Jasmine (5249).jpg: 128x128 Moderate 0.63, Good 0.36, Bad 0.02, 2.0ms\n",
      "Speed: 0.8ms preprocess, 2.0ms inference, 0.0ms postprocess per image at shape (1, 3, 128, 128)\n",
      "\n",
      "image 1/1 /home/andre/Desktop/ComputerVision_STA_Project/rice-image-dataset-for-rice-germ-detection/Rice_Image_Dataset_OD/Jasmine/Jasmine (8055).jpg: 128x128 Bad 0.97, Moderate 0.03, Good 0.00, 2.0ms\n",
      "Speed: 0.8ms preprocess, 2.0ms inference, 0.0ms postprocess per image at shape (1, 3, 128, 128)\n",
      "\n",
      "image 1/1 /home/andre/Desktop/ComputerVision_STA_Project/rice-image-dataset-for-rice-germ-detection/Rice_Image_Dataset_OD/Jasmine/Jasmine (8029).jpg: 128x128 Moderate 0.99, Bad 0.01, Good 0.00, 2.0ms\n",
      "Speed: 0.9ms preprocess, 2.0ms inference, 0.0ms postprocess per image at shape (1, 3, 128, 128)\n",
      "\n",
      "image 1/1 /home/andre/Desktop/ComputerVision_STA_Project/rice-image-dataset-for-rice-germ-detection/Rice_Image_Dataset_OD/Jasmine/Jasmine (13849).jpg: 128x128 Moderate 0.93, Bad 0.07, Good 0.00, 2.0ms\n",
      "Speed: 0.9ms preprocess, 2.0ms inference, 0.0ms postprocess per image at shape (1, 3, 128, 128)\n",
      "\n",
      "image 1/1 /home/andre/Desktop/ComputerVision_STA_Project/rice-image-dataset-for-rice-germ-detection/Rice_Image_Dataset_OD/Jasmine/Jasmine (13174).jpg: 128x128 Moderate 1.00, Bad 0.00, Good 0.00, 2.0ms\n",
      "Speed: 0.9ms preprocess, 2.0ms inference, 0.0ms postprocess per image at shape (1, 3, 128, 128)\n",
      "\n",
      "image 1/1 /home/andre/Desktop/ComputerVision_STA_Project/rice-image-dataset-for-rice-germ-detection/Rice_Image_Dataset_OD/Jasmine/Jasmine (12204).jpg: 128x128 Moderate 1.00, Bad 0.00, Good 0.00, 3.4ms\n",
      "Speed: 1.1ms preprocess, 3.4ms inference, 0.0ms postprocess per image at shape (1, 3, 128, 128)\n",
      "\n",
      "image 1/1 /home/andre/Desktop/ComputerVision_STA_Project/rice-image-dataset-for-rice-germ-detection/Rice_Image_Dataset_OD/Jasmine/Jasmine (14373).jpg: 128x128 Moderate 1.00, Good 0.00, Bad 0.00, 3.3ms\n",
      "Speed: 1.1ms preprocess, 3.3ms inference, 0.0ms postprocess per image at shape (1, 3, 128, 128)\n",
      "\n",
      "image 1/1 /home/andre/Desktop/ComputerVision_STA_Project/rice-image-dataset-for-rice-germ-detection/Rice_Image_Dataset_OD/Jasmine/Jasmine (6181).jpg: 128x128 Good 0.88, Moderate 0.11, Bad 0.01, 2.0ms\n",
      "Speed: 0.8ms preprocess, 2.0ms inference, 0.0ms postprocess per image at shape (1, 3, 128, 128)\n",
      "\n",
      "image 1/1 /home/andre/Desktop/ComputerVision_STA_Project/rice-image-dataset-for-rice-germ-detection/Rice_Image_Dataset_OD/Jasmine/Jasmine (13557).jpg: 128x128 Bad 0.56, Moderate 0.44, Good 0.00, 2.0ms\n",
      "Speed: 0.8ms preprocess, 2.0ms inference, 0.0ms postprocess per image at shape (1, 3, 128, 128)\n",
      "\n",
      "image 1/1 /home/andre/Desktop/ComputerVision_STA_Project/rice-image-dataset-for-rice-germ-detection/Rice_Image_Dataset_OD/Jasmine/Jasmine (2783).jpg: 128x128 Bad 1.00, Moderate 0.00, Good 0.00, 2.0ms\n",
      "Speed: 0.7ms preprocess, 2.0ms inference, 0.0ms postprocess per image at shape (1, 3, 128, 128)\n",
      "\n",
      "image 1/1 /home/andre/Desktop/ComputerVision_STA_Project/rice-image-dataset-for-rice-germ-detection/Rice_Image_Dataset_OD/Jasmine/Jasmine (11664).jpg: 128x128 Bad 0.98, Moderate 0.02, Good 0.00, 3.4ms\n",
      "Speed: 1.1ms preprocess, 3.4ms inference, 0.0ms postprocess per image at shape (1, 3, 128, 128)\n",
      "\n",
      "image 1/1 /home/andre/Desktop/ComputerVision_STA_Project/rice-image-dataset-for-rice-germ-detection/Rice_Image_Dataset_OD/Jasmine/Jasmine (4545).jpg: 128x128 Bad 1.00, Moderate 0.00, Good 0.00, 3.3ms\n",
      "Speed: 1.1ms preprocess, 3.3ms inference, 0.0ms postprocess per image at shape (1, 3, 128, 128)\n",
      "\n",
      "image 1/1 /home/andre/Desktop/ComputerVision_STA_Project/rice-image-dataset-for-rice-germ-detection/Rice_Image_Dataset_OD/Jasmine/Jasmine (9418).jpg: 128x128 Bad 0.99, Moderate 0.01, Good 0.00, 2.0ms\n",
      "Speed: 0.8ms preprocess, 2.0ms inference, 0.0ms postprocess per image at shape (1, 3, 128, 128)\n",
      "\n",
      "image 1/1 /home/andre/Desktop/ComputerVision_STA_Project/rice-image-dataset-for-rice-germ-detection/Rice_Image_Dataset_OD/Jasmine/Jasmine (5991).jpg: 128x128 Bad 0.53, Moderate 0.47, Good 0.00, 3.3ms\n",
      "Speed: 1.0ms preprocess, 3.3ms inference, 0.0ms postprocess per image at shape (1, 3, 128, 128)\n",
      "\n",
      "image 1/1 /home/andre/Desktop/ComputerVision_STA_Project/rice-image-dataset-for-rice-germ-detection/Rice_Image_Dataset_OD/Jasmine/Jasmine (568).jpg: 128x128 Moderate 0.97, Bad 0.02, Good 0.00, 3.3ms\n",
      "Speed: 1.1ms preprocess, 3.3ms inference, 0.0ms postprocess per image at shape (1, 3, 128, 128)\n",
      "\n",
      "image 1/1 /home/andre/Desktop/ComputerVision_STA_Project/rice-image-dataset-for-rice-germ-detection/Rice_Image_Dataset_OD/Jasmine/Jasmine (2968).jpg: 128x128 Moderate 0.89, Good 0.11, Bad 0.00, 2.4ms\n",
      "Speed: 0.8ms preprocess, 2.4ms inference, 0.0ms postprocess per image at shape (1, 3, 128, 128)\n",
      "\n",
      "image 1/1 /home/andre/Desktop/ComputerVision_STA_Project/rice-image-dataset-for-rice-germ-detection/Rice_Image_Dataset_OD/Jasmine/Jasmine (11550).jpg: 128x128 Moderate 1.00, Bad 0.00, Good 0.00, 3.3ms\n",
      "Speed: 1.1ms preprocess, 3.3ms inference, 0.0ms postprocess per image at shape (1, 3, 128, 128)\n",
      "\n",
      "image 1/1 /home/andre/Desktop/ComputerVision_STA_Project/rice-image-dataset-for-rice-germ-detection/Rice_Image_Dataset_OD/Jasmine/Jasmine (11870).jpg: 128x128 Good 0.99, Moderate 0.01, Bad 0.00, 3.3ms\n",
      "Speed: 1.8ms preprocess, 3.3ms inference, 0.0ms postprocess per image at shape (1, 3, 128, 128)\n",
      "\n",
      "image 1/1 /home/andre/Desktop/ComputerVision_STA_Project/rice-image-dataset-for-rice-germ-detection/Rice_Image_Dataset_OD/Jasmine/Jasmine (3309).jpg: 128x128 Moderate 0.76, Bad 0.23, Good 0.01, 3.6ms\n",
      "Speed: 1.1ms preprocess, 3.6ms inference, 0.0ms postprocess per image at shape (1, 3, 128, 128)\n",
      "\n",
      "image 1/1 /home/andre/Desktop/ComputerVision_STA_Project/rice-image-dataset-for-rice-germ-detection/Rice_Image_Dataset_OD/Jasmine/Jasmine (6285).jpg: 128x128 Moderate 0.99, Good 0.01, Bad 0.00, 3.4ms\n",
      "Speed: 1.1ms preprocess, 3.4ms inference, 0.0ms postprocess per image at shape (1, 3, 128, 128)\n",
      "\n",
      "image 1/1 /home/andre/Desktop/ComputerVision_STA_Project/rice-image-dataset-for-rice-germ-detection/Rice_Image_Dataset_OD/Jasmine/Jasmine (9924).jpg: 128x128 Bad 0.95, Moderate 0.05, Good 0.00, 3.3ms\n",
      "Speed: 1.1ms preprocess, 3.3ms inference, 0.0ms postprocess per image at shape (1, 3, 128, 128)\n",
      "\n",
      "image 1/1 /home/andre/Desktop/ComputerVision_STA_Project/rice-image-dataset-for-rice-germ-detection/Rice_Image_Dataset_OD/Jasmine/Jasmine (658).jpg: 128x128 Moderate 0.99, Bad 0.00, Good 0.00, 2.0ms\n",
      "Speed: 0.8ms preprocess, 2.0ms inference, 0.0ms postprocess per image at shape (1, 3, 128, 128)\n",
      "\n",
      "image 1/1 /home/andre/Desktop/ComputerVision_STA_Project/rice-image-dataset-for-rice-germ-detection/Rice_Image_Dataset_OD/Jasmine/Jasmine (4287).jpg: 128x128 Moderate 0.64, Bad 0.36, Good 0.00, 2.5ms\n",
      "Speed: 0.8ms preprocess, 2.5ms inference, 0.0ms postprocess per image at shape (1, 3, 128, 128)\n",
      "\n",
      "image 1/1 /home/andre/Desktop/ComputerVision_STA_Project/rice-image-dataset-for-rice-germ-detection/Rice_Image_Dataset_OD/Jasmine/Jasmine (10343).jpg: 128x128 Moderate 0.97, Good 0.02, Bad 0.01, 3.4ms\n",
      "Speed: 1.1ms preprocess, 3.4ms inference, 0.0ms postprocess per image at shape (1, 3, 128, 128)\n",
      "\n",
      "image 1/1 /home/andre/Desktop/ComputerVision_STA_Project/rice-image-dataset-for-rice-germ-detection/Rice_Image_Dataset_OD/Jasmine/Jasmine (6933).jpg: 128x128 Moderate 0.95, Bad 0.03, Good 0.01, 3.7ms\n",
      "Speed: 1.1ms preprocess, 3.7ms inference, 0.0ms postprocess per image at shape (1, 3, 128, 128)\n",
      "\n",
      "image 1/1 /home/andre/Desktop/ComputerVision_STA_Project/rice-image-dataset-for-rice-germ-detection/Rice_Image_Dataset_OD/Jasmine/Jasmine (7114).jpg: 128x128 Bad 0.98, Moderate 0.02, Good 0.00, 3.3ms\n",
      "Speed: 0.9ms preprocess, 3.3ms inference, 0.0ms postprocess per image at shape (1, 3, 128, 128)\n",
      "New https://pypi.org/project/ultralytics/8.2.15 available 😃 Update with 'pip install -U ultralytics'\n",
      "Ultralytics YOLOv8.1.37 🚀 Python-3.11.8 torch-2.1.1+cu121 CUDA:0 (NVIDIA GeForce RTX 4080, 16071MiB)\n",
      "\u001b[34m\u001b[1mengine/trainer: \u001b[0mtask=classify, mode=train, model=./rice-germ-clssification/run4/weights/last.pt, data=./rice-germ-cls-dataset, epochs=150, time=None, patience=150, batch=128, imgsz=128, save=False, save_period=-1, cache=True, device=0, workers=24, project=rice-germ-clssification, name=run4, exist_ok=True, pretrained=True, optimizer=auto, verbose=True, seed=42, deterministic=True, single_cls=False, rect=False, cos_lr=False, close_mosaic=10, resume=False, amp=True, fraction=1.0, profile=False, freeze=None, multi_scale=False, overlap_mask=True, mask_ratio=4, dropout=0.0, val=True, split=val, save_json=False, save_hybrid=False, conf=None, iou=0.7, max_det=300, half=False, dnn=False, plots=True, source=None, vid_stride=1, stream_buffer=False, visualize=False, augment=False, agnostic_nms=False, classes=None, retina_masks=False, embed=None, show=False, save_frames=False, save_txt=False, save_conf=False, save_crop=False, show_labels=True, show_conf=True, show_boxes=True, line_width=None, format=torchscript, keras=False, optimize=False, int8=False, dynamic=False, simplify=False, opset=None, workspace=4, nms=False, lr0=0.01, lrf=0.01, momentum=0.937, weight_decay=0.0005, warmup_epochs=3.0, warmup_momentum=0.8, warmup_bias_lr=0.1, box=7.5, cls=0.5, dfl=1.5, pose=12.0, kobj=1.0, label_smoothing=0.0, nbs=64, hsv_h=0.015, hsv_s=0.7, hsv_v=0.4, degrees=0.0, translate=0.1, scale=0.5, shear=0.0, perspective=0.0, flipud=0.0, fliplr=0.5, bgr=0.0, mosaic=1.0, mixup=0.0, copy_paste=0.0, auto_augment=randaugment, erasing=0.4, crop_fraction=1.0, cfg=None, tracker=botsort.yaml, save_dir=rice-germ-clssification/run4\n",
      "\u001b[34m\u001b[1mtrain:\u001b[0m /home/andre/Desktop/ComputerVision_STA_Project/rice-germ-cls-dataset/train... found 1345 images in 3 classes ✅ \n",
      "\u001b[34m\u001b[1mval:\u001b[0m /home/andre/Desktop/ComputerVision_STA_Project/rice-germ-cls-dataset/val... found 105 images in 3 classes ✅ \n",
      "\u001b[34m\u001b[1mtest:\u001b[0m None...\n",
      "\n",
      "                   from  n    params  module                                       arguments                     \n",
      "  0                  -1  1      2320  ultralytics.nn.modules.conv.Conv             [3, 80, 3, 2]                 \n",
      "  1                  -1  1    115520  ultralytics.nn.modules.conv.Conv             [80, 160, 3, 2]               \n",
      "  2                  -1  3    436800  ultralytics.nn.modules.block.C2f             [160, 160, 3, True]           \n",
      "  3                  -1  1    461440  ultralytics.nn.modules.conv.Conv             [160, 320, 3, 2]              \n",
      "  4                  -1  6   3281920  ultralytics.nn.modules.block.C2f             [320, 320, 6, True]           \n",
      "  5                  -1  1   1844480  ultralytics.nn.modules.conv.Conv             [320, 640, 3, 2]              \n",
      "  6                  -1  6  13117440  ultralytics.nn.modules.block.C2f             [640, 640, 6, True]           \n",
      "  7                  -1  1   7375360  ultralytics.nn.modules.conv.Conv             [640, 1280, 3, 2]             \n",
      "  8                  -1  3  27865600  ultralytics.nn.modules.block.C2f             [1280, 1280, 3, True]         \n",
      "  9                  -1  1   1644803  ultralytics.nn.modules.head.Classify         [1280, 3]                     \n",
      "YOLOv8x-cls summary: 183 layers, 56145683 parameters, 56145683 gradients, 154.3 GFLOPs\n",
      "Transferred 52/302 items from pretrained weights\n",
      "\u001b[34m\u001b[1mTensorBoard: \u001b[0mStart with 'tensorboard --logdir rice-germ-clssification/run4', view at http://localhost:6006/\n",
      "\u001b[34m\u001b[1mAMP: \u001b[0mrunning Automatic Mixed Precision (AMP) checks with YOLOv8n...\n",
      "\u001b[34m\u001b[1mAMP: \u001b[0mchecks passed ✅\n"
     ]
    },
    {
     "name": "stderr",
     "output_type": "stream",
     "text": [
      "\u001b[34m\u001b[1mtrain: \u001b[0mScanning /home/andre/Desktop/ComputerVision_STA_Project/rice-germ-cls-dataset/train... 1345 images, 0 corrupt: 100%|██████████| 1345/1345 [00:00<00:00, 16221.28it/s]"
     ]
    },
    {
     "name": "stdout",
     "output_type": "stream",
     "text": [
      "\u001b[34m\u001b[1mtrain: \u001b[0mNew cache created: /home/andre/Desktop/ComputerVision_STA_Project/rice-germ-cls-dataset/train.cache\n"
     ]
    },
    {
     "name": "stderr",
     "output_type": "stream",
     "text": [
      "\n",
      "\u001b[34m\u001b[1mval: \u001b[0mScanning /home/andre/Desktop/ComputerVision_STA_Project/rice-germ-cls-dataset/val... 105 images, 0 corrupt: 100%|██████████| 105/105 [00:00<?, ?it/s]\n"
     ]
    },
    {
     "name": "stdout",
     "output_type": "stream",
     "text": [
      "\u001b[34m\u001b[1moptimizer:\u001b[0m 'optimizer=auto' found, ignoring 'lr0=0.01' and 'momentum=0.937' and determining best 'optimizer', 'lr0' and 'momentum' automatically... \n",
      "\u001b[34m\u001b[1moptimizer:\u001b[0m AdamW(lr=0.000714, momentum=0.9) with parameter groups 50 weight(decay=0.0), 51 weight(decay=0.001), 51 bias(decay=0.0)\n",
      "\u001b[34m\u001b[1mTensorBoard: \u001b[0mmodel graph visualization added ✅\n",
      "Image sizes 128 train, 128 val\n",
      "Using 24 dataloader workers\n",
      "Logging results to \u001b[1mrice-germ-clssification/run4\u001b[0m\n",
      "Starting training for 150 epochs...\n",
      "\n",
      "      Epoch    GPU_mem       loss  Instances       Size\n"
     ]
    },
    {
     "name": "stderr",
     "output_type": "stream",
     "text": [
      "      1/150      4.08G     0.2124         65        128: 100%|██████████| 11/11 [00:01<00:00,  9.51it/s]\n",
      "               classes   top1_acc   top5_acc: 100%|██████████| 1/1 [00:00<00:00, 25.99it/s]"
     ]
    },
    {
     "name": "stdout",
     "output_type": "stream",
     "text": [
      "                   all      0.819          1\n",
      "\n",
      "      Epoch    GPU_mem       loss  Instances       Size\n"
     ]
    },
    {
     "name": "stderr",
     "output_type": "stream",
     "text": [
      "\n",
      "      2/150      4.33G     0.2742         65        128: 100%|██████████| 11/11 [00:00<00:00, 12.30it/s]\n",
      "               classes   top1_acc   top5_acc: 100%|██████████| 1/1 [00:00<00:00, 58.79it/s]"
     ]
    },
    {
     "name": "stdout",
     "output_type": "stream",
     "text": [
      "                   all      0.829          1\n",
      "\n",
      "      Epoch    GPU_mem       loss  Instances       Size\n"
     ]
    },
    {
     "name": "stderr",
     "output_type": "stream",
     "text": [
      "\n",
      "      3/150      4.34G     0.2359         65        128: 100%|██████████| 11/11 [00:00<00:00, 13.74it/s]\n",
      "               classes   top1_acc   top5_acc: 100%|██████████| 1/1 [00:00<00:00, 64.02it/s]"
     ]
    },
    {
     "name": "stdout",
     "output_type": "stream",
     "text": [
      "                   all       0.81          1\n",
      "\n",
      "      Epoch    GPU_mem       loss  Instances       Size\n"
     ]
    },
    {
     "name": "stderr",
     "output_type": "stream",
     "text": [
      "\n",
      "      4/150      4.32G     0.2563         65        128: 100%|██████████| 11/11 [00:00<00:00, 14.05it/s]\n",
      "               classes   top1_acc   top5_acc: 100%|██████████| 1/1 [00:00<00:00, 64.18it/s]"
     ]
    },
    {
     "name": "stdout",
     "output_type": "stream",
     "text": [
      "                   all      0.752          1\n",
      "\n",
      "      Epoch    GPU_mem       loss  Instances       Size\n"
     ]
    },
    {
     "name": "stderr",
     "output_type": "stream",
     "text": [
      "\n",
      "      5/150      4.34G     0.3156         65        128: 100%|██████████| 11/11 [00:00<00:00, 14.02it/s]\n",
      "               classes   top1_acc   top5_acc: 100%|██████████| 1/1 [00:00<00:00, 64.23it/s]"
     ]
    },
    {
     "name": "stdout",
     "output_type": "stream",
     "text": [
      "                   all      0.771          1\n",
      "\n",
      "      Epoch    GPU_mem       loss  Instances       Size\n"
     ]
    },
    {
     "name": "stderr",
     "output_type": "stream",
     "text": [
      "\n",
      "      6/150      4.32G     0.3463         65        128: 100%|██████████| 11/11 [00:00<00:00, 13.20it/s]\n",
      "               classes   top1_acc   top5_acc: 100%|██████████| 1/1 [00:00<00:00, 64.36it/s]"
     ]
    },
    {
     "name": "stdout",
     "output_type": "stream",
     "text": [
      "                   all       0.81          1\n",
      "\n",
      "      Epoch    GPU_mem       loss  Instances       Size\n"
     ]
    },
    {
     "name": "stderr",
     "output_type": "stream",
     "text": [
      "\n",
      "      7/150      4.33G     0.3445         65        128: 100%|██████████| 11/11 [00:00<00:00, 13.99it/s]\n",
      "               classes   top1_acc   top5_acc: 100%|██████████| 1/1 [00:00<00:00, 63.68it/s]"
     ]
    },
    {
     "name": "stdout",
     "output_type": "stream",
     "text": [
      "                   all        0.8          1\n",
      "\n",
      "      Epoch    GPU_mem       loss  Instances       Size\n"
     ]
    },
    {
     "name": "stderr",
     "output_type": "stream",
     "text": [
      "\n",
      "      8/150      4.32G     0.4089         65        128: 100%|██████████| 11/11 [00:00<00:00, 13.43it/s]\n",
      "               classes   top1_acc   top5_acc: 100%|██████████| 1/1 [00:00<00:00, 64.28it/s]"
     ]
    },
    {
     "name": "stdout",
     "output_type": "stream",
     "text": [
      "                   all      0.771          1\n",
      "\n",
      "      Epoch    GPU_mem       loss  Instances       Size\n"
     ]
    },
    {
     "name": "stderr",
     "output_type": "stream",
     "text": [
      "\n",
      "      9/150      4.33G     0.4145         65        128: 100%|██████████| 11/11 [00:00<00:00, 13.92it/s]\n",
      "               classes   top1_acc   top5_acc: 100%|██████████| 1/1 [00:00<00:00, 58.29it/s]"
     ]
    },
    {
     "name": "stdout",
     "output_type": "stream",
     "text": [
      "                   all        0.8          1\n",
      "\n",
      "      Epoch    GPU_mem       loss  Instances       Size\n"
     ]
    },
    {
     "name": "stderr",
     "output_type": "stream",
     "text": [
      "\n",
      "     10/150      4.32G     0.4216         65        128: 100%|██████████| 11/11 [00:00<00:00, 13.32it/s]\n",
      "               classes   top1_acc   top5_acc: 100%|██████████| 1/1 [00:00<00:00, 63.92it/s]"
     ]
    },
    {
     "name": "stdout",
     "output_type": "stream",
     "text": [
      "                   all      0.743          1\n",
      "\n",
      "      Epoch    GPU_mem       loss  Instances       Size\n"
     ]
    },
    {
     "name": "stderr",
     "output_type": "stream",
     "text": [
      "\n",
      "     11/150      4.33G     0.5143         65        128: 100%|██████████| 11/11 [00:00<00:00, 14.02it/s]\n",
      "               classes   top1_acc   top5_acc: 100%|██████████| 1/1 [00:00<00:00, 63.83it/s]"
     ]
    },
    {
     "name": "stdout",
     "output_type": "stream",
     "text": [
      "                   all      0.743          1\n",
      "\n",
      "      Epoch    GPU_mem       loss  Instances       Size\n"
     ]
    },
    {
     "name": "stderr",
     "output_type": "stream",
     "text": [
      "\n",
      "     12/150      4.32G     0.4228         65        128: 100%|██████████| 11/11 [00:00<00:00, 12.43it/s]\n",
      "               classes   top1_acc   top5_acc: 100%|██████████| 1/1 [00:00<00:00, 64.46it/s]"
     ]
    },
    {
     "name": "stdout",
     "output_type": "stream",
     "text": [
      "                   all      0.771          1\n",
      "\n",
      "      Epoch    GPU_mem       loss  Instances       Size\n"
     ]
    },
    {
     "name": "stderr",
     "output_type": "stream",
     "text": [
      "\n",
      "     13/150      4.33G     0.3689         65        128: 100%|██████████| 11/11 [00:00<00:00, 12.98it/s]\n",
      "               classes   top1_acc   top5_acc: 100%|██████████| 1/1 [00:00<00:00, 64.53it/s]"
     ]
    },
    {
     "name": "stdout",
     "output_type": "stream",
     "text": [
      "                   all       0.81          1\n",
      "\n",
      "      Epoch    GPU_mem       loss  Instances       Size\n"
     ]
    },
    {
     "name": "stderr",
     "output_type": "stream",
     "text": [
      "\n",
      "     14/150      4.32G     0.4051         65        128: 100%|██████████| 11/11 [00:00<00:00, 13.50it/s]\n",
      "               classes   top1_acc   top5_acc: 100%|██████████| 1/1 [00:00<00:00, 64.58it/s]"
     ]
    },
    {
     "name": "stdout",
     "output_type": "stream",
     "text": [
      "                   all      0.752          1\n",
      "\n",
      "      Epoch    GPU_mem       loss  Instances       Size\n"
     ]
    },
    {
     "name": "stderr",
     "output_type": "stream",
     "text": [
      "\n",
      "     15/150      4.33G      0.413         65        128: 100%|██████████| 11/11 [00:00<00:00, 13.55it/s]\n",
      "               classes   top1_acc   top5_acc: 100%|██████████| 1/1 [00:00<00:00, 64.55it/s]"
     ]
    },
    {
     "name": "stdout",
     "output_type": "stream",
     "text": [
      "                   all        0.8          1\n",
      "\n",
      "      Epoch    GPU_mem       loss  Instances       Size\n"
     ]
    },
    {
     "name": "stderr",
     "output_type": "stream",
     "text": [
      "\n",
      "     16/150      4.32G      0.406         65        128: 100%|██████████| 11/11 [00:00<00:00, 13.60it/s]\n",
      "               classes   top1_acc   top5_acc: 100%|██████████| 1/1 [00:00<00:00, 63.95it/s]"
     ]
    },
    {
     "name": "stdout",
     "output_type": "stream",
     "text": [
      "                   all      0.867          1\n",
      "\n",
      "      Epoch    GPU_mem       loss  Instances       Size\n"
     ]
    },
    {
     "name": "stderr",
     "output_type": "stream",
     "text": [
      "\n",
      "     17/150      4.33G     0.4003         65        128: 100%|██████████| 11/11 [00:00<00:00, 13.70it/s]\n",
      "               classes   top1_acc   top5_acc: 100%|██████████| 1/1 [00:00<00:00, 64.20it/s]"
     ]
    },
    {
     "name": "stdout",
     "output_type": "stream",
     "text": [
      "                   all      0.838          1\n",
      "\n",
      "      Epoch    GPU_mem       loss  Instances       Size\n"
     ]
    },
    {
     "name": "stderr",
     "output_type": "stream",
     "text": [
      "\n",
      "     18/150      4.32G     0.3728         65        128: 100%|██████████| 11/11 [00:00<00:00, 14.02it/s]\n",
      "               classes   top1_acc   top5_acc: 100%|██████████| 1/1 [00:00<00:00, 63.57it/s]"
     ]
    },
    {
     "name": "stdout",
     "output_type": "stream",
     "text": [
      "                   all      0.781          1\n",
      "\n",
      "      Epoch    GPU_mem       loss  Instances       Size\n"
     ]
    },
    {
     "name": "stderr",
     "output_type": "stream",
     "text": [
      "\n",
      "     19/150      4.33G      0.354         65        128: 100%|██████████| 11/11 [00:00<00:00, 13.52it/s]\n",
      "               classes   top1_acc   top5_acc: 100%|██████████| 1/1 [00:00<00:00, 64.16it/s]"
     ]
    },
    {
     "name": "stdout",
     "output_type": "stream",
     "text": [
      "                   all      0.838          1\n",
      "\n",
      "      Epoch    GPU_mem       loss  Instances       Size\n"
     ]
    },
    {
     "name": "stderr",
     "output_type": "stream",
     "text": [
      "\n",
      "     20/150      4.32G     0.3516         65        128: 100%|██████████| 11/11 [00:00<00:00, 13.97it/s]\n",
      "               classes   top1_acc   top5_acc: 100%|██████████| 1/1 [00:00<00:00, 64.07it/s]"
     ]
    },
    {
     "name": "stdout",
     "output_type": "stream",
     "text": [
      "                   all       0.79          1\n"
     ]
    },
    {
     "name": "stderr",
     "output_type": "stream",
     "text": [
      "\n"
     ]
    },
    {
     "name": "stdout",
     "output_type": "stream",
     "text": [
      "\n",
      "      Epoch    GPU_mem       loss  Instances       Size\n"
     ]
    },
    {
     "name": "stderr",
     "output_type": "stream",
     "text": [
      "     21/150      4.33G     0.4295         65        128: 100%|██████████| 11/11 [00:00<00:00, 13.02it/s]\n",
      "               classes   top1_acc   top5_acc: 100%|██████████| 1/1 [00:00<00:00, 57.82it/s]"
     ]
    },
    {
     "name": "stdout",
     "output_type": "stream",
     "text": [
      "                   all        0.8          1\n"
     ]
    },
    {
     "name": "stderr",
     "output_type": "stream",
     "text": [
      "\n"
     ]
    },
    {
     "name": "stdout",
     "output_type": "stream",
     "text": [
      "\n",
      "      Epoch    GPU_mem       loss  Instances       Size\n"
     ]
    },
    {
     "name": "stderr",
     "output_type": "stream",
     "text": [
      "     22/150      4.32G     0.4002         65        128: 100%|██████████| 11/11 [00:00<00:00, 13.53it/s]\n",
      "               classes   top1_acc   top5_acc: 100%|██████████| 1/1 [00:00<00:00, 64.06it/s]"
     ]
    },
    {
     "name": "stdout",
     "output_type": "stream",
     "text": [
      "                   all      0.771          1\n",
      "\n",
      "      Epoch    GPU_mem       loss  Instances       Size\n"
     ]
    },
    {
     "name": "stderr",
     "output_type": "stream",
     "text": [
      "\n",
      "     23/150      4.33G     0.3549         65        128: 100%|██████████| 11/11 [00:00<00:00, 13.35it/s]\n",
      "               classes   top1_acc   top5_acc: 100%|██████████| 1/1 [00:00<00:00, 57.24it/s]"
     ]
    },
    {
     "name": "stdout",
     "output_type": "stream",
     "text": [
      "                   all      0.752          1\n",
      "\n",
      "      Epoch    GPU_mem       loss  Instances       Size\n"
     ]
    },
    {
     "name": "stderr",
     "output_type": "stream",
     "text": [
      "\n",
      "     24/150      4.32G     0.3315         65        128: 100%|██████████| 11/11 [00:00<00:00, 13.15it/s]\n",
      "               classes   top1_acc   top5_acc: 100%|██████████| 1/1 [00:00<00:00, 60.96it/s]"
     ]
    },
    {
     "name": "stdout",
     "output_type": "stream",
     "text": [
      "                   all        0.8          1\n",
      "\n",
      "      Epoch    GPU_mem       loss  Instances       Size\n"
     ]
    },
    {
     "name": "stderr",
     "output_type": "stream",
     "text": [
      "\n",
      "     25/150      4.33G     0.3232         65        128: 100%|██████████| 11/11 [00:00<00:00, 13.71it/s]\n",
      "               classes   top1_acc   top5_acc: 100%|██████████| 1/1 [00:00<00:00, 64.46it/s]"
     ]
    },
    {
     "name": "stdout",
     "output_type": "stream",
     "text": [
      "                   all      0.743          1\n",
      "\n",
      "      Epoch    GPU_mem       loss  Instances       Size\n"
     ]
    },
    {
     "name": "stderr",
     "output_type": "stream",
     "text": [
      "\n",
      "     26/150      4.32G     0.3549         65        128: 100%|██████████| 11/11 [00:00<00:00, 14.02it/s]\n",
      "               classes   top1_acc   top5_acc: 100%|██████████| 1/1 [00:00<00:00, 63.84it/s]"
     ]
    },
    {
     "name": "stdout",
     "output_type": "stream",
     "text": [
      "                   all       0.81          1\n"
     ]
    },
    {
     "name": "stderr",
     "output_type": "stream",
     "text": [
      "\n"
     ]
    },
    {
     "name": "stdout",
     "output_type": "stream",
     "text": [
      "\n",
      "      Epoch    GPU_mem       loss  Instances       Size\n"
     ]
    },
    {
     "name": "stderr",
     "output_type": "stream",
     "text": [
      "     27/150      4.33G     0.3382         65        128: 100%|██████████| 11/11 [00:00<00:00, 13.14it/s]\n",
      "               classes   top1_acc   top5_acc: 100%|██████████| 1/1 [00:00<00:00, 64.13it/s]"
     ]
    },
    {
     "name": "stdout",
     "output_type": "stream",
     "text": [
      "                   all       0.79          1\n",
      "\n",
      "      Epoch    GPU_mem       loss  Instances       Size\n"
     ]
    },
    {
     "name": "stderr",
     "output_type": "stream",
     "text": [
      "\n",
      "     28/150      4.32G     0.3869         65        128: 100%|██████████| 11/11 [00:00<00:00, 13.94it/s]\n",
      "               classes   top1_acc   top5_acc: 100%|██████████| 1/1 [00:00<00:00, 61.84it/s]"
     ]
    },
    {
     "name": "stdout",
     "output_type": "stream",
     "text": [
      "                   all       0.79          1\n",
      "\n",
      "      Epoch    GPU_mem       loss  Instances       Size\n"
     ]
    },
    {
     "name": "stderr",
     "output_type": "stream",
     "text": [
      "\n",
      "     29/150      4.33G      0.315         65        128: 100%|██████████| 11/11 [00:00<00:00, 13.77it/s]\n",
      "               classes   top1_acc   top5_acc: 100%|██████████| 1/1 [00:00<00:00, 64.49it/s]"
     ]
    },
    {
     "name": "stdout",
     "output_type": "stream",
     "text": [
      "                   all      0.819          1\n",
      "\n",
      "      Epoch    GPU_mem       loss  Instances       Size\n"
     ]
    },
    {
     "name": "stderr",
     "output_type": "stream",
     "text": [
      "\n",
      "     30/150      4.32G     0.3295         65        128: 100%|██████████| 11/11 [00:00<00:00, 14.02it/s]\n",
      "               classes   top1_acc   top5_acc: 100%|██████████| 1/1 [00:00<00:00, 64.72it/s]"
     ]
    },
    {
     "name": "stdout",
     "output_type": "stream",
     "text": [
      "                   all       0.79          1\n",
      "\n",
      "      Epoch    GPU_mem       loss  Instances       Size\n"
     ]
    },
    {
     "name": "stderr",
     "output_type": "stream",
     "text": [
      "\n",
      "     31/150      4.33G       0.35         65        128: 100%|██████████| 11/11 [00:00<00:00, 13.90it/s]\n",
      "               classes   top1_acc   top5_acc: 100%|██████████| 1/1 [00:00<00:00, 63.79it/s]"
     ]
    },
    {
     "name": "stdout",
     "output_type": "stream",
     "text": [
      "                   all       0.81          1\n",
      "\n",
      "      Epoch    GPU_mem       loss  Instances       Size\n"
     ]
    },
    {
     "name": "stderr",
     "output_type": "stream",
     "text": [
      "\n",
      "     32/150      4.32G     0.3381         65        128: 100%|██████████| 11/11 [00:00<00:00, 13.33it/s]\n",
      "               classes   top1_acc   top5_acc: 100%|██████████| 1/1 [00:00<00:00, 55.93it/s]"
     ]
    },
    {
     "name": "stdout",
     "output_type": "stream",
     "text": [
      "                   all       0.79          1\n"
     ]
    },
    {
     "name": "stderr",
     "output_type": "stream",
     "text": [
      "\n"
     ]
    },
    {
     "name": "stdout",
     "output_type": "stream",
     "text": [
      "\n",
      "      Epoch    GPU_mem       loss  Instances       Size\n"
     ]
    },
    {
     "name": "stderr",
     "output_type": "stream",
     "text": [
      "     33/150      4.33G     0.3273         65        128: 100%|██████████| 11/11 [00:00<00:00, 11.95it/s]\n",
      "               classes   top1_acc   top5_acc: 100%|██████████| 1/1 [00:00<00:00, 56.71it/s]"
     ]
    },
    {
     "name": "stdout",
     "output_type": "stream",
     "text": [
      "                   all      0.771          1\n"
     ]
    },
    {
     "name": "stderr",
     "output_type": "stream",
     "text": [
      "\n"
     ]
    },
    {
     "name": "stdout",
     "output_type": "stream",
     "text": [
      "\n",
      "      Epoch    GPU_mem       loss  Instances       Size\n"
     ]
    },
    {
     "name": "stderr",
     "output_type": "stream",
     "text": [
      "     34/150      4.32G     0.3536         65        128: 100%|██████████| 11/11 [00:00<00:00, 11.77it/s]\n",
      "               classes   top1_acc   top5_acc: 100%|██████████| 1/1 [00:00<00:00, 57.44it/s]"
     ]
    },
    {
     "name": "stdout",
     "output_type": "stream",
     "text": [
      "                   all      0.771          1\n"
     ]
    },
    {
     "name": "stderr",
     "output_type": "stream",
     "text": [
      "\n"
     ]
    },
    {
     "name": "stdout",
     "output_type": "stream",
     "text": [
      "\n",
      "      Epoch    GPU_mem       loss  Instances       Size\n"
     ]
    },
    {
     "name": "stderr",
     "output_type": "stream",
     "text": [
      "     35/150      4.33G     0.3219         65        128: 100%|██████████| 11/11 [00:00<00:00, 12.37it/s]\n",
      "               classes   top1_acc   top5_acc: 100%|██████████| 1/1 [00:00<00:00, 56.42it/s]"
     ]
    },
    {
     "name": "stdout",
     "output_type": "stream",
     "text": [
      "                   all      0.714          1\n"
     ]
    },
    {
     "name": "stderr",
     "output_type": "stream",
     "text": [
      "\n"
     ]
    },
    {
     "name": "stdout",
     "output_type": "stream",
     "text": [
      "\n",
      "      Epoch    GPU_mem       loss  Instances       Size\n"
     ]
    },
    {
     "name": "stderr",
     "output_type": "stream",
     "text": [
      "     36/150      4.32G     0.3166         65        128: 100%|██████████| 11/11 [00:00<00:00, 12.36it/s]\n",
      "               classes   top1_acc   top5_acc: 100%|██████████| 1/1 [00:00<00:00, 57.57it/s]"
     ]
    },
    {
     "name": "stdout",
     "output_type": "stream",
     "text": [
      "                   all       0.79          1\n"
     ]
    },
    {
     "name": "stderr",
     "output_type": "stream",
     "text": [
      "\n"
     ]
    },
    {
     "name": "stdout",
     "output_type": "stream",
     "text": [
      "\n",
      "      Epoch    GPU_mem       loss  Instances       Size\n"
     ]
    },
    {
     "name": "stderr",
     "output_type": "stream",
     "text": [
      "     37/150      4.33G     0.3303         65        128: 100%|██████████| 11/11 [00:00<00:00, 11.73it/s]\n",
      "               classes   top1_acc   top5_acc: 100%|██████████| 1/1 [00:00<00:00, 55.73it/s]"
     ]
    },
    {
     "name": "stdout",
     "output_type": "stream",
     "text": [
      "                   all      0.781          1\n"
     ]
    },
    {
     "name": "stderr",
     "output_type": "stream",
     "text": [
      "\n"
     ]
    },
    {
     "name": "stdout",
     "output_type": "stream",
     "text": [
      "\n",
      "      Epoch    GPU_mem       loss  Instances       Size\n"
     ]
    },
    {
     "name": "stderr",
     "output_type": "stream",
     "text": [
      "     38/150      4.32G     0.2965         65        128: 100%|██████████| 11/11 [00:00<00:00, 11.74it/s]\n",
      "               classes   top1_acc   top5_acc: 100%|██████████| 1/1 [00:00<00:00, 56.22it/s]"
     ]
    },
    {
     "name": "stdout",
     "output_type": "stream",
     "text": [
      "                   all      0.876          1\n"
     ]
    },
    {
     "name": "stderr",
     "output_type": "stream",
     "text": [
      "\n"
     ]
    },
    {
     "name": "stdout",
     "output_type": "stream",
     "text": [
      "\n",
      "      Epoch    GPU_mem       loss  Instances       Size\n"
     ]
    },
    {
     "name": "stderr",
     "output_type": "stream",
     "text": [
      "     39/150      4.33G     0.2841         65        128: 100%|██████████| 11/11 [00:00<00:00, 11.78it/s]\n",
      "               classes   top1_acc   top5_acc: 100%|██████████| 1/1 [00:00<00:00, 55.81it/s]"
     ]
    },
    {
     "name": "stdout",
     "output_type": "stream",
     "text": [
      "                   all      0.848          1\n"
     ]
    },
    {
     "name": "stderr",
     "output_type": "stream",
     "text": [
      "\n"
     ]
    },
    {
     "name": "stdout",
     "output_type": "stream",
     "text": [
      "\n",
      "      Epoch    GPU_mem       loss  Instances       Size\n"
     ]
    },
    {
     "name": "stderr",
     "output_type": "stream",
     "text": [
      "     40/150      4.32G     0.3234         65        128: 100%|██████████| 11/11 [00:00<00:00, 11.72it/s]\n",
      "               classes   top1_acc   top5_acc: 100%|██████████| 1/1 [00:00<00:00, 57.00it/s]"
     ]
    },
    {
     "name": "stdout",
     "output_type": "stream",
     "text": [
      "                   all       0.79          1\n"
     ]
    },
    {
     "name": "stderr",
     "output_type": "stream",
     "text": [
      "\n"
     ]
    },
    {
     "name": "stdout",
     "output_type": "stream",
     "text": [
      "\n",
      "      Epoch    GPU_mem       loss  Instances       Size\n"
     ]
    },
    {
     "name": "stderr",
     "output_type": "stream",
     "text": [
      "     41/150      4.33G     0.3452         65        128: 100%|██████████| 11/11 [00:00<00:00, 12.39it/s]\n",
      "               classes   top1_acc   top5_acc: 100%|██████████| 1/1 [00:00<00:00, 55.96it/s]"
     ]
    },
    {
     "name": "stdout",
     "output_type": "stream",
     "text": [
      "                   all      0.819          1\n"
     ]
    },
    {
     "name": "stderr",
     "output_type": "stream",
     "text": [
      "\n"
     ]
    },
    {
     "name": "stdout",
     "output_type": "stream",
     "text": [
      "\n",
      "      Epoch    GPU_mem       loss  Instances       Size\n"
     ]
    },
    {
     "name": "stderr",
     "output_type": "stream",
     "text": [
      "     42/150      4.32G     0.3119         65        128: 100%|██████████| 11/11 [00:00<00:00, 12.37it/s]\n",
      "               classes   top1_acc   top5_acc: 100%|██████████| 1/1 [00:00<00:00, 56.82it/s]"
     ]
    },
    {
     "name": "stdout",
     "output_type": "stream",
     "text": [
      "                   all       0.81          1\n"
     ]
    },
    {
     "name": "stderr",
     "output_type": "stream",
     "text": [
      "\n"
     ]
    },
    {
     "name": "stdout",
     "output_type": "stream",
     "text": [
      "\n",
      "      Epoch    GPU_mem       loss  Instances       Size\n"
     ]
    },
    {
     "name": "stderr",
     "output_type": "stream",
     "text": [
      "     43/150      4.33G     0.2879         65        128: 100%|██████████| 11/11 [00:00<00:00, 12.00it/s]\n",
      "               classes   top1_acc   top5_acc: 100%|██████████| 1/1 [00:00<00:00, 64.54it/s]"
     ]
    },
    {
     "name": "stdout",
     "output_type": "stream",
     "text": [
      "                   all        0.8          1\n",
      "\n",
      "      Epoch    GPU_mem       loss  Instances       Size\n"
     ]
    },
    {
     "name": "stderr",
     "output_type": "stream",
     "text": [
      "\n",
      "     44/150      4.32G      0.293         65        128: 100%|██████████| 11/11 [00:00<00:00, 12.31it/s]\n",
      "               classes   top1_acc   top5_acc: 100%|██████████| 1/1 [00:00<00:00, 56.71it/s]"
     ]
    },
    {
     "name": "stdout",
     "output_type": "stream",
     "text": [
      "                   all      0.848          1\n"
     ]
    },
    {
     "name": "stderr",
     "output_type": "stream",
     "text": [
      "\n"
     ]
    },
    {
     "name": "stdout",
     "output_type": "stream",
     "text": [
      "\n",
      "      Epoch    GPU_mem       loss  Instances       Size\n"
     ]
    },
    {
     "name": "stderr",
     "output_type": "stream",
     "text": [
      "     45/150      4.32G     0.2796         65        128: 100%|██████████| 11/11 [00:00<00:00, 11.85it/s]\n",
      "               classes   top1_acc   top5_acc: 100%|██████████| 1/1 [00:00<00:00, 56.45it/s]"
     ]
    },
    {
     "name": "stdout",
     "output_type": "stream",
     "text": [
      "                   all      0.819          1\n"
     ]
    },
    {
     "name": "stderr",
     "output_type": "stream",
     "text": [
      "\n"
     ]
    },
    {
     "name": "stdout",
     "output_type": "stream",
     "text": [
      "\n",
      "      Epoch    GPU_mem       loss  Instances       Size\n"
     ]
    },
    {
     "name": "stderr",
     "output_type": "stream",
     "text": [
      "     46/150      4.32G     0.3086         65        128: 100%|██████████| 11/11 [00:00<00:00, 12.37it/s]\n",
      "               classes   top1_acc   top5_acc: 100%|██████████| 1/1 [00:00<00:00, 57.09it/s]"
     ]
    },
    {
     "name": "stdout",
     "output_type": "stream",
     "text": [
      "                   all      0.829          1\n"
     ]
    },
    {
     "name": "stderr",
     "output_type": "stream",
     "text": [
      "\n"
     ]
    },
    {
     "name": "stdout",
     "output_type": "stream",
     "text": [
      "\n",
      "      Epoch    GPU_mem       loss  Instances       Size\n"
     ]
    },
    {
     "name": "stderr",
     "output_type": "stream",
     "text": [
      "     47/150      4.32G     0.2964         65        128: 100%|██████████| 11/11 [00:00<00:00, 12.40it/s]\n",
      "               classes   top1_acc   top5_acc: 100%|██████████| 1/1 [00:00<00:00, 56.83it/s]"
     ]
    },
    {
     "name": "stdout",
     "output_type": "stream",
     "text": [
      "                   all      0.819          1\n"
     ]
    },
    {
     "name": "stderr",
     "output_type": "stream",
     "text": [
      "\n"
     ]
    },
    {
     "name": "stdout",
     "output_type": "stream",
     "text": [
      "\n",
      "      Epoch    GPU_mem       loss  Instances       Size\n"
     ]
    },
    {
     "name": "stderr",
     "output_type": "stream",
     "text": [
      "     48/150      4.32G     0.2922         65        128: 100%|██████████| 11/11 [00:00<00:00, 11.78it/s]\n",
      "               classes   top1_acc   top5_acc: 100%|██████████| 1/1 [00:00<00:00, 56.69it/s]"
     ]
    },
    {
     "name": "stdout",
     "output_type": "stream",
     "text": [
      "                   all        0.8          1\n"
     ]
    },
    {
     "name": "stderr",
     "output_type": "stream",
     "text": [
      "\n"
     ]
    },
    {
     "name": "stdout",
     "output_type": "stream",
     "text": [
      "\n",
      "      Epoch    GPU_mem       loss  Instances       Size\n"
     ]
    },
    {
     "name": "stderr",
     "output_type": "stream",
     "text": [
      "     49/150      4.32G     0.3076         65        128: 100%|██████████| 11/11 [00:00<00:00, 12.38it/s]\n",
      "               classes   top1_acc   top5_acc: 100%|██████████| 1/1 [00:00<00:00, 54.85it/s]"
     ]
    },
    {
     "name": "stdout",
     "output_type": "stream",
     "text": [
      "                   all        0.8          1\n"
     ]
    },
    {
     "name": "stderr",
     "output_type": "stream",
     "text": [
      "\n"
     ]
    },
    {
     "name": "stdout",
     "output_type": "stream",
     "text": [
      "\n",
      "      Epoch    GPU_mem       loss  Instances       Size\n"
     ]
    },
    {
     "name": "stderr",
     "output_type": "stream",
     "text": [
      "     50/150      4.32G     0.3201         65        128: 100%|██████████| 11/11 [00:00<00:00, 11.53it/s]\n",
      "               classes   top1_acc   top5_acc: 100%|██████████| 1/1 [00:00<00:00, 55.80it/s]"
     ]
    },
    {
     "name": "stdout",
     "output_type": "stream",
     "text": [
      "                   all      0.848          1\n"
     ]
    },
    {
     "name": "stderr",
     "output_type": "stream",
     "text": [
      "\n"
     ]
    },
    {
     "name": "stdout",
     "output_type": "stream",
     "text": [
      "\n",
      "      Epoch    GPU_mem       loss  Instances       Size\n"
     ]
    },
    {
     "name": "stderr",
     "output_type": "stream",
     "text": [
      "     51/150      4.32G     0.2891         65        128: 100%|██████████| 11/11 [00:00<00:00, 11.76it/s]\n",
      "               classes   top1_acc   top5_acc: 100%|██████████| 1/1 [00:00<00:00, 56.71it/s]"
     ]
    },
    {
     "name": "stdout",
     "output_type": "stream",
     "text": [
      "                   all      0.838          1\n"
     ]
    },
    {
     "name": "stderr",
     "output_type": "stream",
     "text": [
      "\n"
     ]
    },
    {
     "name": "stdout",
     "output_type": "stream",
     "text": [
      "\n",
      "      Epoch    GPU_mem       loss  Instances       Size\n"
     ]
    },
    {
     "name": "stderr",
     "output_type": "stream",
     "text": [
      "     52/150      4.32G       0.29         65        128: 100%|██████████| 11/11 [00:00<00:00, 11.74it/s]\n",
      "               classes   top1_acc   top5_acc: 100%|██████████| 1/1 [00:00<00:00, 55.49it/s]"
     ]
    },
    {
     "name": "stdout",
     "output_type": "stream",
     "text": [
      "                   all       0.81          1\n"
     ]
    },
    {
     "name": "stderr",
     "output_type": "stream",
     "text": [
      "\n"
     ]
    },
    {
     "name": "stdout",
     "output_type": "stream",
     "text": [
      "\n",
      "      Epoch    GPU_mem       loss  Instances       Size\n"
     ]
    },
    {
     "name": "stderr",
     "output_type": "stream",
     "text": [
      "     53/150      4.32G      0.313         65        128: 100%|██████████| 11/11 [00:00<00:00, 11.77it/s]\n",
      "               classes   top1_acc   top5_acc: 100%|██████████| 1/1 [00:00<00:00, 56.66it/s]"
     ]
    },
    {
     "name": "stdout",
     "output_type": "stream",
     "text": [
      "                   all      0.848          1\n"
     ]
    },
    {
     "name": "stderr",
     "output_type": "stream",
     "text": [
      "\n"
     ]
    },
    {
     "name": "stdout",
     "output_type": "stream",
     "text": [
      "\n",
      "      Epoch    GPU_mem       loss  Instances       Size\n"
     ]
    },
    {
     "name": "stderr",
     "output_type": "stream",
     "text": [
      "     54/150      4.32G       0.26         65        128: 100%|██████████| 11/11 [00:00<00:00, 12.36it/s]\n",
      "               classes   top1_acc   top5_acc: 100%|██████████| 1/1 [00:00<00:00, 57.08it/s]"
     ]
    },
    {
     "name": "stdout",
     "output_type": "stream",
     "text": [
      "                   all      0.829          1\n"
     ]
    },
    {
     "name": "stderr",
     "output_type": "stream",
     "text": [
      "\n"
     ]
    },
    {
     "name": "stdout",
     "output_type": "stream",
     "text": [
      "\n",
      "      Epoch    GPU_mem       loss  Instances       Size\n"
     ]
    },
    {
     "name": "stderr",
     "output_type": "stream",
     "text": [
      "     55/150      4.32G     0.2768         65        128: 100%|██████████| 11/11 [00:00<00:00, 11.81it/s]\n",
      "               classes   top1_acc   top5_acc: 100%|██████████| 1/1 [00:00<00:00, 55.36it/s]"
     ]
    },
    {
     "name": "stdout",
     "output_type": "stream",
     "text": [
      "                   all       0.79          1\n"
     ]
    },
    {
     "name": "stderr",
     "output_type": "stream",
     "text": [
      "\n"
     ]
    },
    {
     "name": "stdout",
     "output_type": "stream",
     "text": [
      "\n",
      "      Epoch    GPU_mem       loss  Instances       Size\n"
     ]
    },
    {
     "name": "stderr",
     "output_type": "stream",
     "text": [
      "     56/150      4.32G     0.2945         65        128: 100%|██████████| 11/11 [00:00<00:00, 12.35it/s]\n",
      "               classes   top1_acc   top5_acc: 100%|██████████| 1/1 [00:00<00:00, 56.13it/s]"
     ]
    },
    {
     "name": "stdout",
     "output_type": "stream",
     "text": [
      "                   all      0.752          1\n"
     ]
    },
    {
     "name": "stderr",
     "output_type": "stream",
     "text": [
      "\n"
     ]
    },
    {
     "name": "stdout",
     "output_type": "stream",
     "text": [
      "\n",
      "      Epoch    GPU_mem       loss  Instances       Size\n"
     ]
    },
    {
     "name": "stderr",
     "output_type": "stream",
     "text": [
      "     57/150      4.32G     0.3074         65        128: 100%|██████████| 11/11 [00:00<00:00, 12.32it/s]\n",
      "               classes   top1_acc   top5_acc: 100%|██████████| 1/1 [00:00<00:00, 57.25it/s]"
     ]
    },
    {
     "name": "stdout",
     "output_type": "stream",
     "text": [
      "                   all      0.771          1\n"
     ]
    },
    {
     "name": "stderr",
     "output_type": "stream",
     "text": [
      "\n"
     ]
    },
    {
     "name": "stdout",
     "output_type": "stream",
     "text": [
      "\n",
      "      Epoch    GPU_mem       loss  Instances       Size\n"
     ]
    },
    {
     "name": "stderr",
     "output_type": "stream",
     "text": [
      "     58/150      4.32G     0.3193         65        128: 100%|██████████| 11/11 [00:00<00:00, 11.75it/s]\n",
      "               classes   top1_acc   top5_acc: 100%|██████████| 1/1 [00:00<00:00, 56.46it/s]"
     ]
    },
    {
     "name": "stdout",
     "output_type": "stream",
     "text": [
      "                   all      0.781          1\n"
     ]
    },
    {
     "name": "stderr",
     "output_type": "stream",
     "text": [
      "\n"
     ]
    },
    {
     "name": "stdout",
     "output_type": "stream",
     "text": [
      "\n",
      "      Epoch    GPU_mem       loss  Instances       Size\n"
     ]
    },
    {
     "name": "stderr",
     "output_type": "stream",
     "text": [
      "     59/150      4.32G     0.2735         65        128: 100%|██████████| 11/11 [00:00<00:00, 12.39it/s]\n",
      "               classes   top1_acc   top5_acc: 100%|██████████| 1/1 [00:00<00:00, 56.19it/s]"
     ]
    },
    {
     "name": "stdout",
     "output_type": "stream",
     "text": [
      "                   all      0.781          1\n"
     ]
    },
    {
     "name": "stderr",
     "output_type": "stream",
     "text": [
      "\n"
     ]
    },
    {
     "name": "stdout",
     "output_type": "stream",
     "text": [
      "\n",
      "      Epoch    GPU_mem       loss  Instances       Size\n"
     ]
    },
    {
     "name": "stderr",
     "output_type": "stream",
     "text": [
      "     60/150      4.32G     0.2859         65        128: 100%|██████████| 11/11 [00:00<00:00, 12.36it/s]\n",
      "               classes   top1_acc   top5_acc: 100%|██████████| 1/1 [00:00<00:00, 55.28it/s]"
     ]
    },
    {
     "name": "stdout",
     "output_type": "stream",
     "text": [
      "                   all        0.8          1\n"
     ]
    },
    {
     "name": "stderr",
     "output_type": "stream",
     "text": [
      "\n"
     ]
    },
    {
     "name": "stdout",
     "output_type": "stream",
     "text": [
      "\n",
      "      Epoch    GPU_mem       loss  Instances       Size\n"
     ]
    },
    {
     "name": "stderr",
     "output_type": "stream",
     "text": [
      "     61/150      4.32G     0.2683         65        128: 100%|██████████| 11/11 [00:00<00:00, 11.84it/s]\n",
      "               classes   top1_acc   top5_acc: 100%|██████████| 1/1 [00:00<00:00, 56.78it/s]"
     ]
    },
    {
     "name": "stdout",
     "output_type": "stream",
     "text": [
      "                   all      0.819          1\n"
     ]
    },
    {
     "name": "stderr",
     "output_type": "stream",
     "text": [
      "\n"
     ]
    },
    {
     "name": "stdout",
     "output_type": "stream",
     "text": [
      "\n",
      "      Epoch    GPU_mem       loss  Instances       Size\n"
     ]
    },
    {
     "name": "stderr",
     "output_type": "stream",
     "text": [
      "     62/150      4.32G      0.239         65        128: 100%|██████████| 11/11 [00:00<00:00, 12.32it/s]\n",
      "               classes   top1_acc   top5_acc: 100%|██████████| 1/1 [00:00<00:00, 56.34it/s]"
     ]
    },
    {
     "name": "stdout",
     "output_type": "stream",
     "text": [
      "                   all        0.8          1\n"
     ]
    },
    {
     "name": "stderr",
     "output_type": "stream",
     "text": [
      "\n"
     ]
    },
    {
     "name": "stdout",
     "output_type": "stream",
     "text": [
      "\n",
      "      Epoch    GPU_mem       loss  Instances       Size\n"
     ]
    },
    {
     "name": "stderr",
     "output_type": "stream",
     "text": [
      "     63/150      4.32G     0.2611         65        128: 100%|██████████| 11/11 [00:00<00:00, 11.49it/s]\n",
      "               classes   top1_acc   top5_acc: 100%|██████████| 1/1 [00:00<00:00, 54.26it/s]"
     ]
    },
    {
     "name": "stdout",
     "output_type": "stream",
     "text": [
      "                   all       0.81          1\n"
     ]
    },
    {
     "name": "stderr",
     "output_type": "stream",
     "text": [
      "\n"
     ]
    },
    {
     "name": "stdout",
     "output_type": "stream",
     "text": [
      "\n",
      "      Epoch    GPU_mem       loss  Instances       Size\n"
     ]
    },
    {
     "name": "stderr",
     "output_type": "stream",
     "text": [
      "     64/150      4.32G     0.2944         65        128: 100%|██████████| 11/11 [00:00<00:00, 12.37it/s]\n",
      "               classes   top1_acc   top5_acc: 100%|██████████| 1/1 [00:00<00:00, 57.31it/s]"
     ]
    },
    {
     "name": "stdout",
     "output_type": "stream",
     "text": [
      "                   all        0.8          1\n"
     ]
    },
    {
     "name": "stderr",
     "output_type": "stream",
     "text": [
      "\n"
     ]
    },
    {
     "name": "stdout",
     "output_type": "stream",
     "text": [
      "\n",
      "      Epoch    GPU_mem       loss  Instances       Size\n"
     ]
    },
    {
     "name": "stderr",
     "output_type": "stream",
     "text": [
      "     65/150      4.32G     0.2407         65        128: 100%|██████████| 11/11 [00:00<00:00, 11.47it/s]\n",
      "               classes   top1_acc   top5_acc: 100%|██████████| 1/1 [00:00<00:00, 56.02it/s]"
     ]
    },
    {
     "name": "stdout",
     "output_type": "stream",
     "text": [
      "                   all      0.781          1\n"
     ]
    },
    {
     "name": "stderr",
     "output_type": "stream",
     "text": [
      "\n"
     ]
    },
    {
     "name": "stdout",
     "output_type": "stream",
     "text": [
      "\n",
      "      Epoch    GPU_mem       loss  Instances       Size\n"
     ]
    },
    {
     "name": "stderr",
     "output_type": "stream",
     "text": [
      "     66/150      4.32G      0.275         65        128: 100%|██████████| 11/11 [00:00<00:00, 11.80it/s]\n",
      "               classes   top1_acc   top5_acc: 100%|██████████| 1/1 [00:00<00:00, 56.05it/s]"
     ]
    },
    {
     "name": "stdout",
     "output_type": "stream",
     "text": [
      "                   all      0.781          1\n"
     ]
    },
    {
     "name": "stderr",
     "output_type": "stream",
     "text": [
      "\n"
     ]
    },
    {
     "name": "stdout",
     "output_type": "stream",
     "text": [
      "\n",
      "      Epoch    GPU_mem       loss  Instances       Size\n"
     ]
    },
    {
     "name": "stderr",
     "output_type": "stream",
     "text": [
      "     67/150      4.32G     0.2706         65        128: 100%|██████████| 11/11 [00:00<00:00, 11.76it/s]\n",
      "               classes   top1_acc   top5_acc: 100%|██████████| 1/1 [00:00<00:00, 56.00it/s]"
     ]
    },
    {
     "name": "stdout",
     "output_type": "stream",
     "text": [
      "                   all        0.8          1\n"
     ]
    },
    {
     "name": "stderr",
     "output_type": "stream",
     "text": [
      "\n"
     ]
    },
    {
     "name": "stdout",
     "output_type": "stream",
     "text": [
      "\n",
      "      Epoch    GPU_mem       loss  Instances       Size\n"
     ]
    },
    {
     "name": "stderr",
     "output_type": "stream",
     "text": [
      "     68/150      4.32G     0.2637         65        128: 100%|██████████| 11/11 [00:00<00:00, 11.76it/s]\n",
      "               classes   top1_acc   top5_acc: 100%|██████████| 1/1 [00:00<00:00, 55.72it/s]"
     ]
    },
    {
     "name": "stdout",
     "output_type": "stream",
     "text": [
      "                   all        0.8          1\n"
     ]
    },
    {
     "name": "stderr",
     "output_type": "stream",
     "text": [
      "\n"
     ]
    },
    {
     "name": "stdout",
     "output_type": "stream",
     "text": [
      "\n",
      "      Epoch    GPU_mem       loss  Instances       Size\n"
     ]
    },
    {
     "name": "stderr",
     "output_type": "stream",
     "text": [
      "     69/150      4.32G     0.2558         65        128: 100%|██████████| 11/11 [00:00<00:00, 12.31it/s]\n",
      "               classes   top1_acc   top5_acc: 100%|██████████| 1/1 [00:00<00:00, 56.54it/s]"
     ]
    },
    {
     "name": "stdout",
     "output_type": "stream",
     "text": [
      "                   all      0.781          1\n"
     ]
    },
    {
     "name": "stderr",
     "output_type": "stream",
     "text": [
      "\n"
     ]
    },
    {
     "name": "stdout",
     "output_type": "stream",
     "text": [
      "\n",
      "      Epoch    GPU_mem       loss  Instances       Size\n"
     ]
    },
    {
     "name": "stderr",
     "output_type": "stream",
     "text": [
      "     70/150      4.32G     0.2568         65        128: 100%|██████████| 11/11 [00:00<00:00, 12.27it/s]\n",
      "               classes   top1_acc   top5_acc: 100%|██████████| 1/1 [00:00<00:00, 55.88it/s]"
     ]
    },
    {
     "name": "stdout",
     "output_type": "stream",
     "text": [
      "                   all       0.81          1\n"
     ]
    },
    {
     "name": "stderr",
     "output_type": "stream",
     "text": [
      "\n"
     ]
    },
    {
     "name": "stdout",
     "output_type": "stream",
     "text": [
      "\n",
      "      Epoch    GPU_mem       loss  Instances       Size\n"
     ]
    },
    {
     "name": "stderr",
     "output_type": "stream",
     "text": [
      "     71/150      4.32G     0.2344         65        128: 100%|██████████| 11/11 [00:00<00:00, 11.52it/s]\n",
      "               classes   top1_acc   top5_acc: 100%|██████████| 1/1 [00:00<00:00, 54.73it/s]"
     ]
    },
    {
     "name": "stdout",
     "output_type": "stream",
     "text": [
      "                   all      0.781          1\n"
     ]
    },
    {
     "name": "stderr",
     "output_type": "stream",
     "text": [
      "\n"
     ]
    },
    {
     "name": "stdout",
     "output_type": "stream",
     "text": [
      "\n",
      "      Epoch    GPU_mem       loss  Instances       Size\n"
     ]
    },
    {
     "name": "stderr",
     "output_type": "stream",
     "text": [
      "     72/150      4.32G     0.2372         65        128: 100%|██████████| 11/11 [00:00<00:00, 12.38it/s]\n",
      "               classes   top1_acc   top5_acc: 100%|██████████| 1/1 [00:00<00:00, 55.85it/s]"
     ]
    },
    {
     "name": "stdout",
     "output_type": "stream",
     "text": [
      "                   all       0.81          1\n"
     ]
    },
    {
     "name": "stderr",
     "output_type": "stream",
     "text": [
      "\n"
     ]
    },
    {
     "name": "stdout",
     "output_type": "stream",
     "text": [
      "\n",
      "      Epoch    GPU_mem       loss  Instances       Size\n"
     ]
    },
    {
     "name": "stderr",
     "output_type": "stream",
     "text": [
      "     73/150      4.32G     0.2354         65        128: 100%|██████████| 11/11 [00:00<00:00, 11.73it/s]\n",
      "               classes   top1_acc   top5_acc: 100%|██████████| 1/1 [00:00<00:00, 56.77it/s]"
     ]
    },
    {
     "name": "stdout",
     "output_type": "stream",
     "text": [
      "                   all       0.81          1\n"
     ]
    },
    {
     "name": "stderr",
     "output_type": "stream",
     "text": [
      "\n"
     ]
    },
    {
     "name": "stdout",
     "output_type": "stream",
     "text": [
      "\n",
      "      Epoch    GPU_mem       loss  Instances       Size\n"
     ]
    },
    {
     "name": "stderr",
     "output_type": "stream",
     "text": [
      "     74/150      4.32G     0.2436         65        128: 100%|██████████| 11/11 [00:00<00:00, 11.84it/s]\n",
      "               classes   top1_acc   top5_acc: 100%|██████████| 1/1 [00:00<00:00, 64.53it/s]"
     ]
    },
    {
     "name": "stdout",
     "output_type": "stream",
     "text": [
      "                   all      0.714          1\n"
     ]
    },
    {
     "name": "stderr",
     "output_type": "stream",
     "text": [
      "\n"
     ]
    },
    {
     "name": "stdout",
     "output_type": "stream",
     "text": [
      "\n",
      "      Epoch    GPU_mem       loss  Instances       Size\n"
     ]
    },
    {
     "name": "stderr",
     "output_type": "stream",
     "text": [
      "     75/150      4.32G      0.243         65        128: 100%|██████████| 11/11 [00:00<00:00, 11.94it/s]\n",
      "               classes   top1_acc   top5_acc: 100%|██████████| 1/1 [00:00<00:00, 64.59it/s]"
     ]
    },
    {
     "name": "stdout",
     "output_type": "stream",
     "text": [
      "                   all      0.781          1\n",
      "\n",
      "      Epoch    GPU_mem       loss  Instances       Size\n"
     ]
    },
    {
     "name": "stderr",
     "output_type": "stream",
     "text": [
      "\n",
      "     76/150      4.32G     0.2534         65        128: 100%|██████████| 11/11 [00:00<00:00, 13.95it/s]\n",
      "               classes   top1_acc   top5_acc: 100%|██████████| 1/1 [00:00<00:00, 55.56it/s]"
     ]
    },
    {
     "name": "stdout",
     "output_type": "stream",
     "text": [
      "                   all       0.79          1\n",
      "\n",
      "      Epoch    GPU_mem       loss  Instances       Size\n"
     ]
    },
    {
     "name": "stderr",
     "output_type": "stream",
     "text": [
      "\n",
      "     77/150      4.32G     0.2653         65        128: 100%|██████████| 11/11 [00:00<00:00, 13.66it/s]\n",
      "               classes   top1_acc   top5_acc: 100%|██████████| 1/1 [00:00<00:00, 64.74it/s]"
     ]
    },
    {
     "name": "stdout",
     "output_type": "stream",
     "text": [
      "                   all      0.771          1\n",
      "\n",
      "      Epoch    GPU_mem       loss  Instances       Size\n"
     ]
    },
    {
     "name": "stderr",
     "output_type": "stream",
     "text": [
      "\n",
      "     78/150      4.32G     0.2258         65        128: 100%|██████████| 11/11 [00:00<00:00, 14.12it/s]\n",
      "               classes   top1_acc   top5_acc: 100%|██████████| 1/1 [00:00<00:00, 63.89it/s]"
     ]
    },
    {
     "name": "stdout",
     "output_type": "stream",
     "text": [
      "                   all       0.79          1\n",
      "\n",
      "      Epoch    GPU_mem       loss  Instances       Size\n"
     ]
    },
    {
     "name": "stderr",
     "output_type": "stream",
     "text": [
      "\n",
      "     79/150      4.32G     0.2355         65        128: 100%|██████████| 11/11 [00:00<00:00, 13.31it/s]\n",
      "               classes   top1_acc   top5_acc: 100%|██████████| 1/1 [00:00<00:00, 64.21it/s]"
     ]
    },
    {
     "name": "stdout",
     "output_type": "stream",
     "text": [
      "                   all       0.81          1\n",
      "\n",
      "      Epoch    GPU_mem       loss  Instances       Size\n"
     ]
    },
    {
     "name": "stderr",
     "output_type": "stream",
     "text": [
      "\n",
      "     80/150      4.32G     0.2585         65        128: 100%|██████████| 11/11 [00:00<00:00, 13.28it/s]\n",
      "               classes   top1_acc   top5_acc: 100%|██████████| 1/1 [00:00<00:00, 64.61it/s]"
     ]
    },
    {
     "name": "stdout",
     "output_type": "stream",
     "text": [
      "                   all      0.771          1\n"
     ]
    },
    {
     "name": "stderr",
     "output_type": "stream",
     "text": [
      "\n"
     ]
    },
    {
     "name": "stdout",
     "output_type": "stream",
     "text": [
      "\n",
      "      Epoch    GPU_mem       loss  Instances       Size\n"
     ]
    },
    {
     "name": "stderr",
     "output_type": "stream",
     "text": [
      "     81/150      4.32G     0.2234         65        128: 100%|██████████| 11/11 [00:00<00:00, 11.93it/s]\n",
      "               classes   top1_acc   top5_acc: 100%|██████████| 1/1 [00:00<00:00, 56.46it/s]"
     ]
    },
    {
     "name": "stdout",
     "output_type": "stream",
     "text": [
      "                   all      0.819          1\n"
     ]
    },
    {
     "name": "stderr",
     "output_type": "stream",
     "text": [
      "\n"
     ]
    },
    {
     "name": "stdout",
     "output_type": "stream",
     "text": [
      "\n",
      "      Epoch    GPU_mem       loss  Instances       Size\n"
     ]
    },
    {
     "name": "stderr",
     "output_type": "stream",
     "text": [
      "     82/150      4.32G     0.2475         65        128: 100%|██████████| 11/11 [00:00<00:00, 13.82it/s]\n",
      "               classes   top1_acc   top5_acc: 100%|██████████| 1/1 [00:00<00:00, 63.57it/s]"
     ]
    },
    {
     "name": "stdout",
     "output_type": "stream",
     "text": [
      "                   all      0.829          1\n",
      "\n",
      "      Epoch    GPU_mem       loss  Instances       Size\n"
     ]
    },
    {
     "name": "stderr",
     "output_type": "stream",
     "text": [
      "\n",
      "     83/150      4.32G     0.2309         65        128: 100%|██████████| 11/11 [00:00<00:00, 13.61it/s]\n",
      "               classes   top1_acc   top5_acc: 100%|██████████| 1/1 [00:00<00:00, 63.03it/s]"
     ]
    },
    {
     "name": "stdout",
     "output_type": "stream",
     "text": [
      "                   all      0.819          1\n",
      "\n",
      "      Epoch    GPU_mem       loss  Instances       Size\n"
     ]
    },
    {
     "name": "stderr",
     "output_type": "stream",
     "text": [
      "\n",
      "     84/150      4.32G     0.2283         65        128: 100%|██████████| 11/11 [00:00<00:00, 13.69it/s]\n",
      "               classes   top1_acc   top5_acc: 100%|██████████| 1/1 [00:00<00:00, 64.62it/s]"
     ]
    },
    {
     "name": "stdout",
     "output_type": "stream",
     "text": [
      "                   all      0.848          1\n"
     ]
    },
    {
     "name": "stderr",
     "output_type": "stream",
     "text": [
      "\n"
     ]
    },
    {
     "name": "stdout",
     "output_type": "stream",
     "text": [
      "\n",
      "      Epoch    GPU_mem       loss  Instances       Size\n"
     ]
    },
    {
     "name": "stderr",
     "output_type": "stream",
     "text": [
      "     85/150      4.32G      0.244         65        128: 100%|██████████| 11/11 [00:00<00:00, 13.64it/s]\n",
      "               classes   top1_acc   top5_acc: 100%|██████████| 1/1 [00:00<00:00, 64.52it/s]"
     ]
    },
    {
     "name": "stdout",
     "output_type": "stream",
     "text": [
      "                   all      0.857          1\n",
      "\n",
      "      Epoch    GPU_mem       loss  Instances       Size\n"
     ]
    },
    {
     "name": "stderr",
     "output_type": "stream",
     "text": [
      "\n",
      "     86/150      4.32G     0.2505         65        128: 100%|██████████| 11/11 [00:00<00:00, 13.67it/s]\n",
      "               classes   top1_acc   top5_acc: 100%|██████████| 1/1 [00:00<00:00, 64.54it/s]"
     ]
    },
    {
     "name": "stdout",
     "output_type": "stream",
     "text": [
      "                   all      0.829          1\n",
      "\n",
      "      Epoch    GPU_mem       loss  Instances       Size\n"
     ]
    },
    {
     "name": "stderr",
     "output_type": "stream",
     "text": [
      "\n",
      "     87/150      4.32G     0.2454         65        128: 100%|██████████| 11/11 [00:00<00:00, 13.74it/s]\n",
      "               classes   top1_acc   top5_acc: 100%|██████████| 1/1 [00:00<00:00, 63.78it/s]"
     ]
    },
    {
     "name": "stdout",
     "output_type": "stream",
     "text": [
      "                   all       0.79          1\n",
      "\n",
      "      Epoch    GPU_mem       loss  Instances       Size\n"
     ]
    },
    {
     "name": "stderr",
     "output_type": "stream",
     "text": [
      "\n",
      "     88/150      4.32G     0.2324         65        128: 100%|██████████| 11/11 [00:00<00:00, 13.57it/s]\n",
      "               classes   top1_acc   top5_acc: 100%|██████████| 1/1 [00:00<00:00, 63.73it/s]"
     ]
    },
    {
     "name": "stdout",
     "output_type": "stream",
     "text": [
      "                   all      0.829          1\n"
     ]
    },
    {
     "name": "stderr",
     "output_type": "stream",
     "text": [
      "\n"
     ]
    },
    {
     "name": "stdout",
     "output_type": "stream",
     "text": [
      "\n",
      "      Epoch    GPU_mem       loss  Instances       Size\n"
     ]
    },
    {
     "name": "stderr",
     "output_type": "stream",
     "text": [
      "     89/150      4.32G     0.2202         65        128: 100%|██████████| 11/11 [00:00<00:00, 13.60it/s]\n",
      "               classes   top1_acc   top5_acc: 100%|██████████| 1/1 [00:00<00:00, 62.17it/s]"
     ]
    },
    {
     "name": "stdout",
     "output_type": "stream",
     "text": [
      "                   all      0.819          1\n",
      "\n",
      "      Epoch    GPU_mem       loss  Instances       Size\n"
     ]
    },
    {
     "name": "stderr",
     "output_type": "stream",
     "text": [
      "\n",
      "     90/150      4.32G     0.2265         65        128: 100%|██████████| 11/11 [00:00<00:00, 13.76it/s]\n",
      "               classes   top1_acc   top5_acc: 100%|██████████| 1/1 [00:00<00:00, 64.20it/s]"
     ]
    },
    {
     "name": "stdout",
     "output_type": "stream",
     "text": [
      "                   all      0.819          1\n",
      "\n",
      "      Epoch    GPU_mem       loss  Instances       Size\n"
     ]
    },
    {
     "name": "stderr",
     "output_type": "stream",
     "text": [
      "\n",
      "     91/150      4.32G     0.2162         65        128: 100%|██████████| 11/11 [00:00<00:00, 13.96it/s]\n",
      "               classes   top1_acc   top5_acc: 100%|██████████| 1/1 [00:00<00:00, 64.27it/s]"
     ]
    },
    {
     "name": "stdout",
     "output_type": "stream",
     "text": [
      "                   all      0.819          1\n",
      "\n",
      "      Epoch    GPU_mem       loss  Instances       Size\n"
     ]
    },
    {
     "name": "stderr",
     "output_type": "stream",
     "text": [
      "\n",
      "     92/150      4.32G     0.2045         65        128: 100%|██████████| 11/11 [00:00<00:00, 13.66it/s]\n",
      "               classes   top1_acc   top5_acc: 100%|██████████| 1/1 [00:00<00:00, 60.96it/s]"
     ]
    },
    {
     "name": "stdout",
     "output_type": "stream",
     "text": [
      "                   all      0.819          1\n"
     ]
    },
    {
     "name": "stderr",
     "output_type": "stream",
     "text": [
      "\n"
     ]
    },
    {
     "name": "stdout",
     "output_type": "stream",
     "text": [
      "\n",
      "      Epoch    GPU_mem       loss  Instances       Size\n"
     ]
    },
    {
     "name": "stderr",
     "output_type": "stream",
     "text": [
      "     93/150      4.32G     0.2205         65        128: 100%|██████████| 11/11 [00:00<00:00, 12.90it/s]\n",
      "               classes   top1_acc   top5_acc: 100%|██████████| 1/1 [00:00<00:00, 64.30it/s]"
     ]
    },
    {
     "name": "stdout",
     "output_type": "stream",
     "text": [
      "                   all       0.81          1\n",
      "\n",
      "      Epoch    GPU_mem       loss  Instances       Size\n"
     ]
    },
    {
     "name": "stderr",
     "output_type": "stream",
     "text": [
      "\n",
      "     94/150      4.32G     0.2025         65        128: 100%|██████████| 11/11 [00:00<00:00, 13.65it/s]\n",
      "               classes   top1_acc   top5_acc: 100%|██████████| 1/1 [00:00<00:00, 64.51it/s]"
     ]
    },
    {
     "name": "stdout",
     "output_type": "stream",
     "text": [
      "                   all      0.829          1\n",
      "\n",
      "      Epoch    GPU_mem       loss  Instances       Size\n"
     ]
    },
    {
     "name": "stderr",
     "output_type": "stream",
     "text": [
      "\n",
      "     95/150      4.32G     0.2055         65        128: 100%|██████████| 11/11 [00:00<00:00, 13.98it/s]\n",
      "               classes   top1_acc   top5_acc: 100%|██████████| 1/1 [00:00<00:00, 64.24it/s]"
     ]
    },
    {
     "name": "stdout",
     "output_type": "stream",
     "text": [
      "                   all      0.838          1\n"
     ]
    },
    {
     "name": "stderr",
     "output_type": "stream",
     "text": [
      "\n"
     ]
    },
    {
     "name": "stdout",
     "output_type": "stream",
     "text": [
      "\n",
      "      Epoch    GPU_mem       loss  Instances       Size\n"
     ]
    },
    {
     "name": "stderr",
     "output_type": "stream",
     "text": [
      "     96/150      4.32G     0.2082         65        128: 100%|██████████| 11/11 [00:00<00:00, 13.81it/s]\n",
      "               classes   top1_acc   top5_acc: 100%|██████████| 1/1 [00:00<00:00, 63.40it/s]"
     ]
    },
    {
     "name": "stdout",
     "output_type": "stream",
     "text": [
      "                   all      0.838          1\n",
      "\n",
      "      Epoch    GPU_mem       loss  Instances       Size\n"
     ]
    },
    {
     "name": "stderr",
     "output_type": "stream",
     "text": [
      "\n",
      "     97/150      4.32G     0.2154         65        128: 100%|██████████| 11/11 [00:00<00:00, 13.74it/s]\n",
      "               classes   top1_acc   top5_acc: 100%|██████████| 1/1 [00:00<00:00, 59.62it/s]"
     ]
    },
    {
     "name": "stdout",
     "output_type": "stream",
     "text": [
      "                   all       0.81          1\n",
      "\n",
      "      Epoch    GPU_mem       loss  Instances       Size\n"
     ]
    },
    {
     "name": "stderr",
     "output_type": "stream",
     "text": [
      "\n",
      "     98/150      4.32G     0.2295         65        128: 100%|██████████| 11/11 [00:00<00:00, 14.04it/s]\n",
      "               classes   top1_acc   top5_acc: 100%|██████████| 1/1 [00:00<00:00, 64.19it/s]"
     ]
    },
    {
     "name": "stdout",
     "output_type": "stream",
     "text": [
      "                   all       0.81          1\n",
      "\n",
      "      Epoch    GPU_mem       loss  Instances       Size\n"
     ]
    },
    {
     "name": "stderr",
     "output_type": "stream",
     "text": [
      "\n",
      "     99/150      4.32G     0.2059         65        128: 100%|██████████| 11/11 [00:00<00:00, 14.00it/s]\n",
      "               classes   top1_acc   top5_acc: 100%|██████████| 1/1 [00:00<00:00, 64.46it/s]"
     ]
    },
    {
     "name": "stdout",
     "output_type": "stream",
     "text": [
      "                   all      0.829          1\n",
      "\n",
      "      Epoch    GPU_mem       loss  Instances       Size\n"
     ]
    },
    {
     "name": "stderr",
     "output_type": "stream",
     "text": [
      "\n",
      "    100/150      4.32G     0.1787         65        128: 100%|██████████| 11/11 [00:00<00:00, 13.01it/s]\n",
      "               classes   top1_acc   top5_acc: 100%|██████████| 1/1 [00:00<00:00, 58.50it/s]"
     ]
    },
    {
     "name": "stdout",
     "output_type": "stream",
     "text": [
      "                   all      0.829          1\n"
     ]
    },
    {
     "name": "stderr",
     "output_type": "stream",
     "text": [
      "\n"
     ]
    },
    {
     "name": "stdout",
     "output_type": "stream",
     "text": [
      "\n",
      "      Epoch    GPU_mem       loss  Instances       Size\n"
     ]
    },
    {
     "name": "stderr",
     "output_type": "stream",
     "text": [
      "    101/150      4.32G     0.2066         65        128: 100%|██████████| 11/11 [00:00<00:00, 13.98it/s]\n",
      "               classes   top1_acc   top5_acc: 100%|██████████| 1/1 [00:00<00:00, 64.43it/s]"
     ]
    },
    {
     "name": "stdout",
     "output_type": "stream",
     "text": [
      "                   all       0.81          1\n",
      "\n",
      "      Epoch    GPU_mem       loss  Instances       Size\n"
     ]
    },
    {
     "name": "stderr",
     "output_type": "stream",
     "text": [
      "\n",
      "    102/150      4.32G     0.2164         65        128: 100%|██████████| 11/11 [00:00<00:00, 13.95it/s]\n",
      "               classes   top1_acc   top5_acc: 100%|██████████| 1/1 [00:00<00:00, 63.90it/s]"
     ]
    },
    {
     "name": "stdout",
     "output_type": "stream",
     "text": [
      "                   all      0.857          1\n",
      "\n",
      "      Epoch    GPU_mem       loss  Instances       Size\n"
     ]
    },
    {
     "name": "stderr",
     "output_type": "stream",
     "text": [
      "\n",
      "    103/150      4.32G     0.1874         65        128: 100%|██████████| 11/11 [00:00<00:00, 13.82it/s]\n",
      "               classes   top1_acc   top5_acc: 100%|██████████| 1/1 [00:00<00:00, 63.84it/s]"
     ]
    },
    {
     "name": "stdout",
     "output_type": "stream",
     "text": [
      "                   all      0.829          1\n",
      "\n",
      "      Epoch    GPU_mem       loss  Instances       Size\n"
     ]
    },
    {
     "name": "stderr",
     "output_type": "stream",
     "text": [
      "\n",
      "    104/150      4.32G     0.2248         65        128: 100%|██████████| 11/11 [00:00<00:00, 13.22it/s]\n",
      "               classes   top1_acc   top5_acc: 100%|██████████| 1/1 [00:00<00:00, 63.92it/s]"
     ]
    },
    {
     "name": "stdout",
     "output_type": "stream",
     "text": [
      "                   all      0.829          1\n",
      "\n",
      "      Epoch    GPU_mem       loss  Instances       Size\n"
     ]
    },
    {
     "name": "stderr",
     "output_type": "stream",
     "text": [
      "\n",
      "    105/150      4.32G     0.2051         65        128: 100%|██████████| 11/11 [00:00<00:00, 13.96it/s]\n",
      "               classes   top1_acc   top5_acc: 100%|██████████| 1/1 [00:00<00:00, 55.62it/s]"
     ]
    },
    {
     "name": "stdout",
     "output_type": "stream",
     "text": [
      "                   all      0.838          1\n",
      "\n",
      "      Epoch    GPU_mem       loss  Instances       Size\n"
     ]
    },
    {
     "name": "stderr",
     "output_type": "stream",
     "text": [
      "\n",
      "    106/150      4.32G      0.214         65        128: 100%|██████████| 11/11 [00:00<00:00, 12.29it/s]\n",
      "               classes   top1_acc   top5_acc: 100%|██████████| 1/1 [00:00<00:00, 57.65it/s]"
     ]
    },
    {
     "name": "stdout",
     "output_type": "stream",
     "text": [
      "                   all       0.81          1\n"
     ]
    },
    {
     "name": "stderr",
     "output_type": "stream",
     "text": [
      "\n"
     ]
    },
    {
     "name": "stdout",
     "output_type": "stream",
     "text": [
      "\n",
      "      Epoch    GPU_mem       loss  Instances       Size\n"
     ]
    },
    {
     "name": "stderr",
     "output_type": "stream",
     "text": [
      "    107/150      4.32G     0.1982         65        128: 100%|██████████| 11/11 [00:00<00:00, 13.25it/s]\n",
      "               classes   top1_acc   top5_acc: 100%|██████████| 1/1 [00:00<00:00, 56.60it/s]"
     ]
    },
    {
     "name": "stdout",
     "output_type": "stream",
     "text": [
      "                   all      0.829          1\n"
     ]
    },
    {
     "name": "stderr",
     "output_type": "stream",
     "text": [
      "\n"
     ]
    },
    {
     "name": "stdout",
     "output_type": "stream",
     "text": [
      "\n",
      "      Epoch    GPU_mem       loss  Instances       Size\n"
     ]
    },
    {
     "name": "stderr",
     "output_type": "stream",
     "text": [
      "    108/150      4.32G     0.2035         65        128: 100%|██████████| 11/11 [00:00<00:00, 13.42it/s]\n",
      "               classes   top1_acc   top5_acc: 100%|██████████| 1/1 [00:00<00:00, 58.62it/s]"
     ]
    },
    {
     "name": "stdout",
     "output_type": "stream",
     "text": [
      "                   all      0.838          1\n",
      "\n",
      "      Epoch    GPU_mem       loss  Instances       Size\n"
     ]
    },
    {
     "name": "stderr",
     "output_type": "stream",
     "text": [
      "\n",
      "    109/150      4.32G     0.1922         65        128: 100%|██████████| 11/11 [00:00<00:00, 13.41it/s]\n",
      "               classes   top1_acc   top5_acc: 100%|██████████| 1/1 [00:00<00:00, 58.12it/s]"
     ]
    },
    {
     "name": "stdout",
     "output_type": "stream",
     "text": [
      "                   all      0.838          1\n"
     ]
    },
    {
     "name": "stderr",
     "output_type": "stream",
     "text": [
      "\n"
     ]
    },
    {
     "name": "stdout",
     "output_type": "stream",
     "text": [
      "\n",
      "      Epoch    GPU_mem       loss  Instances       Size\n"
     ]
    },
    {
     "name": "stderr",
     "output_type": "stream",
     "text": [
      "    110/150      4.32G     0.1818         65        128: 100%|██████████| 11/11 [00:00<00:00, 13.44it/s]\n",
      "               classes   top1_acc   top5_acc: 100%|██████████| 1/1 [00:00<00:00, 58.13it/s]"
     ]
    },
    {
     "name": "stdout",
     "output_type": "stream",
     "text": [
      "                   all        0.8          1\n"
     ]
    },
    {
     "name": "stderr",
     "output_type": "stream",
     "text": [
      "\n"
     ]
    },
    {
     "name": "stdout",
     "output_type": "stream",
     "text": [
      "\n",
      "      Epoch    GPU_mem       loss  Instances       Size\n"
     ]
    },
    {
     "name": "stderr",
     "output_type": "stream",
     "text": [
      "    111/150      4.32G     0.1918         65        128: 100%|██████████| 11/11 [00:00<00:00, 13.46it/s]\n",
      "               classes   top1_acc   top5_acc: 100%|██████████| 1/1 [00:00<00:00, 58.06it/s]"
     ]
    },
    {
     "name": "stdout",
     "output_type": "stream",
     "text": [
      "                   all      0.781          1\n"
     ]
    },
    {
     "name": "stderr",
     "output_type": "stream",
     "text": [
      "\n"
     ]
    },
    {
     "name": "stdout",
     "output_type": "stream",
     "text": [
      "\n",
      "      Epoch    GPU_mem       loss  Instances       Size\n"
     ]
    },
    {
     "name": "stderr",
     "output_type": "stream",
     "text": [
      "    112/150      4.32G     0.2074         65        128: 100%|██████████| 11/11 [00:00<00:00, 13.43it/s]\n",
      "               classes   top1_acc   top5_acc: 100%|██████████| 1/1 [00:00<00:00, 64.19it/s]"
     ]
    },
    {
     "name": "stdout",
     "output_type": "stream",
     "text": [
      "                   all       0.81          1\n"
     ]
    },
    {
     "name": "stderr",
     "output_type": "stream",
     "text": [
      "\n"
     ]
    },
    {
     "name": "stdout",
     "output_type": "stream",
     "text": [
      "\n",
      "      Epoch    GPU_mem       loss  Instances       Size\n"
     ]
    },
    {
     "name": "stderr",
     "output_type": "stream",
     "text": [
      "    113/150      4.32G     0.2179         65        128: 100%|██████████| 11/11 [00:00<00:00, 13.48it/s]\n",
      "               classes   top1_acc   top5_acc: 100%|██████████| 1/1 [00:00<00:00, 59.79it/s]"
     ]
    },
    {
     "name": "stdout",
     "output_type": "stream",
     "text": [
      "                   all       0.79          1\n"
     ]
    },
    {
     "name": "stderr",
     "output_type": "stream",
     "text": [
      "\n"
     ]
    },
    {
     "name": "stdout",
     "output_type": "stream",
     "text": [
      "\n",
      "      Epoch    GPU_mem       loss  Instances       Size\n"
     ]
    },
    {
     "name": "stderr",
     "output_type": "stream",
     "text": [
      "    114/150      4.32G     0.2039         65        128: 100%|██████████| 11/11 [00:00<00:00, 12.83it/s]\n",
      "               classes   top1_acc   top5_acc: 100%|██████████| 1/1 [00:00<00:00, 58.65it/s]"
     ]
    },
    {
     "name": "stdout",
     "output_type": "stream",
     "text": [
      "                   all        0.8          1\n",
      "\n",
      "      Epoch    GPU_mem       loss  Instances       Size\n"
     ]
    },
    {
     "name": "stderr",
     "output_type": "stream",
     "text": [
      "\n",
      "    115/150      4.32G     0.1856         65        128: 100%|██████████| 11/11 [00:00<00:00, 13.40it/s]\n",
      "               classes   top1_acc   top5_acc: 100%|██████████| 1/1 [00:00<00:00, 58.90it/s]"
     ]
    },
    {
     "name": "stdout",
     "output_type": "stream",
     "text": [
      "                   all        0.8          1\n"
     ]
    },
    {
     "name": "stderr",
     "output_type": "stream",
     "text": [
      "\n"
     ]
    },
    {
     "name": "stdout",
     "output_type": "stream",
     "text": [
      "\n",
      "      Epoch    GPU_mem       loss  Instances       Size\n"
     ]
    },
    {
     "name": "stderr",
     "output_type": "stream",
     "text": [
      "    116/150      4.32G     0.2015         65        128: 100%|██████████| 11/11 [00:00<00:00, 13.44it/s]\n",
      "               classes   top1_acc   top5_acc: 100%|██████████| 1/1 [00:00<00:00, 59.64it/s]"
     ]
    },
    {
     "name": "stdout",
     "output_type": "stream",
     "text": [
      "                   all        0.8          1\n"
     ]
    },
    {
     "name": "stderr",
     "output_type": "stream",
     "text": [
      "\n"
     ]
    },
    {
     "name": "stdout",
     "output_type": "stream",
     "text": [
      "\n",
      "      Epoch    GPU_mem       loss  Instances       Size\n"
     ]
    },
    {
     "name": "stderr",
     "output_type": "stream",
     "text": [
      "    117/150      4.32G     0.1957         65        128: 100%|██████████| 11/11 [00:00<00:00, 13.49it/s]\n",
      "               classes   top1_acc   top5_acc: 100%|██████████| 1/1 [00:00<00:00, 58.57it/s]"
     ]
    },
    {
     "name": "stdout",
     "output_type": "stream",
     "text": [
      "                   all      0.857          1\n",
      "\n",
      "      Epoch    GPU_mem       loss  Instances       Size\n"
     ]
    },
    {
     "name": "stderr",
     "output_type": "stream",
     "text": [
      "\n",
      "    118/150      4.32G     0.2049         65        128: 100%|██████████| 11/11 [00:00<00:00, 12.87it/s]\n",
      "               classes   top1_acc   top5_acc: 100%|██████████| 1/1 [00:00<00:00, 57.42it/s]"
     ]
    },
    {
     "name": "stdout",
     "output_type": "stream",
     "text": [
      "                   all      0.857          1\n"
     ]
    },
    {
     "name": "stderr",
     "output_type": "stream",
     "text": [
      "\n"
     ]
    },
    {
     "name": "stdout",
     "output_type": "stream",
     "text": [
      "\n",
      "      Epoch    GPU_mem       loss  Instances       Size\n"
     ]
    },
    {
     "name": "stderr",
     "output_type": "stream",
     "text": [
      "    119/150      4.32G     0.1877         65        128: 100%|██████████| 11/11 [00:00<00:00, 13.47it/s]\n",
      "               classes   top1_acc   top5_acc: 100%|██████████| 1/1 [00:00<00:00, 58.83it/s]"
     ]
    },
    {
     "name": "stdout",
     "output_type": "stream",
     "text": [
      "                   all      0.857          1\n",
      "\n",
      "      Epoch    GPU_mem       loss  Instances       Size\n"
     ]
    },
    {
     "name": "stderr",
     "output_type": "stream",
     "text": [
      "\n",
      "    120/150      4.32G     0.2076         65        128: 100%|██████████| 11/11 [00:00<00:00, 12.83it/s]\n",
      "               classes   top1_acc   top5_acc: 100%|██████████| 1/1 [00:00<00:00, 59.58it/s]"
     ]
    },
    {
     "name": "stdout",
     "output_type": "stream",
     "text": [
      "                   all      0.829          1\n",
      "\n",
      "      Epoch    GPU_mem       loss  Instances       Size\n"
     ]
    },
    {
     "name": "stderr",
     "output_type": "stream",
     "text": [
      "\n",
      "    121/150      4.32G     0.1838         65        128: 100%|██████████| 11/11 [00:00<00:00, 13.42it/s]\n",
      "               classes   top1_acc   top5_acc: 100%|██████████| 1/1 [00:00<00:00, 58.78it/s]"
     ]
    },
    {
     "name": "stdout",
     "output_type": "stream",
     "text": [
      "                   all      0.829          1\n"
     ]
    },
    {
     "name": "stderr",
     "output_type": "stream",
     "text": [
      "\n"
     ]
    },
    {
     "name": "stdout",
     "output_type": "stream",
     "text": [
      "\n",
      "      Epoch    GPU_mem       loss  Instances       Size\n"
     ]
    },
    {
     "name": "stderr",
     "output_type": "stream",
     "text": [
      "    122/150      4.32G     0.1528         65        128: 100%|██████████| 11/11 [00:00<00:00, 13.47it/s]\n",
      "               classes   top1_acc   top5_acc: 100%|██████████| 1/1 [00:00<00:00, 58.72it/s]"
     ]
    },
    {
     "name": "stdout",
     "output_type": "stream",
     "text": [
      "                   all       0.81          1\n"
     ]
    },
    {
     "name": "stderr",
     "output_type": "stream",
     "text": [
      "\n"
     ]
    },
    {
     "name": "stdout",
     "output_type": "stream",
     "text": [
      "\n",
      "      Epoch    GPU_mem       loss  Instances       Size\n"
     ]
    },
    {
     "name": "stderr",
     "output_type": "stream",
     "text": [
      "    123/150      4.32G     0.1744         65        128: 100%|██████████| 11/11 [00:00<00:00, 12.84it/s]\n",
      "               classes   top1_acc   top5_acc: 100%|██████████| 1/1 [00:00<00:00, 55.95it/s]"
     ]
    },
    {
     "name": "stdout",
     "output_type": "stream",
     "text": [
      "                   all       0.81          1\n"
     ]
    },
    {
     "name": "stderr",
     "output_type": "stream",
     "text": [
      "\n"
     ]
    },
    {
     "name": "stdout",
     "output_type": "stream",
     "text": [
      "\n",
      "      Epoch    GPU_mem       loss  Instances       Size\n"
     ]
    },
    {
     "name": "stderr",
     "output_type": "stream",
     "text": [
      "    124/150      4.32G     0.1801         65        128: 100%|██████████| 11/11 [00:00<00:00, 12.91it/s]\n",
      "               classes   top1_acc   top5_acc: 100%|██████████| 1/1 [00:00<00:00, 56.57it/s]"
     ]
    },
    {
     "name": "stdout",
     "output_type": "stream",
     "text": [
      "                   all      0.819          1\n"
     ]
    },
    {
     "name": "stderr",
     "output_type": "stream",
     "text": [
      "\n"
     ]
    },
    {
     "name": "stdout",
     "output_type": "stream",
     "text": [
      "\n",
      "      Epoch    GPU_mem       loss  Instances       Size\n"
     ]
    },
    {
     "name": "stderr",
     "output_type": "stream",
     "text": [
      "    125/150      4.32G     0.1686         65        128: 100%|██████████| 11/11 [00:00<00:00, 13.18it/s]\n",
      "               classes   top1_acc   top5_acc: 100%|██████████| 1/1 [00:00<00:00, 63.11it/s]"
     ]
    },
    {
     "name": "stdout",
     "output_type": "stream",
     "text": [
      "                   all      0.819          1\n"
     ]
    },
    {
     "name": "stderr",
     "output_type": "stream",
     "text": [
      "\n"
     ]
    },
    {
     "name": "stdout",
     "output_type": "stream",
     "text": [
      "\n",
      "      Epoch    GPU_mem       loss  Instances       Size\n"
     ]
    },
    {
     "name": "stderr",
     "output_type": "stream",
     "text": [
      "    126/150      4.32G     0.1824         65        128: 100%|██████████| 11/11 [00:00<00:00, 14.03it/s]\n",
      "               classes   top1_acc   top5_acc: 100%|██████████| 1/1 [00:00<00:00, 63.91it/s]"
     ]
    },
    {
     "name": "stdout",
     "output_type": "stream",
     "text": [
      "                   all      0.819          1\n",
      "\n",
      "      Epoch    GPU_mem       loss  Instances       Size\n"
     ]
    },
    {
     "name": "stderr",
     "output_type": "stream",
     "text": [
      "\n",
      "    127/150      4.32G     0.1894         65        128: 100%|██████████| 11/11 [00:00<00:00, 13.05it/s]\n",
      "               classes   top1_acc   top5_acc: 100%|██████████| 1/1 [00:00<00:00, 64.30it/s]"
     ]
    },
    {
     "name": "stdout",
     "output_type": "stream",
     "text": [
      "                   all      0.819          1\n",
      "\n",
      "      Epoch    GPU_mem       loss  Instances       Size\n"
     ]
    },
    {
     "name": "stderr",
     "output_type": "stream",
     "text": [
      "\n",
      "    128/150      4.32G     0.1619         65        128: 100%|██████████| 11/11 [00:00<00:00, 13.76it/s]\n",
      "               classes   top1_acc   top5_acc: 100%|██████████| 1/1 [00:00<00:00, 63.99it/s]"
     ]
    },
    {
     "name": "stdout",
     "output_type": "stream",
     "text": [
      "                   all      0.819          1\n",
      "\n",
      "      Epoch    GPU_mem       loss  Instances       Size\n"
     ]
    },
    {
     "name": "stderr",
     "output_type": "stream",
     "text": [
      "\n",
      "    129/150      4.32G     0.1935         65        128: 100%|██████████| 11/11 [00:00<00:00, 13.98it/s]\n",
      "               classes   top1_acc   top5_acc: 100%|██████████| 1/1 [00:00<00:00, 63.64it/s]"
     ]
    },
    {
     "name": "stdout",
     "output_type": "stream",
     "text": [
      "                   all       0.79          1\n",
      "\n",
      "      Epoch    GPU_mem       loss  Instances       Size\n"
     ]
    },
    {
     "name": "stderr",
     "output_type": "stream",
     "text": [
      "\n",
      "    130/150      4.32G        0.2         65        128: 100%|██████████| 11/11 [00:00<00:00, 14.04it/s]\n",
      "               classes   top1_acc   top5_acc: 100%|██████████| 1/1 [00:00<00:00, 61.31it/s]"
     ]
    },
    {
     "name": "stdout",
     "output_type": "stream",
     "text": [
      "                   all        0.8          1\n",
      "\n",
      "      Epoch    GPU_mem       loss  Instances       Size\n"
     ]
    },
    {
     "name": "stderr",
     "output_type": "stream",
     "text": [
      "\n",
      "    131/150      4.32G     0.2123         65        128: 100%|██████████| 11/11 [00:00<00:00, 14.03it/s]\n",
      "               classes   top1_acc   top5_acc: 100%|██████████| 1/1 [00:00<00:00, 64.14it/s]"
     ]
    },
    {
     "name": "stdout",
     "output_type": "stream",
     "text": [
      "                   all       0.81          1\n",
      "\n",
      "      Epoch    GPU_mem       loss  Instances       Size\n"
     ]
    },
    {
     "name": "stderr",
     "output_type": "stream",
     "text": [
      "\n",
      "    132/150      4.32G     0.1616         65        128: 100%|██████████| 11/11 [00:00<00:00, 14.01it/s]\n",
      "               classes   top1_acc   top5_acc: 100%|██████████| 1/1 [00:00<00:00, 63.84it/s]"
     ]
    },
    {
     "name": "stdout",
     "output_type": "stream",
     "text": [
      "                   all      0.781          1\n",
      "\n",
      "      Epoch    GPU_mem       loss  Instances       Size\n"
     ]
    },
    {
     "name": "stderr",
     "output_type": "stream",
     "text": [
      "\n",
      "    133/150      4.32G     0.1834         65        128: 100%|██████████| 11/11 [00:00<00:00, 14.04it/s]\n",
      "               classes   top1_acc   top5_acc: 100%|██████████| 1/1 [00:00<00:00, 63.70it/s]"
     ]
    },
    {
     "name": "stdout",
     "output_type": "stream",
     "text": [
      "                   all       0.79          1\n",
      "\n",
      "      Epoch    GPU_mem       loss  Instances       Size\n"
     ]
    },
    {
     "name": "stderr",
     "output_type": "stream",
     "text": [
      "\n",
      "    134/150      4.32G     0.1623         65        128: 100%|██████████| 11/11 [00:00<00:00, 14.02it/s]\n",
      "               classes   top1_acc   top5_acc: 100%|██████████| 1/1 [00:00<00:00, 63.50it/s]"
     ]
    },
    {
     "name": "stdout",
     "output_type": "stream",
     "text": [
      "                   all       0.79          1\n",
      "\n",
      "      Epoch    GPU_mem       loss  Instances       Size\n"
     ]
    },
    {
     "name": "stderr",
     "output_type": "stream",
     "text": [
      "\n",
      "    135/150      4.32G     0.1596         65        128: 100%|██████████| 11/11 [00:00<00:00, 14.03it/s]\n",
      "               classes   top1_acc   top5_acc: 100%|██████████| 1/1 [00:00<00:00, 63.82it/s]"
     ]
    },
    {
     "name": "stdout",
     "output_type": "stream",
     "text": [
      "                   all      0.819          1\n",
      "\n",
      "      Epoch    GPU_mem       loss  Instances       Size\n"
     ]
    },
    {
     "name": "stderr",
     "output_type": "stream",
     "text": [
      "\n",
      "    136/150      4.32G     0.1346         65        128: 100%|██████████| 11/11 [00:00<00:00, 14.05it/s]\n",
      "               classes   top1_acc   top5_acc: 100%|██████████| 1/1 [00:00<00:00, 64.00it/s]"
     ]
    },
    {
     "name": "stdout",
     "output_type": "stream",
     "text": [
      "                   all       0.81          1\n",
      "\n",
      "      Epoch    GPU_mem       loss  Instances       Size\n"
     ]
    },
    {
     "name": "stderr",
     "output_type": "stream",
     "text": [
      "\n",
      "    137/150      4.32G      0.184         65        128: 100%|██████████| 11/11 [00:00<00:00, 14.01it/s]\n",
      "               classes   top1_acc   top5_acc: 100%|██████████| 1/1 [00:00<00:00, 64.26it/s]"
     ]
    },
    {
     "name": "stdout",
     "output_type": "stream",
     "text": [
      "                   all      0.819          1\n",
      "\n",
      "      Epoch    GPU_mem       loss  Instances       Size\n"
     ]
    },
    {
     "name": "stderr",
     "output_type": "stream",
     "text": [
      "\n",
      "    138/150      4.32G     0.1863         65        128: 100%|██████████| 11/11 [00:00<00:00, 14.02it/s]\n",
      "               classes   top1_acc   top5_acc: 100%|██████████| 1/1 [00:00<00:00, 63.99it/s]"
     ]
    },
    {
     "name": "stdout",
     "output_type": "stream",
     "text": [
      "                   all      0.819          1\n",
      "\n",
      "      Epoch    GPU_mem       loss  Instances       Size\n"
     ]
    },
    {
     "name": "stderr",
     "output_type": "stream",
     "text": [
      "\n",
      "    139/150      4.32G     0.1578         65        128: 100%|██████████| 11/11 [00:00<00:00, 14.01it/s]\n",
      "               classes   top1_acc   top5_acc: 100%|██████████| 1/1 [00:00<00:00, 64.49it/s]"
     ]
    },
    {
     "name": "stdout",
     "output_type": "stream",
     "text": [
      "                   all      0.819          1\n",
      "\n",
      "      Epoch    GPU_mem       loss  Instances       Size\n"
     ]
    },
    {
     "name": "stderr",
     "output_type": "stream",
     "text": [
      "\n",
      "    140/150      4.32G     0.1869         65        128: 100%|██████████| 11/11 [00:00<00:00, 14.02it/s]\n",
      "               classes   top1_acc   top5_acc: 100%|██████████| 1/1 [00:00<00:00, 63.95it/s]"
     ]
    },
    {
     "name": "stdout",
     "output_type": "stream",
     "text": [
      "                   all      0.819          1\n"
     ]
    },
    {
     "name": "stderr",
     "output_type": "stream",
     "text": [
      "\n"
     ]
    },
    {
     "name": "stdout",
     "output_type": "stream",
     "text": [
      "\n",
      "      Epoch    GPU_mem       loss  Instances       Size\n"
     ]
    },
    {
     "name": "stderr",
     "output_type": "stream",
     "text": [
      "    141/150      4.32G     0.1806         65        128: 100%|██████████| 11/11 [00:01<00:00, 10.64it/s]\n",
      "               classes   top1_acc   top5_acc: 100%|██████████| 1/1 [00:00<00:00, 63.89it/s]"
     ]
    },
    {
     "name": "stdout",
     "output_type": "stream",
     "text": [
      "                   all        0.8          1\n",
      "\n",
      "      Epoch    GPU_mem       loss  Instances       Size\n"
     ]
    },
    {
     "name": "stderr",
     "output_type": "stream",
     "text": [
      "\n",
      "    142/150      4.32G     0.1738         65        128: 100%|██████████| 11/11 [00:00<00:00, 13.99it/s]\n",
      "               classes   top1_acc   top5_acc: 100%|██████████| 1/1 [00:00<00:00, 63.96it/s]"
     ]
    },
    {
     "name": "stdout",
     "output_type": "stream",
     "text": [
      "                   all        0.8          1\n",
      "\n",
      "      Epoch    GPU_mem       loss  Instances       Size\n"
     ]
    },
    {
     "name": "stderr",
     "output_type": "stream",
     "text": [
      "\n",
      "    143/150      4.32G     0.1505         65        128: 100%|██████████| 11/11 [00:00<00:00, 13.97it/s]\n",
      "               classes   top1_acc   top5_acc: 100%|██████████| 1/1 [00:00<00:00, 63.82it/s]"
     ]
    },
    {
     "name": "stdout",
     "output_type": "stream",
     "text": [
      "                   all       0.79          1\n",
      "\n",
      "      Epoch    GPU_mem       loss  Instances       Size\n"
     ]
    },
    {
     "name": "stderr",
     "output_type": "stream",
     "text": [
      "\n",
      "    144/150      4.32G     0.1645         65        128: 100%|██████████| 11/11 [00:00<00:00, 14.03it/s]\n",
      "               classes   top1_acc   top5_acc: 100%|██████████| 1/1 [00:00<00:00, 63.79it/s]"
     ]
    },
    {
     "name": "stdout",
     "output_type": "stream",
     "text": [
      "                   all        0.8          1\n"
     ]
    },
    {
     "name": "stderr",
     "output_type": "stream",
     "text": [
      "\n"
     ]
    },
    {
     "name": "stdout",
     "output_type": "stream",
     "text": [
      "\n",
      "      Epoch    GPU_mem       loss  Instances       Size\n"
     ]
    },
    {
     "name": "stderr",
     "output_type": "stream",
     "text": [
      "    145/150      4.32G     0.1704         65        128: 100%|██████████| 11/11 [00:00<00:00, 14.03it/s]\n",
      "               classes   top1_acc   top5_acc: 100%|██████████| 1/1 [00:00<00:00, 63.71it/s]"
     ]
    },
    {
     "name": "stdout",
     "output_type": "stream",
     "text": [
      "                   all        0.8          1\n",
      "\n",
      "      Epoch    GPU_mem       loss  Instances       Size\n"
     ]
    },
    {
     "name": "stderr",
     "output_type": "stream",
     "text": [
      "\n",
      "    146/150      4.32G     0.1753         65        128: 100%|██████████| 11/11 [00:00<00:00, 13.99it/s]\n",
      "               classes   top1_acc   top5_acc: 100%|██████████| 1/1 [00:00<00:00, 63.40it/s]"
     ]
    },
    {
     "name": "stdout",
     "output_type": "stream",
     "text": [
      "                   all       0.79          1\n",
      "\n",
      "      Epoch    GPU_mem       loss  Instances       Size\n"
     ]
    },
    {
     "name": "stderr",
     "output_type": "stream",
     "text": [
      "\n",
      "    147/150      4.32G     0.1719         65        128: 100%|██████████| 11/11 [00:00<00:00, 14.03it/s]\n",
      "               classes   top1_acc   top5_acc: 100%|██████████| 1/1 [00:00<00:00, 62.94it/s]"
     ]
    },
    {
     "name": "stdout",
     "output_type": "stream",
     "text": [
      "                   all      0.781          1\n",
      "\n",
      "      Epoch    GPU_mem       loss  Instances       Size\n"
     ]
    },
    {
     "name": "stderr",
     "output_type": "stream",
     "text": [
      "\n",
      "    148/150      4.32G     0.1876         65        128: 100%|██████████| 11/11 [00:00<00:00, 13.99it/s]\n",
      "               classes   top1_acc   top5_acc: 100%|██████████| 1/1 [00:00<00:00, 63.52it/s]"
     ]
    },
    {
     "name": "stdout",
     "output_type": "stream",
     "text": [
      "                   all       0.79          1\n",
      "\n",
      "      Epoch    GPU_mem       loss  Instances       Size\n"
     ]
    },
    {
     "name": "stderr",
     "output_type": "stream",
     "text": [
      "\n",
      "    149/150      4.32G     0.1696         65        128: 100%|██████████| 11/11 [00:00<00:00, 14.02it/s]\n",
      "               classes   top1_acc   top5_acc: 100%|██████████| 1/1 [00:00<00:00, 63.69it/s]"
     ]
    },
    {
     "name": "stdout",
     "output_type": "stream",
     "text": [
      "                   all       0.79          1\n"
     ]
    },
    {
     "name": "stderr",
     "output_type": "stream",
     "text": [
      "\n"
     ]
    },
    {
     "name": "stdout",
     "output_type": "stream",
     "text": [
      "\n",
      "      Epoch    GPU_mem       loss  Instances       Size\n"
     ]
    },
    {
     "name": "stderr",
     "output_type": "stream",
     "text": [
      "    150/150      4.32G     0.1469         65        128: 100%|██████████| 11/11 [00:00<00:00, 14.04it/s]\n",
      "               classes   top1_acc   top5_acc: 100%|██████████| 1/1 [00:00<00:00, 64.18it/s]"
     ]
    },
    {
     "name": "stdout",
     "output_type": "stream",
     "text": [
      "                   all       0.79          1\n"
     ]
    },
    {
     "name": "stderr",
     "output_type": "stream",
     "text": [
      "\n"
     ]
    },
    {
     "name": "stdout",
     "output_type": "stream",
     "text": [
      "\n",
      "150 epochs completed in 0.039 hours.\n",
      "Optimizer stripped from rice-germ-clssification/run4/weights/last.pt, 112.6MB\n",
      "Optimizer stripped from rice-germ-clssification/run4/weights/best.pt, 112.5MB\n",
      "\n",
      "Validating rice-germ-clssification/run4/weights/best.pt...\n",
      "Ultralytics YOLOv8.1.37 🚀 Python-3.11.8 torch-2.1.1+cu121 CUDA:0 (NVIDIA GeForce RTX 4080, 16071MiB)\n",
      "YOLOv8x-cls summary (fused): 133 layers, 56127043 parameters, 0 gradients, 153.8 GFLOPs\n",
      "\u001b[34m\u001b[1mtrain:\u001b[0m /home/andre/Desktop/ComputerVision_STA_Project/rice-germ-cls-dataset/train... found 1345 images in 3 classes ✅ \n",
      "\u001b[34m\u001b[1mval:\u001b[0m /home/andre/Desktop/ComputerVision_STA_Project/rice-germ-cls-dataset/val... found 105 images in 3 classes ✅ \n",
      "\u001b[34m\u001b[1mtest:\u001b[0m None...\n"
     ]
    },
    {
     "name": "stderr",
     "output_type": "stream",
     "text": [
      "               classes   top1_acc   top5_acc: 100%|██████████| 1/1 [00:00<00:00, 59.77it/s]\n"
     ]
    },
    {
     "name": "stdout",
     "output_type": "stream",
     "text": [
      "                   all      0.876          1\n",
      "Speed: 0.0ms preprocess, 0.1ms inference, 0.0ms loss, 0.0ms postprocess per image\n",
      "Results saved to \u001b[1mrice-germ-clssification/run4\u001b[0m\n",
      "Results saved to \u001b[1mrice-germ-clssification/run4\u001b[0m\n"
     ]
    },
    {
     "data": {
      "text/plain": [
       "ultralytics.utils.metrics.ClassifyMetrics object with attributes:\n",
       "\n",
       "confusion_matrix: <ultralytics.utils.metrics.ConfusionMatrix object at 0x73139c6aba50>\n",
       "curves: []\n",
       "curves_results: []\n",
       "fitness: 0.9380952417850494\n",
       "keys: ['metrics/accuracy_top1', 'metrics/accuracy_top5']\n",
       "results_dict: {'metrics/accuracy_top1': 0.8761904835700989, 'metrics/accuracy_top5': 1.0, 'fitness': 0.9380952417850494}\n",
       "save_dir: PosixPath('rice-germ-clssification/run4')\n",
       "speed: {'preprocess': 0.009629839942568824, 'inference': 0.14105070204961867, 'loss': 3.1789143880208336e-05, 'postprocess': 2.724783761160714e-05}\n",
       "task: 'classify'\n",
       "top1: 0.8761904835700989\n",
       "top5: 1.0"
      ]
     },
     "execution_count": 3,
     "metadata": {},
     "output_type": "execute_result"
    }
   ],
   "source": [
    "run_path = \"./rice-germ-clssification\"\n",
    "model_path = \"run4\"\n",
    "model_path = os.path.join(run_path, model_path)\n",
    "model_path_pt = os.path.join(model_path, \"weights\", \"last.pt\")\n",
    "\n",
    "myModel = YOLO(model_path_pt)\n",
    "\n",
    "if inject_new_data:\n",
    "    N = 50\n",
    "    for i in unlabeled_data_picker.pick(N):\n",
    "        a = myModel.predict(f\"{raw_images_path}/{i}.jpg\")\n",
    "        label = a[0].names[a[0].probs.top1]\n",
    "        shutil.copy(f\"{raw_images_path}/{i}.jpg\", f\"{dataset_path}/train/{label}\")\n",
    "\n",
    "batch = 128\n",
    "imgsz = 128\n",
    "config = {\n",
    "    \"data\": dataset_path,\n",
    "    \"epochs\": epochs,\n",
    "    \"batch\": batch,\n",
    "    \"imgsz\": imgsz,\n",
    "    \"device\": \"0\",\n",
    "    \"project\": \"rice-germ-clssification\",\n",
    "    \"name\": \"run4\",\n",
    "    \"seed\": random_seed,\n",
    "    \"cache\": True,\n",
    "    \"workers\": 24,\n",
    "    \"patience\": epochs,\n",
    "    \"save\": False,\n",
    "    \"exist_ok\": True,\n",
    "}\n",
    "\n",
    "myModel.train(**config)"
   ]
  },
  {
   "cell_type": "code",
   "execution_count": 4,
   "metadata": {},
   "outputs": [
    {
     "ename": "AssertionError",
     "evalue": "",
     "output_type": "error",
     "traceback": [
      "\u001b[0;31m---------------------------------------------------------------------------\u001b[0m",
      "\u001b[0;31mAssertionError\u001b[0m                            Traceback (most recent call last)",
      "Cell \u001b[0;32mIn[4], line 1\u001b[0m\n\u001b[0;32m----> 1\u001b[0m \u001b[38;5;28;01massert\u001b[39;00m \u001b[38;5;28;01mFalse\u001b[39;00m\n",
      "\u001b[0;31mAssertionError\u001b[0m: "
     ]
    }
   ],
   "source": [
    "assert False"
   ]
  },
  {
   "cell_type": "code",
   "execution_count": 5,
   "metadata": {},
   "outputs": [
    {
     "name": "stdout",
     "output_type": "stream",
     "text": [
      "Ultralytics YOLOv8.1.37 🚀 Python-3.11.8 torch-2.1.1+cu121 CUDA:0 (NVIDIA GeForce RTX 4080, 16071MiB)\n",
      "YOLOv8x-cls summary (fused): 133 layers, 56127043 parameters, 0 gradients, 153.8 GFLOPs\n",
      "\u001b[34m\u001b[1mtrain:\u001b[0m /home/andre/Desktop/ComputerVision_STA_Project/rice-germ-cls-dataset/train... found 1345 images in 3 classes ✅ \n",
      "\u001b[34m\u001b[1mval:\u001b[0m /home/andre/Desktop/ComputerVision_STA_Project/rice-germ-cls-dataset/val... found 105 images in 3 classes ✅ \n",
      "\u001b[34m\u001b[1mtest:\u001b[0m None...\n"
     ]
    },
    {
     "name": "stderr",
     "output_type": "stream",
     "text": [
      "\u001b[34m\u001b[1mval: \u001b[0mScanning /home/andre/Desktop/ComputerVision_STA_Project/rice-germ-cls-dataset/val... 105 images, 0 corrupt: 100%|██████████| 105/105 [00:00<?, ?it/s]\n",
      "               classes   top1_acc   top5_acc: 100%|██████████| 1/1 [00:00<00:00,  4.11it/s]\n"
     ]
    },
    {
     "name": "stdout",
     "output_type": "stream",
     "text": [
      "                   all      0.876          1\n",
      "Speed: 0.0ms preprocess, 1.0ms inference, 0.0ms loss, 0.0ms postprocess per image\n",
      "Results saved to \u001b[1mrice-germ-clssification/run4\u001b[0m\n"
     ]
    },
    {
     "data": {
      "text/plain": [
       "ultralytics.utils.metrics.ClassifyMetrics object with attributes:\n",
       "\n",
       "confusion_matrix: <ultralytics.utils.metrics.ConfusionMatrix object at 0x7312985f2110>\n",
       "curves: []\n",
       "curves_results: []\n",
       "fitness: 0.9380952417850494\n",
       "keys: ['metrics/accuracy_top1', 'metrics/accuracy_top5']\n",
       "results_dict: {'metrics/accuracy_top1': 0.8761904835700989, 'metrics/accuracy_top5': 1.0, 'fitness': 0.9380952417850494}\n",
       "save_dir: PosixPath('rice-germ-clssification/run4')\n",
       "speed: {'preprocess': 0.010865075247628348, 'inference': 1.02079709370931, 'loss': 5.222502208891369e-05, 'postprocess': 0.00010899135044642856}\n",
       "task: 'classify'\n",
       "top1: 0.8761904835700989\n",
       "top5: 1.0"
      ]
     },
     "execution_count": 5,
     "metadata": {},
     "output_type": "execute_result"
    }
   ],
   "source": [
    "myModel.val()"
   ]
  },
  {
   "cell_type": "markdown",
   "metadata": {},
   "source": [
    "# Export model as onnx"
   ]
  },
  {
   "cell_type": "code",
   "execution_count": 5,
   "metadata": {},
   "outputs": [],
   "source": [
    "run_path = \"./rice-germ-clssification\"\n",
    "model_path = \"run4\" # change this to the model path you want to use\n",
    "model_path = os.path.join(run_path, model_path)\n",
    "model_path_pt = os.path.join(model_path, \"weights\", \"best.pt\")"
   ]
  },
  {
   "cell_type": "code",
   "execution_count": 6,
   "metadata": {},
   "outputs": [
    {
     "name": "stdout",
     "output_type": "stream",
     "text": [
      "Ultralytics YOLOv8.1.37 🚀 Python-3.11.8 torch-2.1.1+cu121 CUDA:0 (NVIDIA GeForce RTX 4080, 16071MiB)\n",
      "YOLOv8x-cls summary (fused): 133 layers, 56127043 parameters, 0 gradients, 153.8 GFLOPs\n",
      "\u001b[34m\u001b[1mtrain:\u001b[0m /home/andre/Desktop/ComputerVision_STA_Project/rice-germ-cls-dataset/train... found 1345 images in 3 classes ✅ \n",
      "\u001b[34m\u001b[1mval:\u001b[0m /home/andre/Desktop/ComputerVision_STA_Project/rice-germ-cls-dataset/val... found 105 images in 3 classes ✅ \n",
      "\u001b[34m\u001b[1mtest:\u001b[0m None...\n"
     ]
    },
    {
     "name": "stderr",
     "output_type": "stream",
     "text": [
      "\u001b[34m\u001b[1mval: \u001b[0mScanning /home/andre/Desktop/ComputerVision_STA_Project/rice-germ-cls-dataset/val... 105 images, 0 corrupt: 100%|██████████| 105/105 [00:00<?, ?it/s]\n",
      "               classes   top1_acc   top5_acc: 100%|██████████| 7/7 [00:00<00:00, 39.25it/s]\n"
     ]
    },
    {
     "name": "stdout",
     "output_type": "stream",
     "text": [
      "                   all      0.876          1\n",
      "Speed: 0.0ms preprocess, 1.4ms inference, 0.0ms loss, 0.0ms postprocess per image\n",
      "Results saved to \u001b[1mruns/classify/val2\u001b[0m\n"
     ]
    },
    {
     "data": {
      "text/plain": [
       "ultralytics.utils.metrics.ClassifyMetrics object with attributes:\n",
       "\n",
       "confusion_matrix: <ultralytics.utils.metrics.ConfusionMatrix object at 0x7f528e466010>\n",
       "curves: []\n",
       "curves_results: []\n",
       "fitness: 0.9380952417850494\n",
       "keys: ['metrics/accuracy_top1', 'metrics/accuracy_top5']\n",
       "results_dict: {'metrics/accuracy_top1': 0.8761904835700989, 'metrics/accuracy_top5': 1.0, 'fitness': 0.9380952417850494}\n",
       "save_dir: PosixPath('runs/classify/val2')\n",
       "speed: {'preprocess': 0.02768834431966146, 'inference': 1.3545513153076172, 'loss': 0.00021117074148995535, 'postprocess': 0.0002702077229817708}\n",
       "task: 'classify'\n",
       "top1: 0.8761904835700989\n",
       "top5: 1.0"
      ]
     },
     "execution_count": 6,
     "metadata": {},
     "output_type": "execute_result"
    }
   ],
   "source": [
    "myModel = YOLO(model_path_pt)\n",
    "myModel.val()"
   ]
  },
  {
   "cell_type": "code",
   "execution_count": 7,
   "metadata": {},
   "outputs": [
    {
     "name": "stdout",
     "output_type": "stream",
     "text": [
      "Ultralytics YOLOv8.1.37 🚀 Python-3.11.8 torch-2.1.1+cu121 CPU (13th Gen Intel Core(TM) i7-13700K)\n",
      "YOLOv8x-cls summary (fused): 133 layers, 56127043 parameters, 0 gradients, 153.8 GFLOPs\n",
      "\n",
      "\u001b[34m\u001b[1mPyTorch:\u001b[0m starting from 'rice-germ-clssification/run4/weights/best.pt' with input shape (1, 3, 128, 128) BCHW and output shape(s) (1, 3) (107.3 MB)\n",
      "\n",
      "\u001b[34m\u001b[1mONNX:\u001b[0m starting export with onnx 1.16.0 opset 17...\n",
      "\u001b[34m\u001b[1mONNX:\u001b[0m export success ✅ 1.1s, saved as 'rice-germ-clssification/run4/weights/best.onnx' (214.1 MB)\n",
      "\n",
      "Export complete (2.5s)\n",
      "Results saved to \u001b[1m/home/andre/Desktop/ComputerVision_STA_Project/rice-germ-clssification/run4/weights\u001b[0m\n",
      "Predict:         yolo predict task=classify model=rice-germ-clssification/run4/weights/best.onnx imgsz=128  \n",
      "Validate:        yolo val task=classify model=rice-germ-clssification/run4/weights/best.onnx imgsz=128 data=./rice-germ-cls-dataset  \n",
      "Visualize:       https://netron.app\n"
     ]
    }
   ],
   "source": [
    "to_save_model = YOLO(model_path_pt)\n",
    "to_save_model.export(format=\"onnx\")\n",
    "model_path_onnx = os.path.join(model_path, \"weights\", \"best.onnx\")"
   ]
  },
  {
   "cell_type": "code",
   "execution_count": null,
   "metadata": {},
   "outputs": [
    {
     "ename": "KeyboardInterrupt",
     "evalue": "",
     "output_type": "error",
     "traceback": [
      "\u001b[0;31m---------------------------------------------------------------------------\u001b[0m",
      "\u001b[0;31mKeyboardInterrupt\u001b[0m                         Traceback (most recent call last)",
      "Cell \u001b[0;32mIn[6], line 12\u001b[0m\n\u001b[1;32m      9\u001b[0m \u001b[38;5;66;03m# zip run17 folder into name seg-model-<ddmmyyhhmm>.zip\u001b[39;00m\n\u001b[1;32m     10\u001b[0m zip_name \u001b[38;5;241m=\u001b[39m \u001b[38;5;124mf\u001b[39m\u001b[38;5;124m\"\u001b[39m\u001b[38;5;124m rice-germ-cls-model-\u001b[39m\u001b[38;5;132;01m{\u001b[39;00mtime\u001b[38;5;132;01m}\u001b[39;00m\u001b[38;5;124m\"\u001b[39m\n\u001b[0;32m---> 12\u001b[0m \u001b[43mshutil\u001b[49m\u001b[38;5;241;43m.\u001b[39;49m\u001b[43mmake_archive\u001b[49m\u001b[43m(\u001b[49m\u001b[38;5;124;43mf\u001b[39;49m\u001b[38;5;124;43m\"\u001b[39;49m\u001b[38;5;132;43;01m{\u001b[39;49;00m\u001b[43mto_save_path\u001b[49m\u001b[38;5;132;43;01m}\u001b[39;49;00m\u001b[38;5;124;43m/\u001b[39;49m\u001b[38;5;132;43;01m{\u001b[39;49;00m\u001b[43mzip_name\u001b[49m\u001b[38;5;132;43;01m}\u001b[39;49;00m\u001b[38;5;124;43m_imgsz\u001b[39;49m\u001b[38;5;132;43;01m{\u001b[39;49;00m\u001b[43mimgsz\u001b[49m\u001b[38;5;132;43;01m}\u001b[39;49;00m\u001b[38;5;124;43m\"\u001b[39;49m\u001b[43m,\u001b[49m\u001b[43m \u001b[49m\u001b[38;5;124;43m'\u001b[39;49m\u001b[38;5;124;43mzip\u001b[39;49m\u001b[38;5;124;43m'\u001b[39;49m\u001b[43m,\u001b[49m\u001b[43m \u001b[49m\u001b[43mmodel_path\u001b[49m\u001b[43m)\u001b[49m\n",
      "File \u001b[0;32m~/anaconda3/envs/CV2/lib/python3.11/shutil.py:1165\u001b[0m, in \u001b[0;36mmake_archive\u001b[0;34m(base_name, format, root_dir, base_dir, verbose, dry_run, owner, group, logger)\u001b[0m\n\u001b[1;32m   1162\u001b[0m             os\u001b[38;5;241m.\u001b[39mchdir(root_dir)\n\u001b[1;32m   1164\u001b[0m \u001b[38;5;28;01mtry\u001b[39;00m:\n\u001b[0;32m-> 1165\u001b[0m     filename \u001b[38;5;241m=\u001b[39m \u001b[43mfunc\u001b[49m\u001b[43m(\u001b[49m\u001b[43mbase_name\u001b[49m\u001b[43m,\u001b[49m\u001b[43m \u001b[49m\u001b[43mbase_dir\u001b[49m\u001b[43m,\u001b[49m\u001b[43m \u001b[49m\u001b[38;5;241;43m*\u001b[39;49m\u001b[38;5;241;43m*\u001b[39;49m\u001b[43mkwargs\u001b[49m\u001b[43m)\u001b[49m\n\u001b[1;32m   1166\u001b[0m \u001b[38;5;28;01mfinally\u001b[39;00m:\n\u001b[1;32m   1167\u001b[0m     \u001b[38;5;28;01mif\u001b[39;00m save_cwd \u001b[38;5;129;01mis\u001b[39;00m \u001b[38;5;129;01mnot\u001b[39;00m \u001b[38;5;28;01mNone\u001b[39;00m:\n",
      "File \u001b[0;32m~/anaconda3/envs/CV2/lib/python3.11/shutil.py:1046\u001b[0m, in \u001b[0;36m_make_zipfile\u001b[0;34m(base_name, base_dir, verbose, dry_run, logger, owner, group, root_dir)\u001b[0m\n\u001b[1;32m   1044\u001b[0m \u001b[38;5;28;01mif\u001b[39;00m os\u001b[38;5;241m.\u001b[39mpath\u001b[38;5;241m.\u001b[39misfile(path):\n\u001b[1;32m   1045\u001b[0m     arcname \u001b[38;5;241m=\u001b[39m os\u001b[38;5;241m.\u001b[39mpath\u001b[38;5;241m.\u001b[39mjoin(arcdirpath, name)\n\u001b[0;32m-> 1046\u001b[0m     \u001b[43mzf\u001b[49m\u001b[38;5;241;43m.\u001b[39;49m\u001b[43mwrite\u001b[49m\u001b[43m(\u001b[49m\u001b[43mpath\u001b[49m\u001b[43m,\u001b[49m\u001b[43m \u001b[49m\u001b[43marcname\u001b[49m\u001b[43m)\u001b[49m\n\u001b[1;32m   1047\u001b[0m     \u001b[38;5;28;01mif\u001b[39;00m logger \u001b[38;5;129;01mis\u001b[39;00m \u001b[38;5;129;01mnot\u001b[39;00m \u001b[38;5;28;01mNone\u001b[39;00m:\n\u001b[1;32m   1048\u001b[0m         logger\u001b[38;5;241m.\u001b[39minfo(\u001b[38;5;124m\"\u001b[39m\u001b[38;5;124madding \u001b[39m\u001b[38;5;124m'\u001b[39m\u001b[38;5;132;01m%s\u001b[39;00m\u001b[38;5;124m'\u001b[39m\u001b[38;5;124m\"\u001b[39m, path)\n",
      "File \u001b[0;32m~/anaconda3/envs/CV2/lib/python3.11/zipfile.py:1806\u001b[0m, in \u001b[0;36mZipFile.write\u001b[0;34m(self, filename, arcname, compress_type, compresslevel)\u001b[0m\n\u001b[1;32m   1803\u001b[0m     zinfo\u001b[38;5;241m.\u001b[39m_compresslevel \u001b[38;5;241m=\u001b[39m \u001b[38;5;28mself\u001b[39m\u001b[38;5;241m.\u001b[39mcompresslevel\n\u001b[1;32m   1805\u001b[0m \u001b[38;5;28;01mwith\u001b[39;00m \u001b[38;5;28mopen\u001b[39m(filename, \u001b[38;5;124m\"\u001b[39m\u001b[38;5;124mrb\u001b[39m\u001b[38;5;124m\"\u001b[39m) \u001b[38;5;28;01mas\u001b[39;00m src, \u001b[38;5;28mself\u001b[39m\u001b[38;5;241m.\u001b[39mopen(zinfo, \u001b[38;5;124m'\u001b[39m\u001b[38;5;124mw\u001b[39m\u001b[38;5;124m'\u001b[39m) \u001b[38;5;28;01mas\u001b[39;00m dest:\n\u001b[0;32m-> 1806\u001b[0m     \u001b[43mshutil\u001b[49m\u001b[38;5;241;43m.\u001b[39;49m\u001b[43mcopyfileobj\u001b[49m\u001b[43m(\u001b[49m\u001b[43msrc\u001b[49m\u001b[43m,\u001b[49m\u001b[43m \u001b[49m\u001b[43mdest\u001b[49m\u001b[43m,\u001b[49m\u001b[43m \u001b[49m\u001b[38;5;241;43m1024\u001b[39;49m\u001b[38;5;241;43m*\u001b[39;49m\u001b[38;5;241;43m8\u001b[39;49m\u001b[43m)\u001b[49m\n",
      "File \u001b[0;32m~/anaconda3/envs/CV2/lib/python3.11/shutil.py:200\u001b[0m, in \u001b[0;36mcopyfileobj\u001b[0;34m(fsrc, fdst, length)\u001b[0m\n\u001b[1;32m    198\u001b[0m \u001b[38;5;28;01mif\u001b[39;00m \u001b[38;5;129;01mnot\u001b[39;00m buf:\n\u001b[1;32m    199\u001b[0m     \u001b[38;5;28;01mbreak\u001b[39;00m\n\u001b[0;32m--> 200\u001b[0m \u001b[43mfdst_write\u001b[49m\u001b[43m(\u001b[49m\u001b[43mbuf\u001b[49m\u001b[43m)\u001b[49m\n",
      "File \u001b[0;32m~/anaconda3/envs/CV2/lib/python3.11/zipfile.py:1169\u001b[0m, in \u001b[0;36m_ZipWriteFile.write\u001b[0;34m(self, data)\u001b[0m\n\u001b[1;32m   1167\u001b[0m \u001b[38;5;28mself\u001b[39m\u001b[38;5;241m.\u001b[39m_crc \u001b[38;5;241m=\u001b[39m crc32(data, \u001b[38;5;28mself\u001b[39m\u001b[38;5;241m.\u001b[39m_crc)\n\u001b[1;32m   1168\u001b[0m \u001b[38;5;28;01mif\u001b[39;00m \u001b[38;5;28mself\u001b[39m\u001b[38;5;241m.\u001b[39m_compressor:\n\u001b[0;32m-> 1169\u001b[0m     data \u001b[38;5;241m=\u001b[39m \u001b[38;5;28;43mself\u001b[39;49m\u001b[38;5;241;43m.\u001b[39;49m\u001b[43m_compressor\u001b[49m\u001b[38;5;241;43m.\u001b[39;49m\u001b[43mcompress\u001b[49m\u001b[43m(\u001b[49m\u001b[43mdata\u001b[49m\u001b[43m)\u001b[49m\n\u001b[1;32m   1170\u001b[0m     \u001b[38;5;28mself\u001b[39m\u001b[38;5;241m.\u001b[39m_compress_size \u001b[38;5;241m+\u001b[39m\u001b[38;5;241m=\u001b[39m \u001b[38;5;28mlen\u001b[39m(data)\n\u001b[1;32m   1171\u001b[0m \u001b[38;5;28mself\u001b[39m\u001b[38;5;241m.\u001b[39m_fileobj\u001b[38;5;241m.\u001b[39mwrite(data)\n",
      "\u001b[0;31mKeyboardInterrupt\u001b[0m: "
     ]
    }
   ],
   "source": [
    "import datetime\n",
    "from pathlib import Path\n",
    "\n",
    "to_save_path = \"./saved_model\"\n",
    "Path(to_save_path).mkdir(parents=True, exist_ok=True)\n",
    "\n",
    "time = datetime.datetime.now().strftime(\"%d%m%y%H%M\")\n",
    "\n",
    "# zip run17 folder into name seg-model-<ddmmyyhhmm>.zip\n",
    "zip_name = f\" rice-germ-cls-model-{time}\"\n",
    "\n",
    "shutil.make_archive(f\"{to_save_path}/{zip_name}_imgsz{imgsz}\", 'zip', model_path)"
   ]
  }
 ],
 "metadata": {
  "kernelspec": {
   "display_name": "Python 3",
   "language": "python",
   "name": "python3"
  },
  "language_info": {
   "codemirror_mode": {
    "name": "ipython",
    "version": 3
   },
   "file_extension": ".py",
   "mimetype": "text/x-python",
   "name": "python",
   "nbconvert_exporter": "python",
   "pygments_lexer": "ipython3",
   "version": "3.11.8"
  }
 },
 "nbformat": 4,
 "nbformat_minor": 2
}
