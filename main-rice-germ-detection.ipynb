{
 "cells": [
  {
   "cell_type": "code",
   "execution_count": 10,
   "metadata": {},
   "outputs": [],
   "source": [
    "from ultralytics import YOLO\n",
    "import torch\n",
    "import os\n",
    "import shutil\n",
    "from pathlib import Path\n",
    "import numpy as np\n",
    "import random\n",
    "import zipfile\n",
    "import pandas as pd\n",
    "import cv2"
   ]
  },
  {
   "cell_type": "code",
   "execution_count": 2,
   "metadata": {},
   "outputs": [
    {
     "data": {
      "text/plain": [
       "<torch._C.Generator at 0x23c2aaddcf0>"
      ]
     },
     "execution_count": 2,
     "metadata": {},
     "output_type": "execute_result"
    }
   ],
   "source": [
    "# set random seed\n",
    "random_seed = 42\n",
    "random.seed(random_seed)\n",
    "np.random.seed(random_seed)\n",
    "torch.manual_seed(random_seed)"
   ]
  },
  {
   "cell_type": "markdown",
   "metadata": {},
   "source": [
    "# Load dataset from kaggle"
   ]
  },
  {
   "cell_type": "code",
   "execution_count": null,
   "metadata": {},
   "outputs": [],
   "source": [
    "# this cell is for running in Kaggle\n",
    "# load kaggle.json from google drive\n",
    "# !gdown <item id>"
   ]
  },
  {
   "cell_type": "code",
   "execution_count": null,
   "metadata": {},
   "outputs": [],
   "source": [
    "# check if the kaggle.json file exists\n",
    "from sys import platform\n",
    "\n",
    "# Windows\n",
    "# C:\\Users\\<Windows-username>\\.kaggle\\kaggle.json\n",
    "if platform == \"win32\":\n",
    "    print(\"Windows\")\n",
    "    kaggle_json_path = os.path.join(os.path.expanduser(\"~\"), \".kaggle\", \"kaggle.json\")\n",
    "    if os.path.exists(kaggle_json_path):\n",
    "        print(\"kaggle.json exists\")\n",
    "    else:\n",
    "        print(\"kaggle.json does not exist\")\n",
    "        shutil.copy(\"./kaggle.json\", kaggle_json_path)\n",
    "        print(\"kaggle.json is copied to the directory\")\n",
    "\n",
    "# Linux\n",
    "# ~/.kaggle/kaggle.json\n",
    "elif platform == \"linux\" or platform == \"linux2\":\n",
    "    print(\"Linux\")\n",
    "    kaggle_json_path = os.path.join(os.path.expanduser(\"~\"), \".kaggle\", \"kaggle.json\")\n",
    "    if os.path.exists(kaggle_json_path):\n",
    "        print(\"kaggle.json exists\")\n",
    "    else:\n",
    "        print(\"kaggle.json does not exist\")\n",
    "        os.makedirs(os.path.join(os.path.expanduser(\"~\"), \".kaggle\"), exist_ok=True)\n",
    "        shutil.copy(\"./kaggle.json\", kaggle_json_path)\n",
    "        print(\"kaggle.json is copied to the directory\")\n",
    "\n",
    "# macOS\n",
    "# ~/.kaggle/kaggle.json\n",
    "elif platform == \"darwin\":\n",
    "    print(\"macOS\")\n",
    "    kaggle_json_path = os.path.join(os.path.expanduser(\"~\"), \".kaggle\", \"kaggle.json\")\n",
    "    if os.path.exists(kaggle_json_path):\n",
    "        print(\"kaggle.json exists\")\n",
    "    else:\n",
    "        print(\"kaggle.json does not exist\")\n",
    "        os.makedirs(os.path.join(os.path.expanduser(\"~\"), \".kaggle\"), exist_ok=True)\n",
    "        shutil.copy(\"./kaggle.json\", kaggle_json_path)\n",
    "        print(\"kaggle.json is copied to the directory\")"
   ]
  },
  {
   "cell_type": "code",
   "execution_count": null,
   "metadata": {},
   "outputs": [],
   "source": [
    "# download and unzip the dataset\n",
    "if(os.path.exists(\"./rice-image-dataset-for-object-detection\")):\n",
    "    print(\"The dataset is already downloaded\")\n",
    "else:\n",
    "    !kaggle datasets download -d alikhalilit98/rice-image-dataset-for-object-detection\n",
    "    with zipfile.ZipFile(\"rice-image-dataset-for-object-detection.zip\", 'r') as zip_ref:\n",
    "        zip_ref.extractall(\"./rice-image-dataset-for-rice-germ-detection\")"
   ]
  },
  {
   "cell_type": "code",
   "execution_count": 4,
   "metadata": {},
   "outputs": [],
   "source": [
    "raw_dataset_path = './rice-image-dataset-for-rice-germ-detection'\n",
    "dataset_path = './rice-germ-dataset'\n",
    "Path(dataset_path).mkdir(parents=True, exist_ok=True)\n",
    "Path(f'{dataset_path}/images/train').mkdir(parents=True, exist_ok=True)\n",
    "Path(f'{dataset_path}/images/val').mkdir(parents=True, exist_ok=True)\n",
    "Path(f'{dataset_path}/labels/train').mkdir(parents=True, exist_ok=True)\n",
    "Path(f'{dataset_path}/labels/val').mkdir(parents=True, exist_ok=True)"
   ]
  },
  {
   "cell_type": "code",
   "execution_count": null,
   "metadata": {},
   "outputs": [],
   "source": [
    "!gdown 1Gk73cVdNwL4PYF37XRBKa-lybbdE0k7O -O ./rice-germ-dataset/rice-germ-1050labels.zip"
   ]
  },
  {
   "cell_type": "code",
   "execution_count": null,
   "metadata": {},
   "outputs": [],
   "source": [
    "with zipfile.ZipFile(f\"{dataset_path}/rice-germ-1050labels.zip\", 'r') as zip_ref:\n",
    "    zip_ref.extractall(path=dataset_path)"
   ]
  },
  {
   "cell_type": "markdown",
   "metadata": {},
   "source": [
    "# Splitting dataset"
   ]
  },
  {
   "cell_type": "code",
   "execution_count": 5,
   "metadata": {},
   "outputs": [
    {
     "data": {
      "text/html": [
       "<div>\n",
       "<style scoped>\n",
       "    .dataframe tbody tr th:only-of-type {\n",
       "        vertical-align: middle;\n",
       "    }\n",
       "\n",
       "    .dataframe tbody tr th {\n",
       "        vertical-align: top;\n",
       "    }\n",
       "\n",
       "    .dataframe thead th {\n",
       "        text-align: right;\n",
       "    }\n",
       "</style>\n",
       "<table border=\"1\" class=\"dataframe\">\n",
       "  <thead>\n",
       "    <tr style=\"text-align: right;\">\n",
       "      <th></th>\n",
       "      <th>label_name</th>\n",
       "      <th>bbox_x</th>\n",
       "      <th>bbox_y</th>\n",
       "      <th>bbox_width</th>\n",
       "      <th>bbox_height</th>\n",
       "      <th>image_name</th>\n",
       "      <th>image_width</th>\n",
       "      <th>image_height</th>\n",
       "    </tr>\n",
       "  </thead>\n",
       "  <tbody>\n",
       "    <tr>\n",
       "      <th>0</th>\n",
       "      <td>Bad</td>\n",
       "      <td>155</td>\n",
       "      <td>93</td>\n",
       "      <td>50</td>\n",
       "      <td>57</td>\n",
       "      <td>Jasmine (1).jpg</td>\n",
       "      <td>250</td>\n",
       "      <td>250</td>\n",
       "    </tr>\n",
       "    <tr>\n",
       "      <th>1</th>\n",
       "      <td>Bad</td>\n",
       "      <td>156</td>\n",
       "      <td>106</td>\n",
       "      <td>49</td>\n",
       "      <td>64</td>\n",
       "      <td>Jasmine (10).jpg</td>\n",
       "      <td>250</td>\n",
       "      <td>250</td>\n",
       "    </tr>\n",
       "    <tr>\n",
       "      <th>2</th>\n",
       "      <td>Moderate</td>\n",
       "      <td>130</td>\n",
       "      <td>124</td>\n",
       "      <td>60</td>\n",
       "      <td>63</td>\n",
       "      <td>Jasmine (100).jpg</td>\n",
       "      <td>250</td>\n",
       "      <td>250</td>\n",
       "    </tr>\n",
       "    <tr>\n",
       "      <th>392</th>\n",
       "      <td>Good</td>\n",
       "      <td>64</td>\n",
       "      <td>62</td>\n",
       "      <td>48</td>\n",
       "      <td>44</td>\n",
       "      <td>Jasmine (1006).jpg</td>\n",
       "      <td>250</td>\n",
       "      <td>250</td>\n",
       "    </tr>\n",
       "    <tr>\n",
       "      <th>3</th>\n",
       "      <td>Moderate</td>\n",
       "      <td>112</td>\n",
       "      <td>49</td>\n",
       "      <td>61</td>\n",
       "      <td>59</td>\n",
       "      <td>Jasmine (101).jpg</td>\n",
       "      <td>250</td>\n",
       "      <td>250</td>\n",
       "    </tr>\n",
       "    <tr>\n",
       "      <th>393</th>\n",
       "      <td>Good</td>\n",
       "      <td>93</td>\n",
       "      <td>158</td>\n",
       "      <td>51</td>\n",
       "      <td>43</td>\n",
       "      <td>Jasmine (1010).jpg</td>\n",
       "      <td>250</td>\n",
       "      <td>250</td>\n",
       "    </tr>\n",
       "    <tr>\n",
       "      <th>4</th>\n",
       "      <td>Moderate</td>\n",
       "      <td>74</td>\n",
       "      <td>151</td>\n",
       "      <td>51</td>\n",
       "      <td>56</td>\n",
       "      <td>Jasmine (102).jpg</td>\n",
       "      <td>250</td>\n",
       "      <td>250</td>\n",
       "    </tr>\n",
       "    <tr>\n",
       "      <th>5</th>\n",
       "      <td>Good</td>\n",
       "      <td>157</td>\n",
       "      <td>96</td>\n",
       "      <td>46</td>\n",
       "      <td>52</td>\n",
       "      <td>Jasmine (103).jpg</td>\n",
       "      <td>250</td>\n",
       "      <td>250</td>\n",
       "    </tr>\n",
       "    <tr>\n",
       "      <th>6</th>\n",
       "      <td>Bad</td>\n",
       "      <td>88</td>\n",
       "      <td>150</td>\n",
       "      <td>61</td>\n",
       "      <td>60</td>\n",
       "      <td>Jasmine (104).jpg</td>\n",
       "      <td>250</td>\n",
       "      <td>250</td>\n",
       "    </tr>\n",
       "    <tr>\n",
       "      <th>7</th>\n",
       "      <td>Bad</td>\n",
       "      <td>152</td>\n",
       "      <td>94</td>\n",
       "      <td>60</td>\n",
       "      <td>61</td>\n",
       "      <td>Jasmine (105).jpg</td>\n",
       "      <td>250</td>\n",
       "      <td>250</td>\n",
       "    </tr>\n",
       "  </tbody>\n",
       "</table>\n",
       "</div>"
      ],
      "text/plain": [
       "    label_name  bbox_x  bbox_y  bbox_width  bbox_height          image_name  \\\n",
       "0          Bad     155      93          50           57     Jasmine (1).jpg   \n",
       "1          Bad     156     106          49           64    Jasmine (10).jpg   \n",
       "2     Moderate     130     124          60           63   Jasmine (100).jpg   \n",
       "392       Good      64      62          48           44  Jasmine (1006).jpg   \n",
       "3     Moderate     112      49          61           59   Jasmine (101).jpg   \n",
       "393       Good      93     158          51           43  Jasmine (1010).jpg   \n",
       "4     Moderate      74     151          51           56   Jasmine (102).jpg   \n",
       "5         Good     157      96          46           52   Jasmine (103).jpg   \n",
       "6          Bad      88     150          61           60   Jasmine (104).jpg   \n",
       "7          Bad     152      94          60           61   Jasmine (105).jpg   \n",
       "\n",
       "     image_width  image_height  \n",
       "0            250           250  \n",
       "1            250           250  \n",
       "2            250           250  \n",
       "392          250           250  \n",
       "3            250           250  \n",
       "393          250           250  \n",
       "4            250           250  \n",
       "5            250           250  \n",
       "6            250           250  \n",
       "7            250           250  "
      ]
     },
     "execution_count": 5,
     "metadata": {},
     "output_type": "execute_result"
    }
   ],
   "source": [
    "df = pd.read_csv(f\"{dataset_path}/rice-germ-1050labels.csv\")\n",
    "df.sort_values(by=['image_name'], inplace=True)\n",
    "df[:10]"
   ]
  },
  {
   "cell_type": "code",
   "execution_count": 6,
   "metadata": {},
   "outputs": [
    {
     "name": "stdout",
     "output_type": "stream",
     "text": [
      "['Jasmine (1)', 'Jasmine (10)', 'Jasmine (100)', 'Jasmine (1006)', 'Jasmine (101)', 'Jasmine (1010)', 'Jasmine (102)', 'Jasmine (103)', 'Jasmine (104)', 'Jasmine (105)']\n",
      "train: 840, val: 210\n"
     ]
    }
   ],
   "source": [
    "from sklearn.model_selection import train_test_split\n",
    "\n",
    "raw_labels_path = f\"{dataset_path}/rice-germ-1050labels\"\n",
    "raw_images_path = f\"{raw_dataset_path}/Rice_Image_Dataset_OD/Jasmine\"\n",
    "\n",
    "data_lists = os.listdir(raw_labels_path)\n",
    "data_lists = [data_list.split(\".\")[0] for data_list in data_lists]\n",
    "print(data_lists[:10])\n",
    "\n",
    "train, val = train_test_split(data_lists, test_size=0.2, random_state=random_seed, stratify=df[\"label_name\"])\n",
    "print(f\"train: {len(train)}, val: {len(val)}\")"
   ]
  },
  {
   "cell_type": "code",
   "execution_count": 12,
   "metadata": {},
   "outputs": [
    {
     "name": "stdout",
     "output_type": "stream",
     "text": [
      "train: 924, val: 231\n"
     ]
    }
   ],
   "source": [
    "# insert backgound image (rgb 0, 0, 0) (size 128,128) for 10% of each set\n",
    "bg = np.zeros((128, 128, 3), dtype=np.uint8)\n",
    "bg_train_num = int(np.ceil(len(train) * 0.1))\n",
    "bg_val_num = int(np.ceil(len(val) * 0.1))\n",
    "\n",
    "for i in range(bg_train_num):\n",
    "    bg_name = f\"bg_{i}\"\n",
    "    bg_path = f\"{dataset_path}/images/train/{bg_name}.jpg\"\n",
    "    cv2.imwrite(bg_path, bg)\n",
    "    with open(f\"{dataset_path}/labels/train/{bg_name}.txt\", \"w\") as f:\n",
    "        f.write(\"\")\n",
    "        \n",
    "for i in range(bg_val_num):\n",
    "    bg_name = f\"bg_{i}\"\n",
    "    bg_path = f\"{dataset_path}/images/val/{bg_name}.jpg\"\n",
    "    cv2.imwrite(bg_path, bg)\n",
    "    with open(f\"{dataset_path}/labels/val/{bg_name}.txt\", \"w\") as f:\n",
    "        f.write(\"\")\n",
    "\n",
    "new_train_num = len(os.listdir(f\"{dataset_path}/images/train\"))\n",
    "new_val_num = len(os.listdir(f\"{dataset_path}/images/val\"))\n",
    "print(f\"train: {new_train_num}, val: {new_val_num}\")"
   ]
  },
  {
   "cell_type": "code",
   "execution_count": 13,
   "metadata": {},
   "outputs": [],
   "source": [
    "for x in train:\n",
    "    shutil.copy(f\"{raw_labels_path}/{x}.txt\", f\"{dataset_path}/labels/train/{x}.txt\")\n",
    "    shutil.copy(f\"{raw_images_path}/{x}.jpg\", f\"{dataset_path}/images/train/{x}.jpg\")\n",
    "\n",
    "for x in val:\n",
    "    shutil.copy(f\"{raw_labels_path}/{x}.txt\", f\"{dataset_path}/labels/val/{x}.txt\")\n",
    "    shutil.copy(f\"{raw_images_path}/{x}.jpg\", f\"{dataset_path}/images/val/{x}.jpg\")"
   ]
  },
  {
   "cell_type": "markdown",
   "metadata": {},
   "source": [
    "# Create yaml file"
   ]
  },
  {
   "cell_type": "code",
   "execution_count": null,
   "metadata": {},
   "outputs": [],
   "source": [
    "import yaml\n",
    "\n",
    "full_path = os.path.abspath(\"./rice-germ-dataset\")\n",
    "\n",
    "yaml_data = dict(\n",
    "    path = full_path,\n",
    "    train='images/train',\n",
    "    val='images/val',\n",
    "    names={0: 'Good', 1: 'Moderate', 2: 'Bad'},\n",
    ")\n",
    "\n",
    "with open(\"rice-germ-dataset/data.yaml\", \"w\") as f:\n",
    "    yaml.dump(yaml_data, f, default_flow_style=False, sort_keys=False)"
   ]
  },
  {
   "cell_type": "markdown",
   "metadata": {},
   "source": [
    "# Train model"
   ]
  },
  {
   "cell_type": "code",
   "execution_count": null,
   "metadata": {},
   "outputs": [],
   "source": [
    "# training parameters\n",
    "epochs = 300\n",
    "batch = 32\n",
    "imgsz = 128"
   ]
  },
  {
   "cell_type": "code",
   "execution_count": null,
   "metadata": {},
   "outputs": [],
   "source": [
    "model = YOLO(\"yolov8x.pt\")\n",
    "trained_model = model.train(data=f\"{dataset_path}/data.yaml\", epochs=epochs, batch=batch, imgsz=imgsz, device=\"0\", project=\"rice-germ-detection\", name=\"rice-germ-run\", seed=random_seed)"
   ]
  }
 ],
 "metadata": {
  "kernelspec": {
   "display_name": "Python 3",
   "language": "python",
   "name": "python3"
  },
  "language_info": {
   "codemirror_mode": {
    "name": "ipython",
    "version": 3
   },
   "file_extension": ".py",
   "mimetype": "text/x-python",
   "name": "python",
   "nbconvert_exporter": "python",
   "pygments_lexer": "ipython3",
   "version": "3.11.8"
  }
 },
 "nbformat": 4,
 "nbformat_minor": 2
}
