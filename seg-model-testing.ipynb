{
 "cells": [
  {
   "cell_type": "code",
   "execution_count": 9,
   "metadata": {},
   "outputs": [],
   "source": [
    "from ultralytics import YOLO\n",
    "\n",
    "# Load model\n",
    "model_path = \"./saved_model/seg-model-1205241808-imgsz800/weights/best.onnx\"\n",
    "model = YOLO(model_path, task=\"segment\")"
   ]
  },
  {
   "cell_type": "code",
   "execution_count": 14,
   "metadata": {},
   "outputs": [
    {
     "name": "stdout",
     "output_type": "stream",
     "text": [
      "\n",
      "image 1/1 c:\\Users\\chant\\Desktop\\CV_Project\\ComputerVision_STA_Project\\test\\test2.jpg: 800x800 43 {0: 'Jasmine'}s, 1 {1: 'Non-Jasmine'}, 336.0ms\n",
      "Speed: 9.0ms preprocess, 336.0ms inference, 5.0ms postprocess per image at shape (1, 3, 800, 800)\n",
      "Results saved to \u001b[1mruns\\segment\\predict8\u001b[0m\n"
     ]
    },
    {
     "data": {
      "text/plain": [
       "[ultralytics.engine.results.Results object with attributes:\n",
       " \n",
       " boxes: ultralytics.engine.results.Boxes object\n",
       " keypoints: None\n",
       " masks: ultralytics.engine.results.Masks object\n",
       " names: {0: \"{0: 'Jasmine'}\", 1: \"{1: 'Non-Jasmine'}\"}\n",
       " obb: None\n",
       " orig_img: array([[[ 83, 126, 153],\n",
       "         [ 83, 126, 153],\n",
       "         [ 81, 124, 151],\n",
       "         ...,\n",
       "         [ 72, 113, 138],\n",
       "         [ 74, 115, 140],\n",
       "         [ 71, 112, 137]],\n",
       " \n",
       "        [[ 80, 123, 150],\n",
       "         [ 78, 121, 148],\n",
       "         [ 77, 120, 147],\n",
       "         ...,\n",
       "         [ 81, 122, 147],\n",
       "         [ 76, 117, 142],\n",
       "         [ 75, 116, 141]],\n",
       " \n",
       "        [[ 79, 122, 149],\n",
       "         [ 75, 118, 145],\n",
       "         [ 77, 120, 147],\n",
       "         ...,\n",
       "         [ 97, 138, 163],\n",
       "         [ 91, 132, 157],\n",
       "         [ 92, 133, 158]],\n",
       " \n",
       "        ...,\n",
       " \n",
       "        [[ 61,  83, 101],\n",
       "         [ 63,  85, 103],\n",
       "         [ 65,  87, 105],\n",
       "         ...,\n",
       "         [ 78,  87,  96],\n",
       "         [ 73,  82,  91],\n",
       "         [ 73,  82,  91]],\n",
       " \n",
       "        [[ 65,  87, 105],\n",
       "         [ 62,  84, 102],\n",
       "         [ 59,  81,  99],\n",
       "         ...,\n",
       "         [ 83,  92, 101],\n",
       "         [ 77,  86,  95],\n",
       "         [ 75,  84,  93]],\n",
       " \n",
       "        [[ 59,  81,  99],\n",
       "         [ 59,  81,  99],\n",
       "         [ 61,  83, 101],\n",
       "         ...,\n",
       "         [ 86,  95, 104],\n",
       "         [ 84,  93, 102],\n",
       "         [ 85,  94, 103]]], dtype=uint8)\n",
       " orig_shape: (3024, 4032)\n",
       " path: 'c:\\\\Users\\\\chant\\\\Desktop\\\\CV_Project\\\\ComputerVision_STA_Project\\\\test\\\\test2.jpg'\n",
       " probs: None\n",
       " save_dir: 'runs\\\\segment\\\\predict8'\n",
       " speed: {'preprocess': 9.001731872558594, 'inference': 335.9973430633545, 'postprocess': 5.000114440917969}]"
      ]
     },
     "execution_count": 14,
     "metadata": {},
     "output_type": "execute_result"
    }
   ],
   "source": [
    "# test image\n",
    "test1 = \"./test/test1.jpg\"\n",
    "test2 = \"./test/test2.jpg\"\n",
    "\n",
    "model.predict(test2, save=True, imgsz=800, conf=0.5)"
   ]
  }
 ],
 "metadata": {
  "kernelspec": {
   "display_name": "Python 3",
   "language": "python",
   "name": "python3"
  },
  "language_info": {
   "codemirror_mode": {
    "name": "ipython",
    "version": 3
   },
   "file_extension": ".py",
   "mimetype": "text/x-python",
   "name": "python",
   "nbconvert_exporter": "python",
   "pygments_lexer": "ipython3",
   "version": "3.11.8"
  }
 },
 "nbformat": 4,
 "nbformat_minor": 2
}
