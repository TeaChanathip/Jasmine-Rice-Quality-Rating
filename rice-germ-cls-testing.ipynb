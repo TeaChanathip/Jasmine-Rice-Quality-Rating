{
 "cells": [
  {
   "cell_type": "code",
   "execution_count": 1,
   "metadata": {},
   "outputs": [],
   "source": [
    "import gdown\n",
    "from ultralytics import YOLO"
   ]
  },
  {
   "cell_type": "code",
   "execution_count": 15,
   "metadata": {},
   "outputs": [
    {
     "name": "stderr",
     "output_type": "stream",
     "text": [
      "Downloading...\n",
      "From (original): https://drive.google.com/uc?id=1muFNiNxYT3QxkyXgIB2onVM2MsCblajA\n",
      "From (redirected): https://drive.google.com/uc?id=1muFNiNxYT3QxkyXgIB2onVM2MsCblajA&confirm=t&uuid=2ffb4573-9ea7-4f14-8fda-d38b38a3fb39\n",
      "To: c:\\Users\\chant\\Desktop\\CV_Project\\ComputerVision_STA_Project\\saved_model\\rice-germ-cls-model.onnx\n",
      "\n",
      "  0%|          | 0.00/225M [00:00<?, ?B/s]\n",
      "  0%|          | 524k/225M [00:00<00:43, 5.19MB/s]\n",
      "  2%|▏         | 4.72M/225M [00:00<00:08, 26.4MB/s]\n",
      "  4%|▍         | 9.44M/225M [00:00<00:06, 34.9MB/s]\n",
      "  7%|▋         | 16.8M/225M [00:00<00:04, 49.2MB/s]\n",
      " 10%|▉         | 22.0M/225M [00:00<00:04, 41.0MB/s]\n",
      " 12%|█▏        | 26.7M/225M [00:00<00:05, 37.8MB/s]\n",
      " 14%|█▍        | 30.9M/225M [00:00<00:05, 34.1MB/s]\n",
      " 15%|█▌        | 34.6M/225M [00:01<00:06, 30.9MB/s]\n",
      " 17%|█▋        | 38.3M/225M [00:01<00:06, 30.9MB/s]\n",
      " 19%|█▊        | 41.9M/225M [00:01<00:06, 29.8MB/s]\n",
      " 20%|██        | 45.1M/225M [00:01<00:06, 27.7MB/s]\n",
      " 22%|██▏       | 48.8M/225M [00:01<00:06, 28.7MB/s]\n",
      " 23%|██▎       | 51.9M/225M [00:01<00:06, 26.1MB/s]\n",
      " 25%|██▍       | 55.1M/225M [00:01<00:06, 25.5MB/s]\n",
      " 26%|██▌       | 58.2M/225M [00:01<00:06, 26.0MB/s]\n",
      " 28%|██▊       | 61.9M/225M [00:02<00:05, 28.6MB/s]\n",
      " 29%|██▉       | 65.0M/225M [00:02<00:06, 26.4MB/s]\n",
      " 31%|███       | 68.7M/225M [00:02<00:05, 28.3MB/s]\n",
      " 32%|███▏      | 72.4M/225M [00:02<00:05, 28.0MB/s]\n",
      " 34%|███▎      | 75.5M/225M [00:02<00:05, 28.2MB/s]\n",
      " 35%|███▌      | 78.6M/225M [00:02<00:05, 28.9MB/s]\n",
      " 36%|███▋      | 81.8M/225M [00:02<00:05, 28.4MB/s]\n",
      " 38%|███▊      | 84.9M/225M [00:02<00:04, 28.1MB/s]\n",
      " 39%|███▉      | 88.1M/225M [00:02<00:04, 27.8MB/s]\n",
      " 41%|████      | 91.2M/225M [00:03<00:05, 26.2MB/s]\n",
      " 42%|████▏     | 94.4M/225M [00:03<00:05, 25.1MB/s]\n",
      " 44%|████▍     | 98.6M/225M [00:03<00:04, 28.6MB/s]\n",
      " 45%|████▌     | 102M/225M [00:03<00:04, 28.3MB/s] \n",
      " 47%|████▋     | 105M/225M [00:03<00:04, 26.9MB/s]\n",
      " 48%|████▊     | 109M/225M [00:03<00:04, 28.1MB/s]\n",
      " 50%|████▉     | 112M/225M [00:03<00:04, 27.9MB/s]\n",
      " 51%|█████     | 115M/225M [00:03<00:03, 27.7MB/s]\n",
      " 53%|█████▎    | 118M/225M [00:04<00:03, 27.4MB/s]\n",
      " 54%|█████▍    | 121M/225M [00:04<00:03, 27.3MB/s]\n",
      " 55%|█████▌    | 124M/225M [00:04<00:03, 27.5MB/s]\n",
      " 57%|█████▋    | 127M/225M [00:04<00:03, 26.8MB/s]\n",
      " 58%|█████▊    | 131M/225M [00:04<00:03, 26.2MB/s]\n",
      " 60%|█████▉    | 134M/225M [00:04<00:03, 26.6MB/s]\n",
      " 61%|██████    | 137M/225M [00:04<00:03, 26.1MB/s]\n",
      " 63%|██████▎   | 141M/225M [00:04<00:02, 29.2MB/s]\n",
      " 64%|██████▍   | 144M/225M [00:05<00:02, 28.5MB/s]\n",
      " 66%|██████▌   | 147M/225M [00:05<00:02, 28.1MB/s]\n",
      " 67%|██████▋   | 150M/225M [00:05<00:02, 27.9MB/s]\n",
      " 68%|██████▊   | 154M/225M [00:05<00:02, 27.8MB/s]\n",
      " 70%|██████▉   | 157M/225M [00:05<00:02, 25.2MB/s]\n",
      " 71%|███████   | 159M/225M [00:05<00:02, 24.0MB/s]\n",
      " 72%|███████▏  | 162M/225M [00:05<00:02, 22.9MB/s]\n",
      " 73%|███████▎  | 165M/225M [00:05<00:02, 22.2MB/s]\n",
      " 74%|███████▍  | 167M/225M [00:06<00:02, 21.7MB/s]\n",
      " 76%|███████▌  | 170M/225M [00:06<00:02, 23.6MB/s]\n",
      " 78%|███████▊  | 175M/225M [00:06<00:01, 28.0MB/s]\n",
      " 80%|████████  | 180M/225M [00:06<00:01, 33.8MB/s]\n",
      " 82%|████████▏ | 184M/225M [00:06<00:01, 31.3MB/s]\n",
      " 83%|████████▎ | 187M/225M [00:06<00:01, 30.9MB/s]\n",
      " 85%|████████▍ | 191M/225M [00:06<00:01, 29.5MB/s]\n",
      " 86%|████████▋ | 194M/225M [00:06<00:01, 27.6MB/s]\n",
      " 88%|████████▊ | 197M/225M [00:07<00:01, 26.3MB/s]\n",
      " 89%|████████▉ | 200M/225M [00:07<00:00, 25.4MB/s]\n",
      " 90%|█████████ | 203M/225M [00:07<00:00, 24.8MB/s]\n",
      " 92%|█████████▏| 206M/225M [00:07<00:00, 24.4MB/s]\n",
      " 93%|█████████▎| 208M/225M [00:07<00:00, 23.8MB/s]\n",
      " 94%|█████████▍| 211M/225M [00:07<00:00, 23.9MB/s]\n",
      " 95%|█████████▌| 213M/225M [00:07<00:00, 20.8MB/s]\n",
      " 96%|█████████▌| 216M/225M [00:07<00:00, 18.9MB/s]\n",
      " 99%|█████████▉| 222M/225M [00:08<00:00, 28.5MB/s]\n",
      "100%|██████████| 225M/225M [00:08<00:00, 27.8MB/s]\n",
      "Downloading...\n",
      "From (original): https://drive.google.com/uc?id=1GGFlVi1QFeWUIplNxK-P21OhzLkMQM4m\n",
      "From (redirected): https://drive.google.com/uc?id=1GGFlVi1QFeWUIplNxK-P21OhzLkMQM4m&confirm=t&uuid=9563b6bb-b6ec-4163-ac67-8d8de5a154ff\n",
      "To: c:\\Users\\chant\\Desktop\\CV_Project\\ComputerVision_STA_Project\\saved_model\\rice-germ-cls-model.pt\n",
      "\n",
      "  0%|          | 0.00/113M [00:00<?, ?B/s]\n",
      "  0%|          | 524k/113M [00:00<00:22, 4.90MB/s]\n",
      "  4%|▍         | 4.72M/113M [00:00<00:04, 25.7MB/s]\n",
      "  8%|▊         | 8.91M/113M [00:00<00:04, 24.2MB/s]\n",
      " 12%|█▏        | 13.1M/113M [00:00<00:03, 28.6MB/s]\n",
      " 15%|█▌        | 17.3M/113M [00:00<00:04, 21.5MB/s]\n",
      " 23%|██▎       | 25.7M/113M [00:01<00:04, 21.5MB/s]\n",
      " 30%|██▉       | 33.6M/113M [00:01<00:02, 30.5MB/s]\n",
      " 34%|███▎      | 37.7M/113M [00:01<00:02, 30.9MB/s]\n",
      " 38%|███▊      | 42.5M/113M [00:01<00:02, 26.9MB/s]\n",
      " 45%|████▍     | 50.3M/113M [00:01<00:01, 36.2MB/s]\n",
      " 49%|████▉     | 55.1M/113M [00:02<00:02, 24.9MB/s]\n",
      " 53%|█████▎    | 59.2M/113M [00:02<00:02, 20.0MB/s]\n",
      " 58%|█████▊    | 65.0M/113M [00:02<00:01, 24.6MB/s]\n",
      " 61%|██████    | 68.7M/113M [00:02<00:02, 20.6MB/s]\n",
      " 68%|██████▊   | 76.0M/113M [00:03<00:01, 20.9MB/s]\n",
      " 75%|███████▌  | 84.4M/113M [00:03<00:01, 21.3MB/s]\n",
      " 82%|████████▏ | 92.8M/113M [00:03<00:00, 21.4MB/s]\n",
      " 90%|████████▉ | 101M/113M [00:04<00:00, 21.6MB/s] \n",
      "100%|██████████| 113M/113M [00:04<00:00, 25.4MB/s]\n"
     ]
    }
   ],
   "source": [
    "!gdown 1muFNiNxYT3QxkyXgIB2onVM2MsCblajA -O ./saved_model/rice-germ-cls-model.onnx\n",
    "!gdown 1GGFlVi1QFeWUIplNxK-P21OhzLkMQM4m -O ./saved_model/rice-germ-cls-model.pt"
   ]
  },
  {
   "cell_type": "code",
   "execution_count": 18,
   "metadata": {},
   "outputs": [],
   "source": [
    "# model_path = './saved_model/rice-germ-cls-model.onnx'\n",
    "model_path = './saved_model/rice-germ-cls-model.pt'\n",
    "model = YOLO(model_path)"
   ]
  },
  {
   "cell_type": "code",
   "execution_count": 9,
   "metadata": {},
   "outputs": [],
   "source": [
    "import os\n",
    "import shutil\n",
    "from pathlib import Path\n",
    "\n",
    "Path('./rice-germ-dataset/images/val/Good').mkdir(parents=True, exist_ok=True)\n",
    "Path('./rice-germ-dataset/images/val/Bad').mkdir(parents=True, exist_ok=True)\n",
    "Path('./rice-germ-dataset/images/val/Moderate').mkdir(parents=True, exist_ok=True)\n",
    "\n",
    "label_base_dir = './rice-germ-dataset/labels/val'\n",
    "lable_files = os.listdir(label_base_dir)\n",
    "image_files = [file.replace('.txt', '.jpg') for file in lable_files]\n",
    "images_base_dir = './rice-image-dataset-for-object-segmentation/Rice_Image_Dataset_Seg/Jasmine'\n",
    "copy_to_dir = './rice-germ-dataset/images/val'\n",
    "\n",
    "for image_file, lable_file in zip(image_files, lable_files):\n",
    "    with open(f'{label_base_dir}/{lable_file}') as f:\n",
    "        # label is the first character in the file\n",
    "        label = f.read(1)\n",
    "        \n",
    "    # label 2 = Bad, label 1= Moderate, label 0 = Good\n",
    "    if label == '0':\n",
    "        shutil.copy(f'{images_base_dir}/{image_file}', f'{copy_to_dir}/Good')\n",
    "    elif label == '1':\n",
    "        shutil.copy(f'{images_base_dir}/{image_file}', f'{copy_to_dir}/Moderate')\n",
    "    elif label == '2':\n",
    "        shutil.copy(f'{images_base_dir}/{image_file}', f'{copy_to_dir}/Bad')\n",
    "    else:\n",
    "        print(f'Unknown label {label} for {lable_file}')"
   ]
  },
  {
   "cell_type": "code",
   "execution_count": 19,
   "metadata": {},
   "outputs": [],
   "source": [
    "import yaml\n",
    "\n",
    "full_path = os.path.abspath(\"./rice-germ-dataset\")\n",
    "\n",
    "yaml_data = dict(\n",
    "    path = full_path,\n",
    "    train='',\n",
    "    val='images/val',\n",
    "    nc=3,\n",
    "    names=['Good', 'Moderate', 'Bad']\n",
    ")\n",
    "\n",
    "with open(\"rice-germ-dataset/data.yaml\", \"w\") as f:\n",
    "    yaml.dump(yaml_data, f, default_flow_style=False, sort_keys=False)"
   ]
  },
  {
   "cell_type": "code",
   "execution_count": 22,
   "metadata": {},
   "outputs": [
    {
     "name": "stdout",
     "output_type": "stream",
     "text": [
      "WARNING ⚠️ imgsz=[100] must be multiple of max stride 32, updating to [128]\n",
      "Ultralytics YOLOv8.1.40 🚀 Python-3.11.8 torch-2.2.2+cu121 CUDA:0 (NVIDIA GeForce RTX 3050 Laptop GPU, 4096MiB)\n"
     ]
    },
    {
     "name": "stderr",
     "output_type": "stream",
     "text": [
      "\u001b[34m\u001b[1mval: \u001b[0mScanning C:\\Users\\chant\\Desktop\\CV_Project\\ComputerVision_STA_Project\\rice-germ-dataset\\images\\val... 450 images, 0 corrupt: 100%|██████████| 450/450 [00:00<?, ?it/s]\n",
      "               classes   top1_acc   top5_acc: 100%|██████████| 29/29 [00:01<00:00, 25.80it/s]\n"
     ]
    },
    {
     "name": "stdout",
     "output_type": "stream",
     "text": [
      "                   all       0.34          1\n",
      "Speed: 0.0ms preprocess, 2.0ms inference, 0.0ms loss, 0.0ms postprocess per image\n",
      "Results saved to \u001b[1mruns\\classify\\val4\u001b[0m\n"
     ]
    },
    {
     "data": {
      "text/plain": [
       "ultralytics.utils.metrics.ClassifyMetrics object with attributes:\n",
       "\n",
       "confusion_matrix: <ultralytics.utils.metrics.ConfusionMatrix object at 0x0000023618B372D0>\n",
       "curves: []\n",
       "curves_results: []\n",
       "fitness: 0.6700000017881393\n",
       "keys: ['metrics/accuracy_top1', 'metrics/accuracy_top5']\n",
       "results_dict: {'metrics/accuracy_top1': 0.3400000035762787, 'metrics/accuracy_top5': 1.0, 'fitness': 0.6700000017881393}\n",
       "save_dir: WindowsPath('runs/classify/val4')\n",
       "speed: {'preprocess': 0.04447513156467014, 'inference': 2.0154735777113175, 'loss': 0.0, 'postprocess': 0.0}\n",
       "task: 'classify'\n",
       "top1: 0.3400000035762787\n",
       "top5: 1.0"
      ]
     },
     "execution_count": 22,
     "metadata": {},
     "output_type": "execute_result"
    }
   ],
   "source": [
    "model.val(data = \"rice-germ-dataset/data.yaml\", imgsz=100, device=\"0\", save=True, conf=0.5)"
   ]
  }
 ],
 "metadata": {
  "kernelspec": {
   "display_name": "Python 3",
   "language": "python",
   "name": "python3"
  },
  "language_info": {
   "codemirror_mode": {
    "name": "ipython",
    "version": 3
   },
   "file_extension": ".py",
   "mimetype": "text/x-python",
   "name": "python",
   "nbconvert_exporter": "python",
   "pygments_lexer": "ipython3",
   "version": "3.11.8"
  }
 },
 "nbformat": 4,
 "nbformat_minor": 2
}
