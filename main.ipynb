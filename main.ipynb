{
 "cells": [
  {
   "cell_type": "markdown",
   "metadata": {},
   "source": [
    "# Project description\n",
    "Write something here"
   ]
  },
  {
   "cell_type": "markdown",
   "metadata": {},
   "source": [
    "# Create new Conda environment (optional)\n",
    "You can run with the following command in your conda terminal:\n",
    "```bash\n",
    "!conda env create -f environments.yaml\n",
    "```\n",
    "Or run the following cell to create a new conda environment."
   ]
  },
  {
   "cell_type": "code",
   "execution_count": 18,
   "metadata": {},
   "outputs": [
    {
     "name": "stderr",
     "output_type": "stream",
     "text": [
      "\n",
      "CondaError: Run 'conda init' before 'conda activate'\n",
      "\n"
     ]
    }
   ],
   "source": [
    "# uncomment the following line to install the environment\n",
    "# !conda env create -f environments.yaml\n",
    "# !conda activate cv_term_project"
   ]
  },
  {
   "cell_type": "markdown",
   "metadata": {},
   "source": [
    "# Install important packages"
   ]
  },
  {
   "cell_type": "code",
   "execution_count": 19,
   "metadata": {},
   "outputs": [
    {
     "name": "stdout",
     "output_type": "stream",
     "text": [
      "Sun Apr  7 14:46:16 2024       \n",
      "+-----------------------------------------------------------------------------------------+\n",
      "| NVIDIA-SMI 552.12                 Driver Version: 552.12         CUDA Version: 12.4     |\n",
      "|-----------------------------------------+------------------------+----------------------+\n",
      "| GPU  Name                     TCC/WDDM  | Bus-Id          Disp.A | Volatile Uncorr. ECC |\n",
      "| Fan  Temp   Perf          Pwr:Usage/Cap |           Memory-Usage | GPU-Util  Compute M. |\n",
      "|                                         |                        |               MIG M. |\n",
      "|=========================================+========================+======================|\n",
      "|   0  NVIDIA GeForce RTX 3050 ...  WDDM  |   00000000:01:00.0 Off |                  N/A |\n",
      "| N/A   57C    P8              8W /   75W |     413MiB /   4096MiB |     31%      Default |\n",
      "|                                         |                        |                  N/A |\n",
      "+-----------------------------------------+------------------------+----------------------+\n",
      "                                                                                         \n",
      "+-----------------------------------------------------------------------------------------+\n",
      "| Processes:                                                                              |\n",
      "|  GPU   GI   CI        PID   Type   Process name                              GPU Memory |\n",
      "|        ID   ID                                                               Usage      |\n",
      "|=========================================================================================|\n",
      "|    0   N/A  N/A      4404    C+G   ...Programs\\Microsoft VS Code\\Code.exe      N/A      |\n",
      "|    0   N/A  N/A      9052    C+G   ...64__8wekyb3d8bbwe\\CalculatorApp.exe      N/A      |\n",
      "|    0   N/A  N/A      9316    C+G   ...ejd91yc\\AdobeNotificationClient.exe      N/A      |\n",
      "|    0   N/A  N/A     10032    C+G   ....Search_cw5n1h2txyewy\\SearchApp.exe      N/A      |\n",
      "|    0   N/A  N/A     13584    C+G   ...2txyewy\\StartMenuExperienceHost.exe      N/A      |\n",
      "|    0   N/A  N/A     15088    C+G   ..._x64__3c1yjt4zspk6g\\BudsManager.exe      N/A      |\n",
      "|    0   N/A  N/A     15448    C+G   ...x64__qmba6cd70vzyy\\ArmouryCrate.exe      N/A      |\n",
      "|    0   N/A  N/A     15688    C+G   ...werToys\\PowerToys.PowerLauncher.exe      N/A      |\n",
      "|    0   N/A  N/A     15728    C+G   ...t.LockApp_cw5n1h2txyewy\\LockApp.exe      N/A      |\n",
      "|    0   N/A  N/A     16572    C+G   ...\\PowerToys\\PowerToys.FancyZones.exe      N/A      |\n",
      "|    0   N/A  N/A     17604    C+G   ...ys\\WinUI3Apps\\PowerToys.Peek.UI.exe      N/A      |\n",
      "|    0   N/A  N/A     18288    C+G   ...werToys\\PowerToys.ColorPickerUI.exe      N/A      |\n",
      "|    0   N/A  N/A     19444    C+G   ...CBS_cw5n1h2txyewy\\TextInputHost.exe      N/A      |\n",
      "|    0   N/A  N/A     21292    C+G   ...ekyb3d8bbwe\\PhoneExperienceHost.exe      N/A      |\n",
      "|    0   N/A  N/A     21836    C+G   ...Google\\NearbyShare\\nearby_share.exe      N/A      |\n",
      "|    0   N/A  N/A     23816    C+G   ...k6g\\QuickControls\\QuickControls.exe      N/A      |\n",
      "|    0   N/A  N/A     23864    C+G   ...US\\ArmouryDevice\\asus_framework.exe      N/A      |\n",
      "|    0   N/A  N/A     29404    C+G   ...on\\123.0.2420.65\\msedgewebview2.exe      N/A      |\n",
      "+-----------------------------------------------------------------------------------------+\n"
     ]
    }
   ],
   "source": [
    "# check your Nvidia GPU\n",
    "!nvidia-smi"
   ]
  },
  {
   "cell_type": "markdown",
   "metadata": {},
   "source": [
    "### Install PyTorch macthing with your CUDA version\n",
    "You can check the compatible version of PyTorch with your CUDA version [here](https://pytorch.org/get-started/locally/)"
   ]
  },
  {
   "cell_type": "code",
   "execution_count": 20,
   "metadata": {},
   "outputs": [
    {
     "name": "stdout",
     "output_type": "stream",
     "text": [
      "Looking in indexes: https://download.pytorch.org/whl/cu121\n",
      "Requirement already satisfied: torch in c:\\python310\\lib\\site-packages (2.1.1+cu121)\n",
      "Requirement already satisfied: torchvision in c:\\python310\\lib\\site-packages (0.16.1)\n",
      "Requirement already satisfied: torchaudio in c:\\python310\\lib\\site-packages (2.1.1+cu121)\n",
      "Requirement already satisfied: filelock in c:\\python310\\lib\\site-packages (from torch) (3.13.1)\n",
      "Requirement already satisfied: typing-extensions in c:\\python310\\lib\\site-packages (from torch) (4.8.0)\n",
      "Requirement already satisfied: sympy in c:\\python310\\lib\\site-packages (from torch) (1.12)\n",
      "Requirement already satisfied: networkx in c:\\python310\\lib\\site-packages (from torch) (3.2.1)\n",
      "Requirement already satisfied: jinja2 in c:\\python310\\lib\\site-packages (from torch) (3.1.2)\n",
      "Requirement already satisfied: fsspec in c:\\python310\\lib\\site-packages (from torch) (2023.10.0)\n",
      "Requirement already satisfied: numpy in c:\\python310\\lib\\site-packages (from torchvision) (1.25.2)\n",
      "Requirement already satisfied: requests in c:\\python310\\lib\\site-packages (from torchvision) (2.31.0)\n",
      "Requirement already satisfied: pillow!=8.3.*,>=5.3.0 in c:\\python310\\lib\\site-packages (from torchvision) (10.1.0)\n",
      "Requirement already satisfied: MarkupSafe>=2.0 in c:\\python310\\lib\\site-packages (from jinja2->torch) (2.1.3)\n",
      "Requirement already satisfied: charset-normalizer<4,>=2 in c:\\python310\\lib\\site-packages (from requests->torchvision) (3.3.0)\n",
      "Requirement already satisfied: idna<4,>=2.5 in c:\\python310\\lib\\site-packages (from requests->torchvision) (3.4)\n",
      "Requirement already satisfied: urllib3<3,>=1.21.1 in c:\\python310\\lib\\site-packages (from requests->torchvision) (2.0.7)\n",
      "Requirement already satisfied: certifi>=2017.4.17 in c:\\python310\\lib\\site-packages (from requests->torchvision) (2023.7.22)\n",
      "Requirement already satisfied: mpmath>=0.19 in c:\\python310\\lib\\site-packages (from sympy->torch) (1.3.0)\n"
     ]
    },
    {
     "name": "stderr",
     "output_type": "stream",
     "text": [
      "WARNING: Ignoring invalid distribution - (c:\\python310\\lib\\site-packages)\n",
      "WARNING: Ignoring invalid distribution -ip (c:\\python310\\lib\\site-packages)\n",
      "WARNING: Ignoring invalid distribution -p (c:\\python310\\lib\\site-packages)\n",
      "WARNING: Ignoring invalid distribution - (c:\\python310\\lib\\site-packages)\n",
      "WARNING: Ignoring invalid distribution -ip (c:\\python310\\lib\\site-packages)\n",
      "WARNING: Ignoring invalid distribution -p (c:\\python310\\lib\\site-packages)\n"
     ]
    }
   ],
   "source": [
    "# for my machine (RTX 3050 Laptop)\n",
    "!pip install torch torchvision torchaudio --index-url https://download.pytorch.org/whl/cu121"
   ]
  },
  {
   "cell_type": "code",
   "execution_count": 21,
   "metadata": {},
   "outputs": [
    {
     "name": "stdout",
     "output_type": "stream",
     "text": [
      "2.2.1\n",
      "NVIDIA GeForce RTX 3050 Laptop GPU\n"
     ]
    }
   ],
   "source": [
    "# check CUDA device\n",
    "import torch\n",
    "print(torch.__version__)\n",
    "print(torch.cuda.get_device_name(0))"
   ]
  },
  {
   "cell_type": "markdown",
   "metadata": {},
   "source": [
    "### Other packages"
   ]
  },
  {
   "cell_type": "code",
   "execution_count": 221,
   "metadata": {},
   "outputs": [
    {
     "name": "stdout",
     "output_type": "stream",
     "text": [
      "Collecting ipywidgets\n",
      "  Using cached ipywidgets-8.1.2-py3-none-any.whl.metadata (2.4 kB)\n",
      "Requirement already satisfied: tqdm in c:\\python310\\lib\\site-packages (4.66.1)\n",
      "Requirement already satisfied: numpy in c:\\python310\\lib\\site-packages (1.25.2)\n",
      "Requirement already satisfied: matplotlib in c:\\python310\\lib\\site-packages (3.8.0)\n",
      "Requirement already satisfied: scikit-learn in c:\\python310\\lib\\site-packages (1.3.2)\n",
      "Requirement already satisfied: opencv-python in c:\\python310\\lib\\site-packages (4.8.1.78)\n",
      "Requirement already satisfied: pandas in c:\\python310\\lib\\site-packages (2.1.3)\n",
      "Requirement already satisfied: pillow in c:\\python310\\lib\\site-packages (10.1.0)\n",
      "Requirement already satisfied: kaggle in c:\\python310\\lib\\site-packages (1.5.16)\n",
      "Requirement already satisfied: ultralytics in c:\\python310\\lib\\site-packages (8.0.227)\n",
      "Requirement already satisfied: gdown in c:\\python310\\lib\\site-packages (5.1.0)\n",
      "Requirement already satisfied: PyYAML in c:\\python310\\lib\\site-packages (6.0.1)\n",
      "Requirement already satisfied: comm>=0.1.3 in c:\\users\\chant\\appdata\\roaming\\python\\python310\\site-packages (from ipywidgets) (0.2.0)\n",
      "Requirement already satisfied: ipython>=6.1.0 in c:\\users\\chant\\appdata\\roaming\\python\\python310\\site-packages (from ipywidgets) (8.17.2)\n",
      "Requirement already satisfied: traitlets>=4.3.1 in c:\\users\\chant\\appdata\\roaming\\python\\python310\\site-packages (from ipywidgets) (5.13.0)\n",
      "Requirement already satisfied: widgetsnbextension~=4.0.10 in c:\\python310\\lib\\site-packages (from ipywidgets) (4.0.10)\n",
      "Requirement already satisfied: jupyterlab-widgets~=3.0.10 in c:\\python310\\lib\\site-packages (from ipywidgets) (3.0.10)\n",
      "Requirement already satisfied: colorama in c:\\python310\\lib\\site-packages (from tqdm) (0.4.6)\n",
      "Requirement already satisfied: contourpy>=1.0.1 in c:\\python310\\lib\\site-packages (from matplotlib) (1.1.1)\n",
      "Requirement already satisfied: cycler>=0.10 in c:\\python310\\lib\\site-packages (from matplotlib) (0.12.1)\n",
      "Requirement already satisfied: fonttools>=4.22.0 in c:\\python310\\lib\\site-packages (from matplotlib) (4.43.1)\n",
      "Requirement already satisfied: kiwisolver>=1.0.1 in c:\\python310\\lib\\site-packages (from matplotlib) (1.4.5)\n",
      "Requirement already satisfied: packaging>=20.0 in c:\\python310\\lib\\site-packages (from matplotlib) (23.2)\n",
      "Requirement already satisfied: pyparsing>=2.3.1 in c:\\python310\\lib\\site-packages (from matplotlib) (3.1.1)\n",
      "Requirement already satisfied: python-dateutil>=2.7 in c:\\python310\\lib\\site-packages (from matplotlib) (2.8.2)\n",
      "Requirement already satisfied: scipy>=1.5.0 in c:\\python310\\lib\\site-packages (from scikit-learn) (1.11.3)\n",
      "Requirement already satisfied: joblib>=1.1.1 in c:\\python310\\lib\\site-packages (from scikit-learn) (1.3.2)\n",
      "Requirement already satisfied: threadpoolctl>=2.0.0 in c:\\python310\\lib\\site-packages (from scikit-learn) (3.2.0)\n",
      "Requirement already satisfied: pytz>=2020.1 in c:\\python310\\lib\\site-packages (from pandas) (2023.3.post1)\n",
      "Requirement already satisfied: tzdata>=2022.1 in c:\\python310\\lib\\site-packages (from pandas) (2023.3)\n",
      "Requirement already satisfied: six>=1.10 in c:\\python310\\lib\\site-packages (from kaggle) (1.16.0)\n",
      "Requirement already satisfied: certifi in c:\\python310\\lib\\site-packages (from kaggle) (2023.7.22)\n",
      "Requirement already satisfied: requests in c:\\python310\\lib\\site-packages (from kaggle) (2.31.0)\n",
      "Requirement already satisfied: python-slugify in c:\\python310\\lib\\site-packages (from kaggle) (8.0.1)\n",
      "Requirement already satisfied: urllib3 in c:\\python310\\lib\\site-packages (from kaggle) (2.0.7)\n",
      "Requirement already satisfied: bleach in c:\\python310\\lib\\site-packages (from kaggle) (6.1.0)\n",
      "Requirement already satisfied: torch>=1.8.0 in c:\\python310\\lib\\site-packages (from ultralytics) (2.1.1+cu121)\n",
      "Requirement already satisfied: torchvision>=0.9.0 in c:\\python310\\lib\\site-packages (from ultralytics) (0.16.1)\n",
      "Requirement already satisfied: seaborn>=0.11.0 in c:\\python310\\lib\\site-packages (from ultralytics) (0.13.0)\n",
      "Requirement already satisfied: psutil in c:\\users\\chant\\appdata\\roaming\\python\\python310\\site-packages (from ultralytics) (5.9.6)\n",
      "Requirement already satisfied: py-cpuinfo in c:\\python310\\lib\\site-packages (from ultralytics) (9.0.0)\n",
      "Requirement already satisfied: thop>=0.1.1 in c:\\python310\\lib\\site-packages (from ultralytics) (0.1.1.post2209072238)\n",
      "Requirement already satisfied: beautifulsoup4 in c:\\python310\\lib\\site-packages (from gdown) (4.12.2)\n",
      "Requirement already satisfied: filelock in c:\\python310\\lib\\site-packages (from gdown) (3.13.1)\n",
      "Requirement already satisfied: decorator in c:\\users\\chant\\appdata\\roaming\\python\\python310\\site-packages (from ipython>=6.1.0->ipywidgets) (5.1.1)\n",
      "Requirement already satisfied: jedi>=0.16 in c:\\users\\chant\\appdata\\roaming\\python\\python310\\site-packages (from ipython>=6.1.0->ipywidgets) (0.19.1)\n",
      "Requirement already satisfied: matplotlib-inline in c:\\users\\chant\\appdata\\roaming\\python\\python310\\site-packages (from ipython>=6.1.0->ipywidgets) (0.1.6)\n",
      "Requirement already satisfied: prompt-toolkit!=3.0.37,<3.1.0,>=3.0.30 in c:\\users\\chant\\appdata\\roaming\\python\\python310\\site-packages (from ipython>=6.1.0->ipywidgets) (3.0.39)\n",
      "Requirement already satisfied: pygments>=2.4.0 in c:\\users\\chant\\appdata\\roaming\\python\\python310\\site-packages (from ipython>=6.1.0->ipywidgets) (2.16.1)\n",
      "Requirement already satisfied: stack-data in c:\\users\\chant\\appdata\\roaming\\python\\python310\\site-packages (from ipython>=6.1.0->ipywidgets) (0.6.3)\n",
      "Requirement already satisfied: exceptiongroup in c:\\users\\chant\\appdata\\roaming\\python\\python310\\site-packages (from ipython>=6.1.0->ipywidgets) (1.1.3)\n",
      "Requirement already satisfied: charset-normalizer<4,>=2 in c:\\python310\\lib\\site-packages (from requests->kaggle) (3.3.0)\n",
      "Requirement already satisfied: idna<4,>=2.5 in c:\\python310\\lib\\site-packages (from requests->kaggle) (3.4)\n",
      "Requirement already satisfied: typing-extensions in c:\\python310\\lib\\site-packages (from torch>=1.8.0->ultralytics) (4.11.0)\n",
      "Requirement already satisfied: sympy in c:\\python310\\lib\\site-packages (from torch>=1.8.0->ultralytics) (1.12)\n",
      "Requirement already satisfied: networkx in c:\\python310\\lib\\site-packages (from torch>=1.8.0->ultralytics) (3.2.1)\n",
      "Requirement already satisfied: jinja2 in c:\\python310\\lib\\site-packages (from torch>=1.8.0->ultralytics) (3.1.2)\n",
      "Requirement already satisfied: fsspec in c:\\python310\\lib\\site-packages (from torch>=1.8.0->ultralytics) (2023.10.0)\n",
      "Requirement already satisfied: soupsieve>1.2 in c:\\python310\\lib\\site-packages (from beautifulsoup4->gdown) (2.5)\n",
      "Requirement already satisfied: webencodings in c:\\python310\\lib\\site-packages (from bleach->kaggle) (0.5.1)\n",
      "Requirement already satisfied: text-unidecode>=1.3 in c:\\python310\\lib\\site-packages (from python-slugify->kaggle) (1.3)\n",
      "Requirement already satisfied: PySocks!=1.5.7,>=1.5.6 in c:\\python310\\lib\\site-packages (from requests[socks]->gdown) (1.7.1)\n",
      "Requirement already satisfied: parso<0.9.0,>=0.8.3 in c:\\users\\chant\\appdata\\roaming\\python\\python310\\site-packages (from jedi>=0.16->ipython>=6.1.0->ipywidgets) (0.8.3)\n",
      "Requirement already satisfied: wcwidth in c:\\users\\chant\\appdata\\roaming\\python\\python310\\site-packages (from prompt-toolkit!=3.0.37,<3.1.0,>=3.0.30->ipython>=6.1.0->ipywidgets) (0.2.9)\n",
      "Requirement already satisfied: MarkupSafe>=2.0 in c:\\python310\\lib\\site-packages (from jinja2->torch>=1.8.0->ultralytics) (2.1.3)\n",
      "Requirement already satisfied: executing>=1.2.0 in c:\\users\\chant\\appdata\\roaming\\python\\python310\\site-packages (from stack-data->ipython>=6.1.0->ipywidgets) (2.0.1)\n",
      "Requirement already satisfied: asttokens>=2.1.0 in c:\\users\\chant\\appdata\\roaming\\python\\python310\\site-packages (from stack-data->ipython>=6.1.0->ipywidgets) (2.4.1)\n",
      "Requirement already satisfied: pure-eval in c:\\users\\chant\\appdata\\roaming\\python\\python310\\site-packages (from stack-data->ipython>=6.1.0->ipywidgets) (0.2.2)\n",
      "Requirement already satisfied: mpmath>=0.19 in c:\\python310\\lib\\site-packages (from sympy->torch>=1.8.0->ultralytics) (1.3.0)\n",
      "Using cached ipywidgets-8.1.2-py3-none-any.whl (139 kB)\n",
      "Installing collected packages: ipywidgets\n",
      "Successfully installed ipywidgets-8.1.2\n"
     ]
    },
    {
     "name": "stderr",
     "output_type": "stream",
     "text": [
      "WARNING: Ignoring invalid distribution - (c:\\python310\\lib\\site-packages)\n",
      "WARNING: Ignoring invalid distribution -ip (c:\\python310\\lib\\site-packages)\n",
      "WARNING: Ignoring invalid distribution -p (c:\\python310\\lib\\site-packages)\n",
      "WARNING: Ignoring invalid distribution - (c:\\python310\\lib\\site-packages)\n",
      "WARNING: Ignoring invalid distribution -ip (c:\\python310\\lib\\site-packages)\n",
      "WARNING: Ignoring invalid distribution -p (c:\\python310\\lib\\site-packages)\n"
     ]
    }
   ],
   "source": [
    "!pip install ipywidgets tqdm numpy matplotlib scikit-learn opencv-python pandas pillow kaggle ultralytics gdown PyYAML"
   ]
  },
  {
   "cell_type": "code",
   "execution_count": 10,
   "metadata": {},
   "outputs": [],
   "source": [
    "import os\n",
    "import shutil\n",
    "import zipfile\n",
    "import json\n",
    "import random\n",
    "\n",
    "import numpy as np\n",
    "import pandas as pd\n",
    "import torch\n",
    "import matplotlib.pyplot as plt\n",
    "import cv2\n",
    "import sklearn"
   ]
  },
  {
   "cell_type": "code",
   "execution_count": 15,
   "metadata": {},
   "outputs": [
    {
     "data": {
      "text/plain": [
       "<torch._C.Generator at 0x28512659670>"
      ]
     },
     "execution_count": 15,
     "metadata": {},
     "output_type": "execute_result"
    }
   ],
   "source": [
    "# set random seed\n",
    "random_seed = 42\n",
    "random.seed(random_seed)\n",
    "np.random.seed(random_seed)\n",
    "torch.manual_seed(random_seed)"
   ]
  },
  {
   "cell_type": "markdown",
   "metadata": {},
   "source": [
    "# Download dataset from Kaggle\n",
    "Please put the kaggle.json into the same directory of this notebook"
   ]
  },
  {
   "cell_type": "code",
   "execution_count": 24,
   "metadata": {},
   "outputs": [
    {
     "name": "stdout",
     "output_type": "stream",
     "text": [
      "Windows\n",
      "kaggle.json exists\n"
     ]
    }
   ],
   "source": [
    "# check if the kaggle.json file exists\n",
    "from sys import platform\n",
    "\n",
    "# Windows\n",
    "# C:\\Users\\<Windows-username>\\.kaggle\\kaggle.json\n",
    "if platform == \"win32\":\n",
    "    print(\"Windows\")\n",
    "    kaggle_json_path = os.path.join(os.path.expanduser(\"~\"), \".kaggle\", \"kaggle.json\")\n",
    "    if os.path.exists(kaggle_json_path):\n",
    "        print(\"kaggle.json exists\")\n",
    "    else:\n",
    "        print(\"kaggle.json does not exist\")\n",
    "        shutil.copy(\"./kaggle.json\", kaggle_json_path)\n",
    "        print(\"kaggle.json is copied to the directory\")\n",
    "\n",
    "# Linux\n",
    "# ~/.kaggle/kaggle.json\n",
    "elif platform == \"linux\" or platform == \"linux2\":\n",
    "    print(\"Linux\")\n",
    "    kaggle_json_path = os.path.join(os.path.expanduser(\"~\"), \".kaggle\", \"kaggle.json\")\n",
    "    if os.path.exists(kaggle_json_path):\n",
    "        print(\"kaggle.json exists\")\n",
    "    else:\n",
    "        print(\"kaggle.json does not exist\")\n",
    "        os.makedirs(os.path.join(os.path.expanduser(\"~\"), \".kaggle\"), exist_ok=True)\n",
    "        shutil.copy(\"./kaggle.json\", kaggle_json_path)\n",
    "        print(\"kaggle.json is copied to the directory\")\n",
    "\n",
    "# macOS\n",
    "# ~/.kaggle/kaggle.json\n",
    "elif platform == \"darwin\":\n",
    "    print(\"macOS\")\n",
    "    kaggle_json_path = os.path.join(os.path.expanduser(\"~\"), \".kaggle\", \"kaggle.json\")\n",
    "    if os.path.exists(kaggle_json_path):\n",
    "        print(\"kaggle.json exists\")\n",
    "    else:\n",
    "        print(\"kaggle.json does not exist\")\n",
    "        os.makedirs(os.path.join(os.path.expanduser(\"~\"), \".kaggle\"), exist_ok=True)\n",
    "        shutil.copy(\"./kaggle.json\", kaggle_json_path)\n",
    "        print(\"kaggle.json is copied to the directory\")"
   ]
  },
  {
   "cell_type": "code",
   "execution_count": 6,
   "metadata": {},
   "outputs": [
    {
     "name": "stdout",
     "output_type": "stream",
     "text": [
      "The dataset is already downloaded\n"
     ]
    }
   ],
   "source": [
    "# download and unzip the dataset\n",
    "if(os.path.exists(\"./rice-image-dataset-for-object-segmentation\")):\n",
    "    print(\"The dataset is already downloaded\")\n",
    "else:\n",
    "    !kaggle datasets download -d alikhalilit98/rice-image-dataset-for-object-segmentation\n",
    "    with zipfile.ZipFile(\"rice-image-dataset-for-object-segmentation.zip\", 'r') as zip_ref:\n",
    "        zip_ref.extractall(\"./rice-image-dataset-for-object-segmentation\")"
   ]
  },
  {
   "cell_type": "markdown",
   "metadata": {},
   "source": [
    "# Data Preprocessing\n",
    "The dataset is not appropriate for image segmentation because each image has a single object. We need to synthesize the dataset to have multiple objects in each image.\n",
    "\n",
    "The current format of the label is in the \"labelme\" format. We need to convert them to the YOLO segmentation format."
   ]
  },
  {
   "cell_type": "code",
   "execution_count": 28,
   "metadata": {},
   "outputs": [
    {
     "name": "stdout",
     "output_type": "stream",
     "text": [
      "./rice-image-dataset-for-object-segmentation/Rice_Image_Dataset_Seg\\Basmati\\basmati (12055).jpg\n",
      "255\n",
      "(250, 250, 3)\n"
     ]
    },
    {
     "data": {
      "image/png": "[encoded data removed]",
      "text/plain": [
       "<Figure size 640x480 with 1 Axes>"
      ]
     },
     "metadata": {},
     "output_type": "display_data"
    }
   ],
   "source": [
    "# let's take a look at the dataset\n",
    "base_path = \"./rice-image-dataset-for-object-segmentation/Rice_Image_Dataset_Seg\"\n",
    "type_list = [\"Arborio\", \"Basmati\", \"Ipsala\", \"Jasmine\", \"Karacadag\"]\n",
    "random_type_path = os.path.join(base_path, random.choice(type_list))\n",
    "random_image_path = os.path.join(random_type_path, random.choice([f for f in os.listdir(random_type_path) if f.endswith(\".jpg\")]))\n",
    "\n",
    "image = cv2.imread(random_image_path)\n",
    "# image = cv2.cvtColor(image, cv2.COLOR_BGR2GRAY)\n",
    "plt.imshow(image)\n",
    "print(random_image_path)\n",
    "\n",
    "print(np.max(image))\n",
    "print(image.shape)"
   ]
  },
  {
   "cell_type": "code",
   "execution_count": 57,
   "metadata": {},
   "outputs": [
    {
     "data": {
      "text/plain": [
       "{'version': '5.0.2',\n",
       " 'flags': {},\n",
       " 'shapes': [{'label': 'Ipsala',\n",
       "   'points': [[63, 62],\n",
       "    [62, 63],\n",
       "    [59, 63],\n",
       "    [59, 64],\n",
       "    [58, 65],\n",
       "    [56, 65],\n",
       "    [55, 66],\n",
       "    [54, 66],\n",
       "    [53, 67],\n",
       "    [52, 67],\n",
       "    [51, 68],\n",
       "    [50, 68],\n",
       "    [48, 70],\n",
       "    [47, 70],\n",
       "    [46, 71],\n",
       "    [44, 71],\n",
       "    [43, 72],\n",
       "    [43, 73],\n",
       "    [39, 77],\n",
       "    [39, 78],\n",
       "    [37, 80],\n",
       "    [37, 81],\n",
       "    [35, 83],\n",
       "    [35, 85],\n",
       "    [33, 87],\n",
       "    [33, 100],\n",
       "    [34, 101],\n",
       "    [34, 102],\n",
       "    [35, 103],\n",
       "    [35, 104],\n",
       "    [37, 106],\n",
       "    [37, 107],\n",
       "    [39, 109],\n",
       "    [39, 110],\n",
       "    [41, 112],\n",
       "    [42, 112],\n",
       "    [44, 114],\n",
       "    [45, 114],\n",
       "    [56, 125],\n",
       "    [58, 125],\n",
       "    [63, 130],\n",
       "    [64, 130],\n",
       "    [65, 131],\n",
       "    [66, 131],\n",
       "    [69, 134],\n",
       "    [71, 134],\n",
       "    [72, 135],\n",
       "    [73, 135],\n",
       "    [75, 137],\n",
       "    [76, 137],\n",
       "    [78, 139],\n",
       "    [80, 139],\n",
       "    [82, 141],\n",
       "    [84, 141],\n",
       "    [85, 142],\n",
       "    [85, 143],\n",
       "    [86, 143],\n",
       "    [88, 145],\n",
       "    [90, 145],\n",
       "    [92, 147],\n",
       "    [94, 147],\n",
       "    [97, 150],\n",
       "    [98, 150],\n",
       "    [101, 153],\n",
       "    [102, 153],\n",
       "    [103, 154],\n",
       "    [105, 154],\n",
       "    [106, 155],\n",
       "    [107, 155],\n",
       "    [108, 156],\n",
       "    [109, 156],\n",
       "    [110, 157],\n",
       "    [112, 157],\n",
       "    [113, 158],\n",
       "    [114, 158],\n",
       "    [115, 159],\n",
       "    [116, 159],\n",
       "    [118, 161],\n",
       "    [120, 161],\n",
       "    [121, 162],\n",
       "    [122, 162],\n",
       "    [124, 164],\n",
       "    [125, 164],\n",
       "    [126, 165],\n",
       "    [128, 165],\n",
       "    [130, 167],\n",
       "    [131, 167],\n",
       "    [132, 168],\n",
       "    [134, 168],\n",
       "    [135, 169],\n",
       "    [136, 169],\n",
       "    [138, 171],\n",
       "    [139, 171],\n",
       "    [140, 172],\n",
       "    [141, 172],\n",
       "    [142, 173],\n",
       "    [144, 173],\n",
       "    [145, 174],\n",
       "    [146, 174],\n",
       "    [147, 175],\n",
       "    [149, 175],\n",
       "    [150, 176],\n",
       "    [151, 176],\n",
       "    [152, 177],\n",
       "    [153, 177],\n",
       "    [154, 178],\n",
       "    [156, 178],\n",
       "    [157, 179],\n",
       "    [159, 179],\n",
       "    [160, 180],\n",
       "    [163, 180],\n",
       "    [164, 181],\n",
       "    [166, 181],\n",
       "    [167, 182],\n",
       "    [169, 182],\n",
       "    [170, 183],\n",
       "    [173, 183],\n",
       "    [174, 184],\n",
       "    [177, 184],\n",
       "    [178, 185],\n",
       "    [184, 185],\n",
       "    [185, 186],\n",
       "    [202, 186],\n",
       "    [203, 185],\n",
       "    [204, 185],\n",
       "    [205, 184],\n",
       "    [206, 184],\n",
       "    [207, 183],\n",
       "    [209, 183],\n",
       "    [213, 179],\n",
       "    [213, 178],\n",
       "    [214, 177],\n",
       "    [214, 171],\n",
       "    [212, 169],\n",
       "    [212, 168],\n",
       "    [211, 167],\n",
       "    [211, 166],\n",
       "    [210, 165],\n",
       "    [210, 164],\n",
       "    [209, 163],\n",
       "    [209, 162],\n",
       "    [208, 161],\n",
       "    [208, 160],\n",
       "    [207, 159],\n",
       "    [207, 158],\n",
       "    [206, 157],\n",
       "    [206, 156],\n",
       "    [204, 154],\n",
       "    [204, 152],\n",
       "    [203, 151],\n",
       "    [203, 149],\n",
       "    [202, 148],\n",
       "    [202, 146],\n",
       "    [201, 145],\n",
       "    [201, 143],\n",
       "    [200, 142],\n",
       "    [200, 140],\n",
       "    [199, 139],\n",
       "    [199, 137],\n",
       "    [198, 136],\n",
       "    [198, 133],\n",
       "    [197, 132],\n",
       "    [197, 129],\n",
       "    [196, 128],\n",
       "    [196, 119],\n",
       "    [195, 118],\n",
       "    [195, 116],\n",
       "    [189, 110],\n",
       "    [188, 110],\n",
       "    [185, 107],\n",
       "    [184, 107],\n",
       "    [182, 105],\n",
       "    [181, 105],\n",
       "    [180, 104],\n",
       "    [179, 104],\n",
       "    [177, 102],\n",
       "    [176, 102],\n",
       "    [175, 101],\n",
       "    [174, 101],\n",
       "    [172, 99],\n",
       "    [171, 99],\n",
       "    [169, 97],\n",
       "    [168, 97],\n",
       "    [167, 96],\n",
       "    [166, 96],\n",
       "    [165, 95],\n",
       "    [164, 95],\n",
       "    [163, 94],\n",
       "    [162, 94],\n",
       "    [161, 93],\n",
       "    [160, 93],\n",
       "    [159, 92],\n",
       "    [158, 92],\n",
       "    [157, 91],\n",
       "    [156, 91],\n",
       "    [154, 89],\n",
       "    [153, 89],\n",
       "    [152, 88],\n",
       "    [151, 88],\n",
       "    [149, 86],\n",
       "    [147, 86],\n",
       "    [145, 84],\n",
       "    [143, 84],\n",
       "    [141, 82],\n",
       "    [140, 82],\n",
       "    [139, 81],\n",
       "    [138, 81],\n",
       "    [137, 80],\n",
       "    [136, 80],\n",
       "    [135, 79],\n",
       "    [134, 79],\n",
       "    [132, 77],\n",
       "    [131, 77],\n",
       "    [130, 76],\n",
       "    [129, 76],\n",
       "    [128, 75],\n",
       "    [127, 75],\n",
       "    [126, 74],\n",
       "    [125, 74],\n",
       "    [124, 73],\n",
       "    [123, 73],\n",
       "    [122, 72],\n",
       "    [120, 72],\n",
       "    [118, 70],\n",
       "    [116, 70],\n",
       "    [115, 69],\n",
       "    [113, 69],\n",
       "    [112, 68],\n",
       "    [110, 68],\n",
       "    [109, 67],\n",
       "    [108, 67],\n",
       "    [107, 66],\n",
       "    [104, 66],\n",
       "    [103, 65],\n",
       "    [101, 65],\n",
       "    [100, 64],\n",
       "    [95, 64],\n",
       "    [94, 63],\n",
       "    [89, 63],\n",
       "    [88, 62]],\n",
       "   'group_id': None,\n",
       "   'shape_type': 'polygon',\n",
       "   'flags': {}}],\n",
       " 'imagePath': 'Ipsala (10974).jpg',\n",
       " 'imageData': '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',\n",
       " 'imageHeight': 250,\n",
       " 'imageWidth': 250}"
      ]
     },
     "metadata": {},
     "output_type": "display_data"
    }
   ],
   "source": [
    "# label of the image\n",
    "random_json_path = random_image_path.replace(\".jpg\", \".json\")\n",
    "with open(random_json_path) as f:\n",
    "    data = json.load(f)\n",
    "    display(data)"
   ]
  },
  {
   "cell_type": "markdown",
   "metadata": {},
   "source": [
    "## YOLO segmentation format"
   ]
  },
  {
   "cell_type": "markdown",
   "metadata": {},
   "source": [
    "### The directory structure of the dataset should be as follows:\n",
    "```bash\n",
    "data\n",
    "├── images\n",
    "│   ├── train\n",
    "│   │   ├── 0.jpg\n",
    "│   │   ├── 1.jpg\n",
    "│   │   ├── ...\n",
    "│   ├── val\n",
    "│   │   ├── 0.jpg\n",
    "│   │   ├── 1.jpg\n",
    "│   │   ├── ...\n",
    "├── labels\n",
    "│   ├── train\n",
    "│   │   ├── 0.txt\n",
    "│   │   ├── 1.txt\n",
    "│   │   ├── ...\n",
    "│   ├── val\n",
    "│   │   ├── 0.txt\n",
    "│   │   ├── 1.txt\n",
    "│   │   ├── ...\n",
    "```\n",
    "\n"
   ]
  },
  {
   "cell_type": "code",
   "execution_count": 195,
   "metadata": {},
   "outputs": [],
   "source": [
    "from pathlib import Path\n",
    "Path(\"./dataset\").mkdir(parents=True, exist_ok=True)\n",
    "\n",
    "Path(\"./dataset/images\").mkdir(parents=True, exist_ok=True)\n",
    "Path(\"./dataset/images/train\").mkdir(parents=True, exist_ok=True)\n",
    "Path(\"./dataset/images/val\").mkdir(parents=True, exist_ok=True)\n",
    "\n",
    "Path(\"./dataset/labels\").mkdir(parents=True, exist_ok=True)\n",
    "Path(\"./dataset/labels/train\").mkdir(parents=True, exist_ok=True)\n",
    "Path(\"./dataset/labels/val\").mkdir(parents=True, exist_ok=True)"
   ]
  },
  {
   "cell_type": "markdown",
   "metadata": {},
   "source": [
    "### The format of the label files of YOLO segmentation should be as follows:\n",
    "```bash\n",
    "<cls-index> <x1> <y1> <x2> <y2> ... <xn> <yn>\n",
    "<cls-index> <x1> <y1> <x2> <y2> ... <xn> <yn>\n",
    "```\n",
    "Where:\n",
    "- `<cls-index>`: The index of the class in the class list.\n",
    "- `<x1> <y1> <x2> <y2> ... <xn> <yn>`: The coordinates of the polygon, normalized by width and height of the image."
   ]
  },
  {
   "cell_type": "code",
   "execution_count": 196,
   "metadata": {},
   "outputs": [],
   "source": [
    "# get list of path of images of each type\n",
    "base_path = \"./rice-image-dataset-for-object-segmentation/Rice_Image_Dataset_Seg\"\n",
    "arborio_list = [f for f in os.listdir(os.path.join(base_path, \"Arborio\")) if f.endswith(\".jpg\")]\n",
    "basmati_list = [f for f in os.listdir(os.path.join(base_path, \"Basmati\")) if f.endswith(\".jpg\")]\n",
    "ipsala_list = [f for f in os.listdir(os.path.join(base_path, \"Ipsala\")) if f.endswith(\".jpg\")]\n",
    "jasmine_list = [f for f in os.listdir(os.path.join(base_path, \"Jasmine\")) if f.endswith(\".jpg\")]\n",
    "karacadag_list = [f for f in os.listdir(os.path.join(base_path, \"Karacadag\")) if f.endswith(\".jpg\")]"
   ]
  },
  {
   "cell_type": "code",
   "execution_count": 197,
   "metadata": {},
   "outputs": [
    {
     "name": "stdout",
     "output_type": "stream",
     "text": [
      "Arboria: 15000\n",
      "Basmati: 15000\n",
      "Ipsala: 15000\n",
      "Jasmine: 15000\n",
      "Karacadag: 15000\n"
     ]
    }
   ],
   "source": [
    "# print the number of images of each type\n",
    "print(\"Arboria:\", len(arborio_list))\n",
    "print(\"Basmati:\", len(basmati_list))\n",
    "print(\"Ipsala:\", len(ipsala_list))\n",
    "print(\"Jasmine:\", len(jasmine_list))\n",
    "print(\"Karacadag:\", len(karacadag_list))"
   ]
  },
  {
   "cell_type": "code",
   "execution_count": 198,
   "metadata": {},
   "outputs": [],
   "source": [
    "# We will not use the entire dataset, since it is too large.\n",
    "# We will use only 6000 images of jasmine and 1500 for the rest of the types.\n",
    "\n",
    "random.seed(random_seed)\n",
    "\n",
    "# random pick 6000 images from jasmine with random seed\n",
    "jasmine_subset = random.sample(jasmine_list, 6000)\n",
    "jasmine_subset = list(map(lambda x: f\"Jasmine/{x}\", jasmine_subset))\n",
    "\n",
    "# random pick 1500 images from the rest of the types with random seed\n",
    "arborio_subset = random.sample(arborio_list, 1500)\n",
    "arborio_subset = list(map(lambda x: f\"Arborio/{x}\", arborio_subset))\n",
    "\n",
    "basmati_subset = random.sample(basmati_list, 1500)\n",
    "basmati_subset = list(map(lambda x: f\"Basmati/{x}\", basmati_subset))\n",
    "\n",
    "ipsala_subset = random.Random(random_seed).sample(ipsala_list, 1500)\n",
    "ipsala_subset = list(map(lambda x: f\"Ipsala/{x}\", ipsala_subset))\n",
    "\n",
    "karacadag_subset = random.sample(karacadag_list, 1500)\n",
    "karacadag_subset = list(map(lambda x: f\"Karacadag/{x}\", karacadag_subset))"
   ]
  },
  {
   "cell_type": "code",
   "execution_count": 199,
   "metadata": {},
   "outputs": [],
   "source": [
    "# split the dataset into train and validation sets\n",
    "from sklearn.model_selection import train_test_split\n",
    "\n",
    "# Jasmine\n",
    "jasmine_train, jasmine_val = train_test_split(jasmine_subset, test_size=0.1, random_state=random_seed)\n",
    "\n",
    "# Non-Jasmine\n",
    "arborio_train, arborio_val = train_test_split(arborio_subset, test_size=0.1, random_state=random_seed)\n",
    "basmati_train, basmati_val = train_test_split(basmati_subset, test_size=0.1, random_state=random_seed)\n",
    "ipsala_train, ipsala_val = train_test_split(ipsala_subset, test_size=0.1, random_state=random_seed)\n",
    "karacadag_train, karacadag_val = train_test_split(karacadag_subset, test_size=0.1, random_state=random_seed)\n",
    "\n",
    "non_jasmine_train = arborio_train + basmati_train + ipsala_train + karacadag_train\n",
    "non_jasmine_val = arborio_val + basmati_val + ipsala_val + karacadag_val"
   ]
  },
  {
   "cell_type": "code",
   "execution_count": 200,
   "metadata": {},
   "outputs": [
    {
     "name": "stdout",
     "output_type": "stream",
     "text": [
      "Jasmine Train: 5400\n",
      "Jasmine Val: 600\n",
      "Non-Jasmine Train: 5400\n",
      "Non-Jasmine Val: 600\n"
     ]
    }
   ],
   "source": [
    "print(\"Jasmine Train:\", len(jasmine_train))\n",
    "print(\"Jasmine Val:\", len(jasmine_val))\n",
    "print(\"Non-Jasmine Train:\", len(non_jasmine_train))\n",
    "print(\"Non-Jasmine Val:\", len(non_jasmine_val))"
   ]
  },
  {
   "cell_type": "markdown",
   "metadata": {},
   "source": [
    "## Synthesis data generation\n",
    "Since the dataset is not appropriate for image segmentation, we need to synthesize the dataset to have multiple objects in each image."
   ]
  },
  {
   "cell_type": "markdown",
   "metadata": {},
   "source": [
    "### We will randomly generate the following parameters: \n",
    "Number of rice grains => [20, 30, 40, 50]\n",
    "\n",
    "Ratio of Jasmine rice => [0.4, 0.5, 0.6, 0.7, 0.8]\n",
    "\n",
    "Size of the image (we will resize each rice image to 125*125) => [(1080, 1080), (1024, 768), (1280, 720)] # square, 4:3, 16:9\n",
    "\n",
    "Background color/texture => [black, dark gray, green, metal, wood]"
   ]
  },
  {
   "cell_type": "code",
   "execution_count": 32,
   "metadata": {},
   "outputs": [
    {
     "name": "stderr",
     "output_type": "stream",
     "text": [
      "Retrieving folder contents\n"
     ]
    },
    {
     "name": "stdout",
     "output_type": "stream",
     "text": [
      "Processing file 12xWj-d2pQXXGMvuwLRpQQMqoYi_BksbY fabric1.jpg\n",
      "Processing file 1kao4dbE27Vhh8iybyA_h_Mr3z-dZdCTh fabric2.jpg\n",
      "Processing file 152tXCyPDsFrjCluGsbXda7nry6i7Uroo metal1.jpg\n",
      "Processing file 13ecwU44XMnzG7SRV0bJX5AC4QIgLrw-G metal2.jpg\n"
     ]
    },
    {
     "name": "stderr",
     "output_type": "stream",
     "text": [
      "Retrieving folder contents completed\n",
      "Building directory structure\n",
      "Building directory structure completed\n",
      "Downloading...\n",
      "From: https://drive.google.com/uc?id=12xWj-d2pQXXGMvuwLRpQQMqoYi_BksbY\n",
      "To: c:\\Users\\chant\\Desktop\\CV_Project\\ComputerVision_STA_Project\\Texture\\fabric1.jpg\n",
      "100%|██████████| 24.4M/24.4M [00:00<00:00, 45.8MB/s]\n",
      "Downloading...\n",
      "From: https://drive.google.com/uc?id=1kao4dbE27Vhh8iybyA_h_Mr3z-dZdCTh\n",
      "To: c:\\Users\\chant\\Desktop\\CV_Project\\ComputerVision_STA_Project\\Texture\\fabric2.jpg\n",
      "100%|██████████| 5.31M/5.31M [00:00<00:00, 21.9MB/s]\n",
      "Downloading...\n",
      "From: https://drive.google.com/uc?id=152tXCyPDsFrjCluGsbXda7nry6i7Uroo\n",
      "To: c:\\Users\\chant\\Desktop\\CV_Project\\ComputerVision_STA_Project\\Texture\\metal1.jpg\n",
      "100%|██████████| 466k/466k [00:00<00:00, 3.62MB/s]\n",
      "Downloading...\n",
      "From: https://drive.google.com/uc?id=13ecwU44XMnzG7SRV0bJX5AC4QIgLrw-G\n",
      "To: c:\\Users\\chant\\Desktop\\CV_Project\\ComputerVision_STA_Project\\Texture\\metal2.jpg\n",
      "100%|██████████| 4.39M/4.39M [00:00<00:00, 14.1MB/s]\n",
      "Download completed\n"
     ]
    },
    {
     "data": {
      "text/plain": [
       "['c:\\\\Users\\\\chant\\\\Desktop\\\\CV_Project\\\\ComputerVision_STA_Project\\\\Texture\\\\fabric1.jpg',\n",
       " 'c:\\\\Users\\\\chant\\\\Desktop\\\\CV_Project\\\\ComputerVision_STA_Project\\\\Texture\\\\fabric2.jpg',\n",
       " 'c:\\\\Users\\\\chant\\\\Desktop\\\\CV_Project\\\\ComputerVision_STA_Project\\\\Texture\\\\metal1.jpg',\n",
       " 'c:\\\\Users\\\\chant\\\\Desktop\\\\CV_Project\\\\ComputerVision_STA_Project\\\\Texture\\\\metal2.jpg']"
      ]
     },
     "execution_count": 32,
     "metadata": {},
     "output_type": "execute_result"
    }
   ],
   "source": [
    "# download texture\n",
    "import gdown\n",
    "gdown.download_folder(\"https://drive.google.com/drive/folders/1rtXrai27tT2MA2vt8d4_dl7T94kkfnGT\")"
   ]
  },
  {
   "cell_type": "code",
   "execution_count": 201,
   "metadata": {},
   "outputs": [],
   "source": [
    "# synthesis parameters\n",
    "\n",
    "number_of_syn_train_images = 2000\n",
    "number_of_syn_val_images = 200\n",
    "\n",
    "syn_parameters = {\n",
    "    \"number_of_rice\": [20, 30, 40, 50],\n",
    "    \"ratio_of_jasmine\": [0.4, 0.5, 0.6, 0.7, 0.8],\n",
    "    \"size_of_image\": [(1080, 1080), (1024, 768), (1280, 720)],\n",
    "    \"texture\": [\"black\", \"darkgray\", \"green\", \"darkgreen\", \"metal1\", \"metal2\", \"fabric1\", \"fabric2\"]\n",
    "}"
   ]
  },
  {
   "cell_type": "code",
   "execution_count": 202,
   "metadata": {},
   "outputs": [],
   "source": [
    "from PIL import Image, ImageDraw\n",
    "\n",
    "def synthesisAndFormat(jasmine_dataset, non_jasmine_dataset, dataset_type, number_of_syn_images):\n",
    "    \n",
    "    if dataset_type not in [\"train\", \"val\"]:\n",
    "        raise ValueError(\"dataset_type must be either 'train' or 'val'\")\n",
    "    \n",
    "    random.seed(random_seed)\n",
    "    \n",
    "    for i in range(number_of_syn_images):\n",
    "        # randomize the parameters\n",
    "        number_of_rice = random.choice(syn_parameters[\"number_of_rice\"])\n",
    "        ratio_of_jasmine = random.choice(syn_parameters[\"ratio_of_jasmine\"])\n",
    "        size_of_image = random.choice(syn_parameters[\"size_of_image\"])\n",
    "        texture = random.choice(syn_parameters[\"texture\"])\n",
    "        # print(number_of_rice, ratio_of_jasmine, size_of_image, texture)\n",
    "\n",
    "        # determine the background texture\n",
    "        if texture == \"metal1\" or texture == \"metal2\" or texture == \"fabric1\" or texture == \"fabric2\":\n",
    "            texture_path = f\"./Texture/{texture}.jpg\"\n",
    "            background = Image.open(texture_path).resize(size_of_image)\n",
    "            \n",
    "        else:\n",
    "            background = Image.new(\"RGB\", size_of_image, color=texture)\n",
    "            \n",
    "            \n",
    "        # random pick jasmine and non-jasmine\n",
    "        number_of_jasmine = int(number_of_rice * ratio_of_jasmine)\n",
    "        number_of_non_jasmine = number_of_rice - number_of_jasmine\n",
    "        \n",
    "        picked_jasmine = random.sample(jasmine_dataset, number_of_jasmine)\n",
    "        picked_non_jasmine = random.sample(non_jasmine_dataset, number_of_non_jasmine)\n",
    "        \n",
    "        # draw the rices on the background\n",
    "        base_path = \"./rice-image-dataset-for-object-segmentation/Rice_Image_Dataset_Seg\"\n",
    "        img_save_path = f\"./dataset/images/{dataset_type}/syn_{i}.jpg\"\n",
    "        label_save_path = f\"./dataset/labels/{dataset_type}/syn_{i}.txt\"\n",
    "        \n",
    "        lines = []\n",
    "        \n",
    "        for image_name in picked_jasmine + picked_non_jasmine:\n",
    "            image_path = f\"{base_path}/{image_name}\"\n",
    "            json_path = image_path.replace(\".jpg\", \".json\")\n",
    "            \n",
    "            rice_image = Image.open(image_path).resize((125, 125)) # original image is (250, 250)\n",
    "            with open(json_path) as json_file:\n",
    "                data = json.load(json_file)\n",
    "                points = data[\"shapes\"][0][\"points\"]\n",
    "                label = 0 if data[\"shapes\"][0][\"label\"] == \"Jasmine\" else 1 # 0 for Jasmine, 1 for the rest\n",
    "                \n",
    "            resized_points = [(point[0]//2, point[1]//2) for point in points]\n",
    "            \n",
    "            # Create a new image with the same size as the original image, filled with black\n",
    "            mask = Image.new('L', (125, 125), 0)\n",
    "\n",
    "            # Draw the polygon defined by `resized_points` onto `mask` in white\n",
    "            ImageDraw.Draw(mask).polygon(resized_points, outline=1, fill=1)\n",
    "            \n",
    "            # Convert the mask to a NumPy array and scale it to the range [0, 255]\n",
    "            mask_np = np.array(mask) * 255\n",
    "            \n",
    "            # Use the mask to extract the segmented area from the original image\n",
    "            segmented_area = Image.fromarray(np.array(rice_image) * (mask_np[:, :, None] / 255).astype('uint8'))\n",
    "            \n",
    "            # paste the segmented area to the background\n",
    "            random_coor = (random.randint(0, size_of_image[0]-125), random.randint(0, size_of_image[1]-125))\n",
    "            background.paste(segmented_area, random_coor, mask=Image.fromarray(mask_np))\n",
    "            \n",
    "            # append the label to the lines\n",
    "            line = f\"{label}\"\n",
    "            for point in resized_points:\n",
    "                x = round((point[0] + random_coor[0]) / size_of_image[0], 4)\n",
    "                y = round((point[1] + random_coor[1]) / size_of_image[1], 4)\n",
    "                line += f\" {x} {y}\"\n",
    "            lines.append(line)\n",
    "            \n",
    "        # save the image and label\n",
    "        background.save(img_save_path)\n",
    "        with open(label_save_path, \"w\") as label_file:\n",
    "            label_file.writelines(\"\\n\".join(lines))    "
   ]
  },
  {
   "cell_type": "code",
   "execution_count": 203,
   "metadata": {},
   "outputs": [],
   "source": [
    "synthesisAndFormat(jasmine_train, non_jasmine_train, \"train\", number_of_syn_train_images)\n",
    "synthesisAndFormat(jasmine_val, non_jasmine_val, \"val\", number_of_syn_val_images)"
   ]
  },
  {
   "cell_type": "code",
   "execution_count": 204,
   "metadata": {},
   "outputs": [
    {
     "name": "stdout",
     "output_type": "stream",
     "text": [
      "number of train images 2000\n",
      "number of train labels 2000\n",
      "number of val images 200\n",
      "number of val labels 200\n"
     ]
    }
   ],
   "source": [
    "print(\"number of train images\", len(os.listdir(\"./dataset/images/train\")))\n",
    "print(\"number of train labels\", len(os.listdir(\"./dataset/labels/train\")))\n",
    "print(\"number of val images\", len(os.listdir(\"./dataset/images/val\")))\n",
    "print(\"number of val labels\", len(os.listdir(\"./dataset/labels/val\")))"
   ]
  },
  {
   "cell_type": "code",
   "execution_count": 218,
   "metadata": {},
   "outputs": [
    {
     "data": {
      "image/png": "[encoded data removed]",
      "text/plain": [
       "<Figure size 640x480 with 1 Axes>"
      ]
     },
     "metadata": {},
     "output_type": "display_data"
    }
   ],
   "source": [
    "# let's take a look at the synthesized images\n",
    "syn_image_path = random.choice(os.listdir(\"./dataset/images/train\"))\n",
    "random_image = cv2.imread(f\"./dataset/images/train/{syn_image_path}\")\n",
    "random_image = cv2.cvtColor(random_image, cv2.COLOR_BGR2RGB)\n",
    "plt.imshow(random_image)\n",
    "plt.show()"
   ]
  },
  {
   "cell_type": "markdown",
   "metadata": {},
   "source": [
    "### The format of the yaml file should be as follows:\n",
    "```bash\n",
    "# Train/val/test sets as 1) dir: path/to/imgs, 2) file: path/to/imgs.txt, or 3) list: [path/to/imgs1, path/to/imgs2, ..]\n",
    "path: ../datasets/coco8-seg  # dataset root dir\n",
    "train: images/train  # train images (relative to 'path') 4 images\n",
    "val: images/val  # val images (relative to 'path') 4 images\n",
    "test:  # test images (optional)\n",
    "\n",
    "# Classes (80 COCO classes)\n",
    "names:\n",
    "  0: person\n",
    "  1: bicycle\n",
    "  2: car\n",
    "  # ...\n",
    "  77: teddy bear\n",
    "  78: hair drier\n",
    "  79: toothbrush\n",
    "```\n",
    "\n",
    "[source](https://docs.ultralytics.com/datasets/segment/#ultralytics-yolo-format)"
   ]
  },
  {
   "cell_type": "code",
   "execution_count": 230,
   "metadata": {},
   "outputs": [],
   "source": [
    "import yaml\n",
    "\n",
    "full_path = os.path.abspath(\"dataset\")\n",
    "\n",
    "yaml_data = dict(\n",
    "    path = full_path,\n",
    "    train = \"images/train\",\n",
    "    val = \"images/val\",\n",
    "    names = [{0: \"Jasmine\"}, {1: \"Non-Jasmine\"}]\n",
    ")\n",
    "\n",
    "with open(\"dataset/data.yaml\", \"w\") as f:\n",
    "    yaml.dump(yaml_data, f, default_flow_style=False, sort_keys=False)"
   ]
  },
  {
   "cell_type": "markdown",
   "metadata": {},
   "source": [
    "# Training YOLO Segmentation model"
   ]
  },
  {
   "cell_type": "code",
   "execution_count": null,
   "metadata": {},
   "outputs": [],
   "source": [
    "from ultralytics import YOLO\n",
    "\n",
    "seg_model = YOLO(\"yolov8l-seg.pt\")\n",
    "\n",
    "yaml_full_path = full_path = os.path.abspath(\"./dataset/data.yaml\")\n",
    "trained_seg_model = seg_model.train(data=yaml_full_path, epochs=20, batch=8, imgsz=640, device=\"0\", project=\"rice_segmentation\", name=\"run1\", seed=random_seed)"
   ]
  }
 ],
 "metadata": {
  "kernelspec": {
   "display_name": "Python 3",
   "language": "python",
   "name": "python3"
  },
  "language_info": {
   "codemirror_mode": {
    "name": "ipython",
    "version": 3
   },
   "file_extension": ".py",
   "mimetype": "text/x-python",
   "name": "python",
   "nbconvert_exporter": "python",
   "pygments_lexer": "ipython3",
   "version": "3.11.8"
  }
 },
 "nbformat": 4,
 "nbformat_minor": 2
}
